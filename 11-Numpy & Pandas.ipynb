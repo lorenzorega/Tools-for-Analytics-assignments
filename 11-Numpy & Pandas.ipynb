{
 "cells": [
  {
   "cell_type": "markdown",
   "id": "753c84b0",
   "metadata": {},
   "source": [
    "Please read the following instructions thoroughly. Neglecting to do so may result in missed points.\n",
    "\n",
    "### Preamble\n",
    "**Reminder**: Homeworks are due by 11:59PM ET on Sundays.\n",
    "\n",
    "Before you turn this problem set in, make sure everything runs as expected. First, **restart the kernel** (in the menubar, select Kernel$\\rightarrow$Restart) and then **run all cells** (in the menubar, select Cell$\\rightarrow$Run All).\n",
    "\n",
    "### Naming conventions\n",
    "Be sure the filename of your notebook is in the following form:\n",
    "\n",
    "    <uni>_<assignment>_<details [optional]>.<extension>\n",
    "    \n",
    "For example:\n",
    "\n",
    "    lr3086_hw01.ipynb\n",
    "    lr3086_hw01_complete.ipynb\n",
    "    LR3086_HW01.ipynb\n",
    "    \n",
    "To rename a notebook, in the menubar, select File$\\rightarrow$Rename. The extension for notebook files, `.ipynb`, will already be appended to the filename, but will be hidden from view within the notebook.\n",
    "    \n",
    "This naming format allows for autograding of all assignments. If your files are not named with this format, you should expect a grade of zero for the assignment.\n",
    "\n",
    "Courseworks may rename your file to something like `lr3086_hw0-1.ipynb` if you resubmit your assignment. This is perfectly fine.\n",
    "\n",
    "### What Format To Submit In\n",
    "\n",
    "Most homeworks are in Jupyter notebooks. Once you've finished your homework, unless specified otherwise, please download your work as an `.ipynb` file to your local machine, then upload it to Courseworks when complete (in the menubar, select File$\\rightarrow$Download as$\\rightarrow$Notebook).\n",
    "\n",
    "**Failure to submit a Jupyter notebook will result in a grade of zero for the assignment.**\n",
    "\n",
    "### Grading\n",
    "\n",
    "Possible points on late assignments are deducted by 50% for each day they are late. For example, if you get 80% of the total possible credits on a homework but hand in that homework a day late, you would get 40%. Assignments two days late get zero points.\n",
    "\n",
    "Once solutions are posted and graded assignments are handed back, students have 1 week to bring their grading discrepancies to a CA for consideration of possible grading errors.\n",
    "\n",
    "Because grading is automated, please delete (or comment out) the `raise NotImplmeneted` code before attempting a problem.\n",
    "\n",
    "Empty un-editable cells in an assignment are there for a reason. They will be filled with tests by the automatic grader. Please do not attempt to remove them.\n",
    "\n",
    "### Getting Help\n",
    "\n",
    "Asking for help is a great way to increase your chance of success. However there are some rules. When asking for help (especially from a fellow student), *you can show your helper your code but you can not view theirs*. You work needs to be your own. You can not post screenshots of your current work to Ed Discussions or other tools used for getting help.\n",
    "\n",
    "If you need to reach out to a CA for help, please do so via Ed Discussions and not via email. Answers given via Ed Discussions will help you as well as other students. Thus, emails will always have a lower priority for response than Ed Discussions questions. If you do email the CA, please make a note of what section you are in. This helps us identify you in Courseworks faster.\n",
    "\n",
    "Finally, if you do not get a repsonse from a CA within 48 hours, you may email the professor."
   ]
  },
  {
   "cell_type": "markdown",
   "id": "98f619bb",
   "metadata": {},
   "source": [
    "---"
   ]
  },
  {
   "cell_type": "markdown",
   "id": "03ee6688",
   "metadata": {
    "deletable": false,
    "editable": false,
    "nbgrader": {
     "cell_type": "markdown",
     "checksum": "c9218c1647efdf2f7a45e0766bcd2f9f",
     "grade": false,
     "grade_id": "cell-9ab7c47c116dda99",
     "locked": true,
     "schema_version": 3,
     "solution": false,
     "task": false
    }
   },
   "source": [
    "# Homework 11\n",
    "\n",
    "Total questions: 6<br/>\n",
    "Total points: 6\n",
    "\n",
    "This notebook will ask you to do some simple data manipulation using pandas on an example dataset.\n",
    "\n",
    "The dataset used is provided in the first cell and is a subset of one known as the [Palmer penguins dataset](https://github.com/allisonhorst/palmerpenguins), containing collected data on penguins found on a number of islands in Antarctica. The labels of the dataframe below, accessible via a variable called `df`, are identifiers of each penguin observed."
   ]
  },
  {
   "cell_type": "code",
   "execution_count": 1,
   "id": "c73d4557",
   "metadata": {},
   "outputs": [],
   "source": [
    "# Execute this cell - but don't edit/delete\n",
    "import numpy as np\n",
    "import pandas as pd\n",
    "data = {\n",
    "    'species': {\n",
    "        4: 'Adelie',\n",
    "        118: 'Adelie',\n",
    "        160: 'Chinstrap',\n",
    "        163: 'Chinstrap',\n",
    "        177: 'Chinstrap',\n",
    "        37: 'Adelie',\n",
    "        291: 'Gentoo',\n",
    "        256: 'Gentoo',\n",
    "        147: 'Adelie',\n",
    "        179: 'Chinstrap',\n",
    "        38: 'Adelie',\n",
    "        207: 'Chinstrap',\n",
    "        257: 'Gentoo',\n",
    "        3: 'Adelie',\n",
    "        159: 'Chinstrap',\n",
    "        115: 'Adelie',\n",
    "        24: 'Adelie',\n",
    "        171: 'Chinstrap',\n",
    "        7: 'Adelie',\n",
    "        28: 'Adelie'\n",
    "    },\n",
    "    'island': {\n",
    "        4: 'Torgersen',\n",
    "        118: 'Torgersen',\n",
    "        160: 'Dream',\n",
    "        163: 'Dream',\n",
    "        177: 'Dream',\n",
    "        37: 'Dream',\n",
    "        291: 'Biscoe',\n",
    "        256: 'Biscoe',\n",
    "        147: 'Dream',\n",
    "        179: 'Dream',\n",
    "        38: 'Dream',\n",
    "        207: 'Dream',\n",
    "        257: 'Biscoe',\n",
    "        3: 'Torgersen',\n",
    "        159: 'Dream',\n",
    "        115: 'Biscoe',\n",
    "        24: 'Biscoe',\n",
    "        171: 'Dream',\n",
    "        7: 'Torgersen',\n",
    "        28: 'Biscoe'\n",
    "    },\n",
    "    'bill_length_mm': {\n",
    "        4: 36.7,\n",
    "        118: 35.7,\n",
    "        160: 46.0,\n",
    "        163: 51.7,\n",
    "        177: 52.0,\n",
    "        37: 42.2,\n",
    "        291: 46.4,\n",
    "        256: 42.6,\n",
    "        147: 36.6,\n",
    "        179: 49.5,\n",
    "        38: 37.6,\n",
    "        207: 52.2,\n",
    "        257: 44.4,\n",
    "        3: np.nan,\n",
    "        159: 51.3,\n",
    "        115: 42.7,\n",
    "        24: 38.8,\n",
    "        171: 49.2,\n",
    "        7: 39.2,\n",
    "        28: 37.9\n",
    "    },\n",
    "    'bill_depth_mm': {\n",
    "        4: 19.3,\n",
    "        118: 17.0,\n",
    "        160: 18.9,\n",
    "        163: 20.3,\n",
    "        177: 19.0,\n",
    "        37: 18.5,\n",
    "        291: 15.6,\n",
    "        256: 13.7,\n",
    "        147: 18.4,\n",
    "        179: 19.0,\n",
    "        38: 19.3,\n",
    "        207: 18.8,\n",
    "        257: 17.3,\n",
    "        3: np.nan,\n",
    "        159: 18.2,\n",
    "        115: 18.3,\n",
    "        24: 17.2,\n",
    "        171: 18.2,\n",
    "        7: 19.6,\n",
    "        28: 18.6\n",
    "    },\n",
    "    'flipper_length_mm': {\n",
    "        4: 193.0,\n",
    "        118: 189.0,\n",
    "        160: 195.0,\n",
    "        163: 194.0,\n",
    "        177: 197.0,\n",
    "        37: 180.0,\n",
    "        291: 221.0,\n",
    "        256: 213.0,\n",
    "        147: 184.0,\n",
    "        179: 200.0,\n",
    "        38: 181.0,\n",
    "        207: 197.0,\n",
    "        257: 219.0,\n",
    "        3: np.nan,\n",
    "        159: 197.0,\n",
    "        115: 196.0,\n",
    "        24: 180.0,\n",
    "        171: 195.0,\n",
    "        7: 195.0,\n",
    "        28: 172.0\n",
    "    },\n",
    "    'body_mass_g': {\n",
    "        4: 3450.0,\n",
    "        118: 3350.0,\n",
    "        160: 4150.0,\n",
    "        163: 3775.0,\n",
    "        177: 4150.0,\n",
    "        37: 3550.0,\n",
    "        291: 5000.0,\n",
    "        256: 4950.0,\n",
    "        147: 3475.0,\n",
    "        179: 3800.0,\n",
    "        38: 3300.0,\n",
    "        207: 3450.0,\n",
    "        257: 5250.0,\n",
    "        3: np.nan,\n",
    "        159: 3750.0,\n",
    "        115: 4075.0,\n",
    "        24: 3800.0,\n",
    "        171: 4400.0,\n",
    "        7: 4675.0,\n",
    "        28: 3150.0\n",
    "    },\n",
    "    'sex': {\n",
    "        4: 'Female',\n",
    "        118: 'Female',\n",
    "        160: 'Female',\n",
    "        163: 'Male',\n",
    "        177: 'Male',\n",
    "        37: 'Female',\n",
    "        291: 'Male',\n",
    "        256: 'Female',\n",
    "        147: 'Female',\n",
    "        179: 'Male',\n",
    "        38: 'Female',\n",
    "        207: 'Male',\n",
    "        257: 'Male',\n",
    "        3: np.nan,\n",
    "        159: 'Male',\n",
    "        115: 'Male',\n",
    "        24: 'Male',\n",
    "        171: 'Male',\n",
    "        7: 'Male',\n",
    "        28: 'Female'\n",
    "    }\n",
    "}\n",
    "df = pd.DataFrame(data)"
   ]
  },
  {
   "cell_type": "markdown",
   "id": "2773e87e",
   "metadata": {
    "deletable": false,
    "editable": false,
    "nbgrader": {
     "cell_type": "markdown",
     "checksum": "c5c9c4f4243ab7c9a21c26cd36a8b7a8",
     "grade": false,
     "grade_id": "cell-c5a1175bc7ab3577",
     "locked": true,
     "schema_version": 3,
     "solution": false,
     "task": false
    }
   },
   "source": [
    "## Question 1\n",
    "\n",
    "How many penguins are there in total of each species in the dataframe?\n",
    "\n",
    "Assign the answer to this question, which should be a `pandas.Series`, to a variable called `species_counts`.\n",
    "\n",
    "[1 point]"
   ]
  },
  {
   "cell_type": "code",
   "execution_count": 2,
   "id": "9676e153",
   "metadata": {
    "deletable": false,
    "nbgrader": {
     "cell_type": "code",
     "checksum": "1e499d776257a85eedeb28b1c6ca325d",
     "grade": false,
     "grade_id": "cell-018ceb0169b556e1",
     "locked": false,
     "schema_version": 3,
     "solution": true,
     "task": false
    }
   },
   "outputs": [],
   "source": [
    "# YOUR CODE HERE\n",
    "#raise NotImplementedError()\n",
    "species_counts=df[\"species\"].groupby(df[\"species\"]).count()\n",
    "\n",
    "#species_counts"
   ]
  },
  {
   "cell_type": "code",
   "execution_count": 3,
   "id": "9c6861f7",
   "metadata": {
    "deletable": false,
    "editable": false,
    "nbgrader": {
     "cell_type": "code",
     "checksum": "ccb81679088c5405203919691206dd7d",
     "grade": true,
     "grade_id": "cell-e8e84b6057673601",
     "locked": true,
     "points": 1,
     "schema_version": 3,
     "solution": false,
     "task": false
    }
   },
   "outputs": [],
   "source": [
    "# CELL INTENTIONALLY LEFT BLANK - DO NOT ALTER OR DELETE"
   ]
  },
  {
   "cell_type": "markdown",
   "id": "2e19921d",
   "metadata": {
    "deletable": false,
    "editable": false,
    "nbgrader": {
     "cell_type": "markdown",
     "checksum": "b07a0003204197e1dd06a9a3470b867f",
     "grade": false,
     "grade_id": "cell-4122f511d076d20d",
     "locked": true,
     "schema_version": 3,
     "solution": false,
     "task": false
    }
   },
   "source": [
    "## Question 2\n",
    "\n",
    "What row in the dataframe contains the penguin with the longest bill? The bill length is found in the column labelled `bill_length_mm`. Assign this row to a variable called `longest_bill`.\n",
    "\n",
    "[1 point]"
   ]
  },
  {
   "cell_type": "code",
   "execution_count": 4,
   "id": "e9d085ea",
   "metadata": {
    "deletable": false,
    "nbgrader": {
     "cell_type": "code",
     "checksum": "79e247810f4663c3e4c76d423a4b6215",
     "grade": false,
     "grade_id": "cell-45584e5dd3623762",
     "locked": false,
     "schema_version": 3,
     "solution": true,
     "task": false
    }
   },
   "outputs": [],
   "source": [
    "# YOUR CODE HERE\n",
    "#raise NotImplementedError()\n",
    "longest_bill=df.loc[[df[\"bill_length_mm\"].idxmax()]]\n",
    "\n",
    "#longest_bill\n"
   ]
  },
  {
   "cell_type": "code",
   "execution_count": 5,
   "id": "add8c251",
   "metadata": {
    "deletable": false,
    "editable": false,
    "nbgrader": {
     "cell_type": "code",
     "checksum": "9443ceff0db516504af3d91b0a7911b0",
     "grade": true,
     "grade_id": "cell-2a8e3b231e95ba56",
     "locked": true,
     "points": 1,
     "schema_version": 3,
     "solution": false,
     "task": false
    }
   },
   "outputs": [],
   "source": [
    "# CELL INTENTIONALLY LEFT BLANK - DO NOT ALTER OR DELETE"
   ]
  },
  {
   "cell_type": "markdown",
   "id": "ba899dc1",
   "metadata": {
    "deletable": false,
    "editable": false,
    "nbgrader": {
     "cell_type": "markdown",
     "checksum": "6de8dda88c8a025fab89e195adfb49dd",
     "grade": false,
     "grade_id": "cell-4f16debebe81bc89",
     "locked": true,
     "schema_version": 3,
     "solution": false,
     "task": false
    }
   },
   "source": [
    "## Question 3\n",
    "\n",
    "What are all of the penguins whose body mass is less than 4 kilograms? The body mass is found in the column labelled `body_mass_g`. Assign the answer as a dataframe, including all columns from the original dataframe, to a variable called `lightweight_penguins`.\n",
    "\n",
    "[1 point]"
   ]
  },
  {
   "cell_type": "code",
   "execution_count": 6,
   "id": "dd48f7de",
   "metadata": {
    "deletable": false,
    "nbgrader": {
     "cell_type": "code",
     "checksum": "bbf037dcb45d0932873814301164ef72",
     "grade": false,
     "grade_id": "cell-2753b1439e8b2e53",
     "locked": false,
     "schema_version": 3,
     "solution": true,
     "task": false
    }
   },
   "outputs": [],
   "source": [
    "# YOUR CODE HERE\n",
    "#raise NotImplementedError()\n",
    "lightweight_penguins=df[df[\"body_mass_g\"]<4000]\n",
    "\n",
    "#lightweight_penguins"
   ]
  },
  {
   "cell_type": "code",
   "execution_count": 7,
   "id": "497c121a",
   "metadata": {
    "deletable": false,
    "editable": false,
    "nbgrader": {
     "cell_type": "code",
     "checksum": "c7ddea7a4a29176bdbd5eeb1531ec472",
     "grade": true,
     "grade_id": "cell-734d3dcc22778c89",
     "locked": true,
     "points": 1,
     "schema_version": 3,
     "solution": false,
     "task": false
    }
   },
   "outputs": [],
   "source": [
    "# CELL INTENTIONALLY LEFT BLANK - DO NOT ALTER OR DELETE"
   ]
  },
  {
   "cell_type": "markdown",
   "id": "d3fbcb3b",
   "metadata": {
    "deletable": false,
    "editable": false,
    "nbgrader": {
     "cell_type": "markdown",
     "checksum": "ee15f7a59c69195e1864c00d53bf1907",
     "grade": false,
     "grade_id": "cell-f3306339521848fa",
     "locked": true,
     "schema_version": 3,
     "solution": false,
     "task": false
    }
   },
   "source": [
    "## Question 4\n",
    "\n",
    "What are the first 3 rows in the dataframe?\n",
    "\n",
    "Assign the answer to this question to a variable `first_3`.\n",
    "\n",
    "[1 point]"
   ]
  },
  {
   "cell_type": "code",
   "execution_count": 8,
   "id": "186bc2ef",
   "metadata": {
    "deletable": false,
    "nbgrader": {
     "cell_type": "code",
     "checksum": "fa4d59f0f096eb063f6187cefe3a4bdb",
     "grade": false,
     "grade_id": "cell-3214f5a7794ef79d",
     "locked": false,
     "schema_version": 3,
     "solution": true,
     "task": false
    }
   },
   "outputs": [],
   "source": [
    "# YOUR CODE HERE\n",
    "#raise NotImplementedError()\n",
    "\n",
    "first_3=df[:3]\n",
    "\n",
    "#first_3"
   ]
  },
  {
   "cell_type": "code",
   "execution_count": 9,
   "id": "804f9626",
   "metadata": {
    "deletable": false,
    "editable": false,
    "nbgrader": {
     "cell_type": "code",
     "checksum": "c8f07f3638f88479c2917c11adfa2404",
     "grade": true,
     "grade_id": "cell-4fdcd37bf54bc02f",
     "locked": true,
     "points": 1,
     "schema_version": 3,
     "solution": false,
     "task": false
    }
   },
   "outputs": [],
   "source": [
    "# CELL INTENTIONALLY LEFT BLANK - DO NOT ALTER OR DELETE"
   ]
  },
  {
   "cell_type": "markdown",
   "id": "66a9df93",
   "metadata": {
    "deletable": false,
    "editable": false,
    "nbgrader": {
     "cell_type": "markdown",
     "checksum": "696b0b04f8ef725e37ba7e9144e707de",
     "grade": false,
     "grade_id": "cell-3183306c8b4ff37a",
     "locked": true,
     "schema_version": 3,
     "solution": false,
     "task": false
    }
   },
   "source": [
    "## Question 5\n",
    "\n",
    "What is the minimum flipper length for all penguins living on Torgersen island?\n",
    "\n",
    "Assign the answer to a variable called `min_torgersen_flipper`.\n",
    "\n",
    "[1 point]"
   ]
  },
  {
   "cell_type": "code",
   "execution_count": 10,
   "id": "3bce7361",
   "metadata": {
    "deletable": false,
    "nbgrader": {
     "cell_type": "code",
     "checksum": "015e3d84dc530b33e6710464bea860a2",
     "grade": false,
     "grade_id": "cell-fa4e8f0ce3937592",
     "locked": false,
     "schema_version": 3,
     "solution": true,
     "task": false
    }
   },
   "outputs": [],
   "source": [
    "# YOUR CODE HERE\n",
    "#raise NotImplementedError()\n",
    "min_torgersen_flipper=df[df[\"island\"]=='Torgersen'].flipper_length_mm.min()\n",
    "\n",
    "\n",
    "#min_torgersen_flipper"
   ]
  },
  {
   "cell_type": "code",
   "execution_count": 11,
   "id": "eee5d8fe",
   "metadata": {
    "deletable": false,
    "editable": false,
    "nbgrader": {
     "cell_type": "code",
     "checksum": "fa6283117d9365a904ea1ab8f1a3b8cd",
     "grade": true,
     "grade_id": "cell-2f4e65b298c32488",
     "locked": true,
     "points": 1,
     "schema_version": 3,
     "solution": false,
     "task": false
    }
   },
   "outputs": [],
   "source": [
    "# CELL INTENTIONALLY LEFT BLANK - DO NOT ALTER OR DELETE"
   ]
  },
  {
   "cell_type": "markdown",
   "id": "1216d7a8",
   "metadata": {
    "deletable": false,
    "editable": false,
    "nbgrader": {
     "cell_type": "markdown",
     "checksum": "d01aa1e6e5a94d1fe0d84d8fd60a5eb6",
     "grade": false,
     "grade_id": "cell-61110e7c4cd62fc1",
     "locked": true,
     "schema_version": 3,
     "solution": false,
     "task": false
    }
   },
   "source": [
    "## Question 6\n",
    "\n",
    "Do penguins of the Adelie species have a mean flipper length that is longer or shorter than ones of the Chinstrap species?\n",
    "\n",
    "If they have longer mean flipper length, assign `True` to a variable called `adelie_longer`, otherwise assign `False` to it.\n",
    "\n",
    "[1 point]"
   ]
  },
  {
   "cell_type": "code",
   "execution_count": 12,
   "id": "198c35c6",
   "metadata": {
    "deletable": false,
    "nbgrader": {
     "cell_type": "code",
     "checksum": "b0ae83698fd58b06103e30df629384ac",
     "grade": false,
     "grade_id": "cell-8f4ae2bab04538e5",
     "locked": false,
     "schema_version": 3,
     "solution": true,
     "task": false
    }
   },
   "outputs": [],
   "source": [
    "# YOUR CODE HERE\n",
    "#raise NotImplementedError()\n",
    "\n",
    "#mean of Adelie species\n",
    "m_adelie=df[df['species']=='Adelie'].flipper_length_mm.mean()\n",
    "\n",
    "#mean of the Chinstrap species\n",
    "m_chin=df[df['species']=='Chinstrap'].flipper_length_mm.mean()\n",
    "\n",
    "if m_adelie>m_chin:\n",
    "    adelie_longer=True\n",
    "else:\n",
    "    adelie_longer=False\n",
    "\n",
    "#adelie_longer"
   ]
  },
  {
   "cell_type": "code",
   "execution_count": 13,
   "id": "d72e1436",
   "metadata": {
    "deletable": false,
    "editable": false,
    "nbgrader": {
     "cell_type": "code",
     "checksum": "12e25fbe01f4365b75a17ff0b7707d71",
     "grade": true,
     "grade_id": "cell-55819fdabc5594bd",
     "locked": true,
     "points": 1,
     "schema_version": 3,
     "solution": false,
     "task": false
    }
   },
   "outputs": [],
   "source": [
    "# CELL INTENTIONALLY LEFT BLANK - DO NOT ALTER OR DELETE"
   ]
  }
 ],
 "metadata": {
  "kernelspec": {
   "display_name": "Python 3 (ipykernel)",
   "language": "python",
   "name": "python3"
  },
  "language_info": {
   "codemirror_mode": {
    "name": "ipython",
    "version": 3
   },
   "file_extension": ".py",
   "mimetype": "text/x-python",
   "name": "python",
   "nbconvert_exporter": "python",
   "pygments_lexer": "ipython3",
   "version": "3.9.12"
  }
 },
 "nbformat": 4,
 "nbformat_minor": 5
}

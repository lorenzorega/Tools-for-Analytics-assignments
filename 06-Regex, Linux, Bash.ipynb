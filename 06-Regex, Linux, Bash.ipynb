{
 "cells": [
  {
   "cell_type": "markdown",
   "id": "261d070f",
   "metadata": {},
   "source": [
    "Please read the following instructions thoroughly. Neglecting to do so may result in missed points.\n",
    "\n",
    "### Preamble\n",
    "**Reminder**: Homeworks are due by 11:59PM ET on Sundays.\n",
    "\n",
    "Before you turn this problem set in, make sure everything runs as expected. First, **restart the kernel** (in the menubar, select Kernel$\\rightarrow$Restart) and then **run all cells** (in the menubar, select Cell$\\rightarrow$Run All).\n",
    "\n",
    "### Naming conventions\n",
    "Be sure the filename of your notebook is in the following form:\n",
    "\n",
    "    <uni>_<assignment>_<details [optional]>.<extension>\n",
    "    \n",
    "For example:\n",
    "\n",
    "    lr3086_hw01.ipynb\n",
    "    lr3086_hw01_complete.ipynb\n",
    "    LR3086_HW01.ipynb\n",
    "    \n",
    "To rename a notebook, in the menubar, select File$\\rightarrow$Rename. The extension for notebook files, `.ipynb`, will already be appended to the filename, but will be hidden from view within the notebook.\n",
    "    \n",
    "This naming format allows for autograding of all assignments. If your files are not named with this format, you should expect a grade of zero for the assignment.\n",
    "\n",
    "Courseworks may rename your file to something like `lr3086_hw0-1.ipynb` if you resubmit your assignment. This is perfectly fine.\n",
    "\n",
    "### What Format To Submit In\n",
    "\n",
    "Most homeworks are in Jupyter notebooks. Once you've finished your homework, unless specified otherwise, please download your work as an `.ipynb` file to your local machine, then upload it to Courseworks when complete (in the menubar, select File$\\rightarrow$Download as$\\rightarrow$Notebook).\n",
    "\n",
    "**Failure to submit a Jupyter notebook will result in a grade of zero for the assignment.**\n",
    "\n",
    "### Grading\n",
    "\n",
    "Possible points on late assignments are deducted by 50% for each day they are late. For example, if you get 80% of the total possible credits on a homework but hand in that homework a day late, you would get 40%. Assignments two days late get zero points.\n",
    "\n",
    "Once solutions are posted and graded assignments are handed back, students have 1 week to bring their grading discrepancies to a CA for consideration of possible grading errors.\n",
    "\n",
    "Because grading is automated, please delete (or comment out) the `raise NotImplmeneted` code before attempting a problem.\n",
    "\n",
    "Empty un-editable cells in an assignment are there for a reason. They will be filled with tests by the automatic grader. Please do not attempt to remove them.\n",
    "\n",
    "### Getting Help\n",
    "\n",
    "Asking for help is a great way to increase your chance of success. However there are some rules. When asking for help (especially from a fellow student), *you can show your helper your code but you can not view theirs*. You work needs to be your own. You can not post screenshots of your current work to Ed Discussions or other tools used for getting help.\n",
    "\n",
    "If you need to reach out to a CA for help, please do so via Ed Discussions and not via email. Answers given via Ed Discussions will help you as well as other students. Thus, emails will always have a lower priority for response than Ed Discussions questions. If you do email the CA, please make a note of what section you are in. This helps us identify you in Courseworks faster.\n",
    "\n",
    "Finally, if you do not get a repsonse from a CA within 48 hours, you may email the professor."
   ]
  },
  {
   "cell_type": "markdown",
   "id": "5d31932d",
   "metadata": {},
   "source": [
    "---"
   ]
  },
  {
   "cell_type": "markdown",
   "id": "e47c38d2",
   "metadata": {
    "deletable": false,
    "editable": false,
    "nbgrader": {
     "cell_type": "markdown",
     "checksum": "35c143c610dba3fdfca437b039dd1e07",
     "grade": false,
     "grade_id": "cell-0227293090a7ba6e",
     "locked": true,
     "schema_version": 3,
     "solution": false,
     "task": false
    }
   },
   "source": [
    "# Homework 6: Regular Expressions\n",
    "\n",
    "Total questions: 5 <br/>\n",
    "Total points: 5"
   ]
  },
  {
   "cell_type": "markdown",
   "id": "1d9605d3",
   "metadata": {
    "deletable": false,
    "editable": false,
    "nbgrader": {
     "cell_type": "markdown",
     "checksum": "69c4ceb6b7002095b9cc3aff5807af9e",
     "grade": false,
     "grade_id": "cell-70eb0d398c811a92",
     "locked": true,
     "schema_version": 3,
     "solution": false,
     "task": false
    }
   },
   "source": [
    "## How to complete this homework\n",
    "\n",
    "In each answer, you'll be asked to define a single variable called `pattern` which should match the given prompt. **Note**: we're _not_ defining functions, just the variable `pattern`.\n",
    "\n",
    "As an example, if asked for a regular expression that matches the letter a contained anywhere within a string, you should write:\n",
    "\n",
    "```py\n",
    "pattern = \"a\"\n",
    "```\n",
    "\n",
    "as the sole contents of the cell. Recall that if you wish to use character classes like `\\w`, you likely will want to use a raw string like `r\"foo\\w\\wbar\"` so that you don't need to escape the slashes twice."
   ]
  },
  {
   "cell_type": "markdown",
   "id": "404b896e",
   "metadata": {
    "deletable": false,
    "editable": false,
    "nbgrader": {
     "cell_type": "markdown",
     "checksum": "ed4a96f93f1c17220768f9d8e46d107c",
     "grade": false,
     "grade_id": "cell-6390f2880064f074",
     "locked": true,
     "schema_version": 3,
     "solution": false,
     "task": false
    }
   },
   "source": [
    "## Question 1\n",
    "\n",
    "Write a regular expression pattern which matches the substring \"cat\" anywhere within a string. Your pattern should also successfully match the word \"caterpillar\" as well as \"scathing\".\n",
    "\n",
    "[1 point]"
   ]
  },
  {
   "cell_type": "code",
   "execution_count": 1,
   "id": "7f8870fc",
   "metadata": {
    "deletable": false,
    "nbgrader": {
     "cell_type": "code",
     "checksum": "6625184b4ff9630ebadf8e2ed57f0113",
     "grade": false,
     "grade_id": "cell-4215ecfba4aa763f",
     "locked": false,
     "schema_version": 3,
     "solution": true,
     "task": false
    }
   },
   "outputs": [],
   "source": [
    "# YOUR CODE HERE\n",
    "#raise NotImplementedError()\n",
    "pattern= r\"cat\"\n"
   ]
  },
  {
   "cell_type": "code",
   "execution_count": 2,
   "id": "16503edd",
   "metadata": {
    "deletable": false,
    "editable": false,
    "nbgrader": {
     "cell_type": "code",
     "checksum": "ce400bc7fea901d1b329ba299c08e74f",
     "grade": true,
     "grade_id": "cell-b92229c1be2c43b8",
     "locked": true,
     "points": 0.25,
     "schema_version": 3,
     "solution": false,
     "task": false
    }
   },
   "outputs": [],
   "source": [
    "### BEGIN TESTS\n",
    "import re\n",
    "assert re.search(pattern, \"cat\")\n",
    "### END TESTS"
   ]
  },
  {
   "cell_type": "code",
   "execution_count": 3,
   "id": "1190103c",
   "metadata": {
    "deletable": false,
    "editable": false,
    "nbgrader": {
     "cell_type": "code",
     "checksum": "55aa21da47f1d6c167cc65dd153991a6",
     "grade": true,
     "grade_id": "cell-a49dc667e28e368f",
     "locked": true,
     "points": 0.25,
     "schema_version": 3,
     "solution": false,
     "task": false
    }
   },
   "outputs": [],
   "source": [
    "### BEGIN TESTS\n",
    "assert re.search(pattern, \"caterpillar\")\n",
    "### END TESTS"
   ]
  },
  {
   "cell_type": "code",
   "execution_count": 4,
   "id": "c745202c",
   "metadata": {
    "deletable": false,
    "editable": false,
    "nbgrader": {
     "cell_type": "code",
     "checksum": "e4df3348944cf54a76983a8cf37a4700",
     "grade": true,
     "grade_id": "cell-0b6fcc066144f157",
     "locked": true,
     "points": 0.25,
     "schema_version": 3,
     "solution": false,
     "task": false
    }
   },
   "outputs": [],
   "source": [
    "### BEGIN TESTS\n",
    "assert re.search(pattern, \"scathing\")\n",
    "assert re.search(pattern, \"The cat jumped on the bed.\")\n",
    "### END TESTS"
   ]
  },
  {
   "cell_type": "code",
   "execution_count": 5,
   "id": "8cab2c9d",
   "metadata": {
    "deletable": false,
    "editable": false,
    "nbgrader": {
     "cell_type": "code",
     "checksum": "0956ec75fbbf45ea56e60d3ec7f23040",
     "grade": true,
     "grade_id": "cell-ddcc96e15fcae904",
     "locked": true,
     "points": 0.25,
     "schema_version": 3,
     "solution": false,
     "task": false
    }
   },
   "outputs": [],
   "source": [
    "### BEGIN TESTS\n",
    "assert not re.search(pattern, \"dog\")\n",
    "assert not re.search(pattern, \"aca\")\n",
    "assert not re.search(pattern, \"ca\")\n",
    "assert not re.search(pattern, \"at\")\n",
    "### END TESTS"
   ]
  },
  {
   "cell_type": "markdown",
   "id": "6c7417b5",
   "metadata": {
    "deletable": false,
    "editable": false,
    "nbgrader": {
     "cell_type": "markdown",
     "checksum": "d697ffbaca073545cdfb8bb066754d04",
     "grade": false,
     "grade_id": "cell-c6c99e3abb7679a5",
     "locked": true,
     "schema_version": 3,
     "solution": false,
     "task": false
    }
   },
   "source": [
    "## Question 2\n",
    "\n",
    "Write a regular expression which matches the substring \"cat\" at the beginning of a string, and not elsewhere. Your pattern should also successfully match the word \"caterpillar\" at the beginning of a string.\n",
    "\n",
    "[1 point]"
   ]
  },
  {
   "cell_type": "code",
   "execution_count": 6,
   "id": "e2a9adcd",
   "metadata": {
    "deletable": false,
    "nbgrader": {
     "cell_type": "code",
     "checksum": "066938b61996a5a8e17db68f1d00d1d2",
     "grade": false,
     "grade_id": "cell-f07df74b184bf808",
     "locked": false,
     "schema_version": 3,
     "solution": true,
     "task": false
    }
   },
   "outputs": [],
   "source": [
    "# YOUR CODE HERE\n",
    "#raise NotImplementedError()\n",
    "pattern= r\"^cat\""
   ]
  },
  {
   "cell_type": "code",
   "execution_count": 7,
   "id": "f8585194",
   "metadata": {
    "deletable": false,
    "editable": false,
    "nbgrader": {
     "cell_type": "code",
     "checksum": "cf0f94b8a60be8721f8e91351c310cef",
     "grade": true,
     "grade_id": "cell-9b8b67c776e84aef",
     "locked": true,
     "points": 0.5,
     "schema_version": 3,
     "solution": false,
     "task": false
    }
   },
   "outputs": [],
   "source": [
    "### BEGIN TESTS\n",
    "import re\n",
    "assert re.search(pattern, \"cat\")\n",
    "assert re.search(pattern, \"caterpillar\")\n",
    "### END TESTS"
   ]
  },
  {
   "cell_type": "code",
   "execution_count": 8,
   "id": "6c6c4710",
   "metadata": {
    "deletable": false,
    "editable": false,
    "nbgrader": {
     "cell_type": "code",
     "checksum": "7459953fcdc138013488d3ad182de323",
     "grade": true,
     "grade_id": "cell-2648975c8550ad70",
     "locked": true,
     "points": 0.5,
     "schema_version": 3,
     "solution": false,
     "task": false
    }
   },
   "outputs": [],
   "source": [
    "### BEGIN TESTS\n",
    "assert not re.search(pattern, \"scathing\")\n",
    "assert not re.search(pattern, \"The cat jumped on the bed.\")\n",
    "### END TESTS"
   ]
  },
  {
   "cell_type": "markdown",
   "id": "d89b8048",
   "metadata": {
    "deletable": false,
    "editable": false,
    "nbgrader": {
     "cell_type": "markdown",
     "checksum": "ef598e4243b936172a7baf45b8df45e4",
     "grade": false,
     "grade_id": "cell-aa1b87813fba898a",
     "locked": true,
     "schema_version": 3,
     "solution": false,
     "task": false
    }
   },
   "source": [
    "## Question 3\n",
    "\n",
    "In class, we mostly used the `re.search` function. The `re` module has an additional function called `re.findall` which, rather than finding only one place in a string that matches a given pattern, finds all of the places which match.\n",
    "\n",
    "Given a string like:\n",
    "\n",
    "```py\n",
    "example = \"\"\"\n",
    "2010-04-29 1984 ABC-123!\n",
    "Feb 18th, 2018. \n",
    "888-27-8949 2048-07-07\n",
    "\"\"\"\n",
    "```\n",
    "\n",
    "write a pattern which matches dates within the string which look like YYYY-MM-DD.\n",
    "\n",
    "Your answer should again be a single variable `pattern`, but such that `re.findall(pattern, example)` returns `[\"2010-04-29\", \"2048-07-07\"]` which are the two matching parts of the string.\n",
    "\n",
    "[1 point]"
   ]
  },
  {
   "cell_type": "code",
   "execution_count": 9,
   "id": "5bc133a4",
   "metadata": {
    "deletable": false,
    "nbgrader": {
     "cell_type": "code",
     "checksum": "11c07a67af3514eb9536d2b8ffb2d8d1",
     "grade": false,
     "grade_id": "cell-6572b7193413bba5",
     "locked": false,
     "schema_version": 3,
     "solution": true,
     "task": false
    }
   },
   "outputs": [],
   "source": [
    "# YOUR CODE HERE\n",
    "#raise NotImplementedError()\n",
    "pattern=r\"\\d{4}-\\d{2}-\\d{2}\"\n",
    "\n",
    "\n"
   ]
  },
  {
   "cell_type": "code",
   "execution_count": 10,
   "id": "0a11cae2",
   "metadata": {
    "deletable": false,
    "editable": false,
    "nbgrader": {
     "cell_type": "code",
     "checksum": "1076f7397b3422050965242b849f8175",
     "grade": true,
     "grade_id": "cell-56c8d107244c0f73",
     "locked": true,
     "points": 1,
     "schema_version": 3,
     "solution": false,
     "task": false
    }
   },
   "outputs": [],
   "source": [
    "### BEGIN TESTS\n",
    "string = \"\"\"\n",
    "2010-04-29 1984 ABC-123!\n",
    "Feb 18th, 2018. \n",
    "888-27-8949 2048-07-07\n",
    "\"\"\"\n",
    "expected = ['2010-04-29', '2048-07-07']\n",
    "actual = re.findall(pattern, string)\n",
    "assert expected == actual \n",
    "### END TESTS"
   ]
  },
  {
   "cell_type": "markdown",
   "id": "b9898257",
   "metadata": {
    "deletable": false,
    "editable": false,
    "nbgrader": {
     "cell_type": "markdown",
     "checksum": "6a53748a2c38bb123a96d58eb40b1fb0",
     "grade": false,
     "grade_id": "cell-b8903847dc77a6e1",
     "locked": true,
     "schema_version": 3,
     "solution": false,
     "task": false
    }
   },
   "source": [
    "## Question 4\n",
    "\n",
    "A building manager has textual logs of problems occuring in apartment units it manages.\n",
    "\n",
    "An individual message looks like:\n",
    "\n",
    "    Problem reported in apartment 3F with plumbing.\n",
    "\n",
    "or\n",
    "\n",
    "    Problem in apartment 12a with sink.\n",
    "\n",
    "or\n",
    "\n",
    "    Noise reported from apartment 8g.\n",
    "\n",
    "or\n",
    "\n",
    "    An apartment owner reports that apartment 4A has been broken into.\n",
    "\n",
    "Use a pattern with a capture group to extract the apartment information from the string -- include both the floor and unit, so for the first example, your pattern should have `re.search(pattern).group(1)` produce `\"3F\"`; and for the last one, `\"4A\".`\n",
    "\n",
    "If the message does not include an apartment unit, you should not match anything.\n",
    "\n",
    "[1 point]"
   ]
  },
  {
   "cell_type": "code",
   "execution_count": 11,
   "id": "3a3f09f3",
   "metadata": {
    "deletable": false,
    "nbgrader": {
     "cell_type": "code",
     "checksum": "e1c889aca6b6e00a3b65debbac3dddae",
     "grade": false,
     "grade_id": "cell-8f3ec6bfcd6dcf77",
     "locked": false,
     "schema_version": 3,
     "solution": true,
     "task": false
    }
   },
   "outputs": [],
   "source": [
    "# YOUR CODE HERE\n",
    "#raise NotImplementedError()\n",
    "pattern=r\"((\\d{1,})([a-z]|[A-Z]))\"\n"
   ]
  },
  {
   "cell_type": "code",
   "execution_count": 12,
   "id": "87afb348",
   "metadata": {
    "deletable": false,
    "editable": false,
    "nbgrader": {
     "cell_type": "code",
     "checksum": "5921c26009cc097c520559d1009f53fb",
     "grade": true,
     "grade_id": "cell-e0a4a3088fe5c5b5",
     "locked": true,
     "points": 0.5,
     "schema_version": 3,
     "solution": false,
     "task": false
    }
   },
   "outputs": [],
   "source": [
    "### BEGIN TESTS\n",
    "assert \"3F\" == re.search(pattern, \"Problem reported in apartment 3F with plumbing.\").group(1)\n",
    "assert \"12a\" == re.search(pattern, \"Problem in apartment 12a with sink.\").group(1)\n",
    "### END TESTS"
   ]
  },
  {
   "cell_type": "code",
   "execution_count": 13,
   "id": "fa57d8d5",
   "metadata": {
    "deletable": false,
    "editable": false,
    "nbgrader": {
     "cell_type": "code",
     "checksum": "e7edd7a0a4fbc9abcc8c4cc3c6a2ee97",
     "grade": true,
     "grade_id": "cell-28eeacdcb1be3574",
     "locked": true,
     "points": 0.25,
     "schema_version": 3,
     "solution": false,
     "task": false
    }
   },
   "outputs": [],
   "source": [
    "### BEGIN TESTS\n",
    "assert \"4A\" == re.search(pattern, \"An apartment owner reports that apartment 4A has been broken into.\").group(1)\n",
    "### END TESTS"
   ]
  },
  {
   "cell_type": "code",
   "execution_count": 14,
   "id": "45778ba8",
   "metadata": {
    "deletable": false,
    "editable": false,
    "nbgrader": {
     "cell_type": "code",
     "checksum": "97a8d331b36724e4986cb8f9c0522fb1",
     "grade": true,
     "grade_id": "cell-0a079abd72adb82c",
     "locked": true,
     "points": 0.25,
     "schema_version": 3,
     "solution": false,
     "task": false
    }
   },
   "outputs": [],
   "source": [
    "### BEGIN TESTS\n",
    "assert re.search(pattern, \"No incidents.\") is None\n",
    "### END TESTS"
   ]
  },
  {
   "cell_type": "markdown",
   "id": "af1d2852",
   "metadata": {
    "deletable": false,
    "editable": false,
    "nbgrader": {
     "cell_type": "markdown",
     "checksum": "e77453d82dd6ab03adfbfdf01c63de34",
     "grade": false,
     "grade_id": "cell-04a4ff0d740d4ec8",
     "locked": true,
     "schema_version": 3,
     "solution": false,
     "task": false
    }
   },
   "source": [
    "## Question 5\n",
    "\n",
    "Write a pattern which matches strings containing odd numbers anywhere within it, but not even ones.\n",
    "\n",
    "[1 point]"
   ]
  },
  {
   "cell_type": "code",
   "execution_count": 15,
   "id": "25cd6b83",
   "metadata": {
    "deletable": false,
    "nbgrader": {
     "cell_type": "code",
     "checksum": "e7b458ce09ee075be63187c296c509e0",
     "grade": false,
     "grade_id": "cell-45fe83c338be660d",
     "locked": false,
     "schema_version": 3,
     "solution": true,
     "task": false
    }
   },
   "outputs": [],
   "source": [
    "# YOUR CODE HERE\n",
    "#raise NotImplementedError()\n",
    "pattern=r\"\\d*[13579]\""
   ]
  },
  {
   "cell_type": "code",
   "execution_count": 16,
   "id": "8a140b9f",
   "metadata": {
    "deletable": false,
    "editable": false,
    "nbgrader": {
     "cell_type": "code",
     "checksum": "f161b82006c5ae73e141ca51da1ee083",
     "grade": true,
     "grade_id": "cell-cab2c19222bddaf2",
     "locked": true,
     "points": 0.25,
     "schema_version": 3,
     "solution": false,
     "task": false
    }
   },
   "outputs": [],
   "source": [
    "### BEGIN TESTS\n",
    "assert re.search(pattern, \"The number 1 matches\")\n",
    "### END TESTS"
   ]
  },
  {
   "cell_type": "code",
   "execution_count": 17,
   "id": "a8c33658",
   "metadata": {
    "deletable": false,
    "editable": false,
    "nbgrader": {
     "cell_type": "code",
     "checksum": "4a27dd6f1d67683b6423158489edeea7",
     "grade": true,
     "grade_id": "cell-3b2acf848a2387ca",
     "locked": true,
     "points": 0.25,
     "schema_version": 3,
     "solution": false,
     "task": false
    }
   },
   "outputs": [],
   "source": [
    "### BEGIN TESTS\n",
    "assert re.search(pattern, \"The number 9 matches\")\n",
    "### END TESTS"
   ]
  },
  {
   "cell_type": "code",
   "execution_count": 18,
   "id": "61c846ad",
   "metadata": {
    "deletable": false,
    "editable": false,
    "nbgrader": {
     "cell_type": "code",
     "checksum": "1a478ed924e7581ddc6c33a85bed81a6",
     "grade": true,
     "grade_id": "cell-e99b7e5763951347",
     "locked": true,
     "points": 0.25,
     "schema_version": 3,
     "solution": false,
     "task": false
    }
   },
   "outputs": [],
   "source": [
    "### BEGIN TESTS\n",
    "assert not re.search(pattern, \"2 does not match\")\n",
    "### END TESTS"
   ]
  },
  {
   "cell_type": "code",
   "execution_count": 19,
   "id": "9ed2c7dd",
   "metadata": {
    "deletable": false,
    "editable": false,
    "nbgrader": {
     "cell_type": "code",
     "checksum": "10245626b9207be2c41b28eb0f715635",
     "grade": true,
     "grade_id": "cell-31afb06827a674af",
     "locked": true,
     "points": 0.25,
     "schema_version": 3,
     "solution": false,
     "task": false
    }
   },
   "outputs": [],
   "source": [
    "### BEGIN TESTS\n",
    "assert re.search(pattern, \"5 does match\")\n",
    "### END TESTS"
   ]
  },
  {
   "cell_type": "code",
   "execution_count": null,
   "id": "c47f43ea",
   "metadata": {},
   "outputs": [],
   "source": []
  }
 ],
 "metadata": {
  "kernelspec": {
   "display_name": "Python 3 (ipykernel)",
   "language": "python",
   "name": "python3"
  },
  "language_info": {
   "codemirror_mode": {
    "name": "ipython",
    "version": 3
   },
   "file_extension": ".py",
   "mimetype": "text/x-python",
   "name": "python",
   "nbconvert_exporter": "python",
   "pygments_lexer": "ipython3",
   "version": "3.9.12"
  }
 },
 "nbformat": 4,
 "nbformat_minor": 5
}

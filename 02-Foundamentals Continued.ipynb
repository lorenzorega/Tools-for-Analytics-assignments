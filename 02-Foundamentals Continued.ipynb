{
 "cells": [
  {
   "cell_type": "markdown",
   "id": "8fbf2340",
   "metadata": {},
   "source": [
    "Please read the following instructions thoroughly. Neglecting to do so may result in missed points.\n",
    "\n",
    "### Preamble\n",
    "**Reminder**: Homeworks are due by 11:59PM ET on Sundays.\n",
    "\n",
    "Before you turn this problem set in, make sure everything runs as expected. First, **restart the kernel** (in the menubar, select Kernel$\\rightarrow$Restart) and then **run all cells** (in the menubar, select Cell$\\rightarrow$Run All).\n",
    "\n",
    "### Naming conventions\n",
    "Be sure the filename of your notebook is in the following form:\n",
    "\n",
    "    <uni>_<assignment>_<details [optional]>.<extension>\n",
    "    \n",
    "For example:\n",
    "\n",
    "    lr3086_hw01.ipynb\n",
    "    lr3086_hw01_complete.ipynb\n",
    "    LR3086_HW01.ipynb\n",
    "    \n",
    "To rename a notebook, in the menubar, select File$\\rightarrow$Rename. The extension for notebook files, `.ipynb`, will already be appended to the filename, but will be hidden from view within the notebook.\n",
    "    \n",
    "This naming format allows for autograding of all assignments. If your files are not named with this format, you should expect a grade of zero for the assignment.\n",
    "\n",
    "Courseworks may rename your file to something like `lr3086_hw0-1.ipynb` if you resubmit your assignment. This is perfectly fine.\n",
    "\n",
    "### What Format To Submit In\n",
    "\n",
    "Most homeworks are in Jupyter notebooks. Once you've finished your homework, unless specified otherwise, please download your work as an `.ipynb` file to your local machine, then upload it to Courseworks when complete (in the menubar, select File$\\rightarrow$Download as$\\rightarrow$Notebook).\n",
    "\n",
    "**Failure to submit a Jupyter notebook will result in a grade of zero for the assignment.**\n",
    "\n",
    "### Grading\n",
    "\n",
    "Possible points on late assignments are deducted by 50% for each day they are late. For example, if you get 80% of the total possible credits on a homework but hand in that homework a day late, you would get 40%. Assignments two days late get zero points.\n",
    "\n",
    "Once solutions are posted and graded assignments are handed back, students have 1 week to bring their grading discrepancies to a CA for consideration of possible grading errors.\n",
    "\n",
    "Because grading is automated, please delete (or comment out) the `raise NotImplmeneted` code before attempting a problem.\n",
    "\n",
    "Empty un-editable cells in an assignment are there for a reason. They will be filled with tests by the automatic grader. Please do not attempt to remove them.\n",
    "\n",
    "### Getting Help\n",
    "\n",
    "Asking for help is a great way to increase your chance of success. However there are some rules. When asking for help (especially from a fellow student), *you can show your helper your code but you can not view theirs*. You work needs to be your own. You can not post screenshots of your current work to Ed Discussions or other tools used for getting help.\n",
    "\n",
    "If you need to reach out to a CA for help, please do so via Ed Discussions and not via email. Answers given via Ed Discussions will help you as well as other students. Thus, emails will always have a lower priority for response than Ed Discussions questions. If you do email the CA, please make a note of what section you are in. This helps us identify you in Courseworks faster.\n",
    "\n",
    "Finally, if you do not get a repsonse from a CA within 48 hours, you may email the professor."
   ]
  },
  {
   "cell_type": "markdown",
   "id": "7b1fea06",
   "metadata": {},
   "source": [
    "---"
   ]
  },
  {
   "cell_type": "markdown",
   "id": "04135a8d",
   "metadata": {
    "deletable": false,
    "editable": false,
    "nbgrader": {
     "cell_type": "markdown",
     "checksum": "3fda662e9d6d3ce18c1a141c12216df5",
     "grade": false,
     "grade_id": "cell-a01a85b5168f7316",
     "locked": true,
     "schema_version": 3,
     "solution": false,
     "task": false
    }
   },
   "source": [
    "# Homework 2: Fundamentals Continued\n",
    "\n",
    "Total questions: 11<br/>\n",
    "Total points: 14\n",
    "\n",
    "Some notes about this homework:\n",
    "\n",
    "* You should not need any imports or additional libraries to implement the solutions this homework, except for **question 9**. However, you may import other modules or libraries if you wish to write any test code for your solutions.\n",
    "* Some problems have cells containing some code with `### BEGIN TESTS` and `### END TESTS`. These are you help you test your solutions. Execute the cells, and if they raise an error, your solution is not correct. Do not delete these cells. Note that we will run additional tests against your solutions for correctness."
   ]
  },
  {
   "cell_type": "markdown",
   "id": "7bd911d8",
   "metadata": {
    "deletable": false,
    "editable": false,
    "nbgrader": {
     "cell_type": "markdown",
     "checksum": "5d7b877ed5dd28352ef4e12b6c6d7fdc",
     "grade": false,
     "grade_id": "cell-5b8581a889104af6",
     "locked": true,
     "schema_version": 3,
     "solution": false,
     "task": false
    }
   },
   "source": [
    "## Question 1\n",
    "\n",
    "Define a function called `underline` which takes two parameters: a string, and then a character to use to underline the string with. The function should `return` a string with 2 lines denoted by newline characters, where the first line is the string provided and the second is the underline character repeated the same length as the string itself.\n",
    "\n",
    "Example input to `underline`:\n",
    "\n",
    "```py\n",
    "my_string = \"I love autumn!\"\n",
    "ch = \"+\"\n",
    "```\n",
    "\n",
    "Expected returned string from calling `underline`:\n",
    "\n",
    "```py\n",
    "'I love autumn!\\n++++++++++++++\\n'\n",
    "```\n",
    "\n",
    "There will be no credit awarded if you use the `print` function.\n",
    "\n",
    "\n",
    "[1 point]"
   ]
  },
  {
   "cell_type": "code",
   "execution_count": 1,
   "id": "ecf65119",
   "metadata": {
    "deletable": false,
    "nbgrader": {
     "cell_type": "code",
     "checksum": "c9e50c50152e6244b97c77cb8415042a",
     "grade": false,
     "grade_id": "cell-fa141663d0ed07d7",
     "locked": false,
     "schema_version": 3,
     "solution": true,
     "task": false
    }
   },
   "outputs": [],
   "source": [
    "def underline(string, ch):\n",
    "    # YOUR CODE HERE\n",
    "    underline=ch * len(string)\n",
    "    s=f\"{string}\\n{underline}\\n\"\n",
    "    return s\n",
    "    #raise NotImplementedError()\n",
    "    \n",
    "#underline(\"ciao\", \"+\")"
   ]
  },
  {
   "cell_type": "code",
   "execution_count": 2,
   "id": "c9c6c1d9",
   "metadata": {
    "deletable": false,
    "editable": false,
    "nbgrader": {
     "cell_type": "code",
     "checksum": "3df999c9f06f9b4829102aa5d114d212",
     "grade": true,
     "grade_id": "cell-b301d957b48b2da1",
     "locked": true,
     "points": 0,
     "schema_version": 3,
     "solution": false,
     "task": false
    }
   },
   "outputs": [],
   "source": [
    "### BEGIN TESTS\n",
    "# DO NOT DELETE OR OVERWRITE\n",
    "result = underline(\"I love autumn!\", \"+\")\n",
    "\n",
    "assert result == \"I love autumn!\\n++++++++++++++\\n\"\n",
    "### END TESTS"
   ]
  },
  {
   "cell_type": "code",
   "execution_count": 3,
   "id": "3561772d",
   "metadata": {
    "deletable": false,
    "editable": false,
    "nbgrader": {
     "cell_type": "code",
     "checksum": "a2d8bbad572fb4146fc3a53cbc8b70a6",
     "grade": true,
     "grade_id": "cell-d7e8fbd840494efa",
     "locked": true,
     "points": 0.5,
     "schema_version": 3,
     "solution": false,
     "task": false
    }
   },
   "outputs": [],
   "source": [
    "# CELL INTENTIONALLY EMPTY FOR HIDDEN TESTS - DO NOT DELETE OR OVERWRITE"
   ]
  },
  {
   "cell_type": "code",
   "execution_count": 4,
   "id": "6fa9aaa5",
   "metadata": {
    "deletable": false,
    "editable": false,
    "nbgrader": {
     "cell_type": "code",
     "checksum": "71edf603d27acdb6f7fd74d1ab382d18",
     "grade": true,
     "grade_id": "cell-f01bb0932efc46f6",
     "locked": true,
     "points": 0.5,
     "schema_version": 3,
     "solution": false,
     "task": false
    }
   },
   "outputs": [],
   "source": [
    "# CELL INTENTIONALLY EMPTY FOR HIDDEN TESTS - DO NOT DELETE OR OVERWRITE"
   ]
  },
  {
   "cell_type": "markdown",
   "id": "dda3fd2f",
   "metadata": {
    "deletable": false,
    "editable": false,
    "nbgrader": {
     "cell_type": "markdown",
     "checksum": "03ea12730eccc0da0083097af4a4d924",
     "grade": false,
     "grade_id": "cell-89aad7a8732a0b15",
     "locked": true,
     "schema_version": 3,
     "solution": false,
     "task": false
    }
   },
   "source": [
    "## Question 2\n",
    "\n",
    "Implement the function `evens` that returns all the even numbers between `0` and a given number `x`. Zero should be included in the result but `x` should not be included unless `x` is zero. You may return a `list` or any other container type. `x` may be negative, in which case an empty `list` must be returned.\n",
    "\n",
    "[1 point]"
   ]
  },
  {
   "cell_type": "code",
   "execution_count": 5,
   "id": "1896d883",
   "metadata": {
    "deletable": false,
    "nbgrader": {
     "cell_type": "code",
     "checksum": "0441cf6604ac63bc9503c1153cd9a54e",
     "grade": false,
     "grade_id": "cell-7d8a3589ac5f0ac4",
     "locked": false,
     "schema_version": 3,
     "solution": true,
     "task": false
    }
   },
   "outputs": [],
   "source": [
    "def evens(x):\n",
    "    # YOUR CODE HERE\n",
    "    my_list=list()\n",
    "    if x<0:\n",
    "        return my_list\n",
    "    elif x==0:\n",
    "        my_list.append(0)\n",
    "        return my_list\n",
    "    else:\n",
    "        for t in range(x):\n",
    "            if t%2==0:\n",
    "                my_list.append(t)\n",
    "        return my_list\n",
    "    \n",
    "#number=evens(3)\n",
    "#number\n",
    "    #raise NotImplementedError()"
   ]
  },
  {
   "cell_type": "code",
   "execution_count": 6,
   "id": "69fa9a6e",
   "metadata": {
    "deletable": false,
    "editable": false,
    "nbgrader": {
     "cell_type": "code",
     "checksum": "04baab4409a14421cb5fa71aa1c21303",
     "grade": true,
     "grade_id": "cell-0ec921ce986e1340",
     "locked": true,
     "points": 0.25,
     "schema_version": 3,
     "solution": false,
     "task": false
    }
   },
   "outputs": [],
   "source": [
    "# CELL INTENTIONALLY EMPTY FOR HIDDEN TESTS - DO NOT DELETE OR OVERWRITE"
   ]
  },
  {
   "cell_type": "code",
   "execution_count": 7,
   "id": "fc39e9e5",
   "metadata": {
    "deletable": false,
    "editable": false,
    "nbgrader": {
     "cell_type": "code",
     "checksum": "e0fbe8b4820cdcb6f961fed84838a0f1",
     "grade": true,
     "grade_id": "cell-3ed6b952ba18b807",
     "locked": true,
     "points": 0.25,
     "schema_version": 3,
     "solution": false,
     "task": false
    }
   },
   "outputs": [],
   "source": [
    "# CELL INTENTIONALLY EMPTY FOR HIDDEN TESTS - DO NOT DELETE OR OVERWRITE"
   ]
  },
  {
   "cell_type": "code",
   "execution_count": 8,
   "id": "30bea55c",
   "metadata": {
    "deletable": false,
    "editable": false,
    "nbgrader": {
     "cell_type": "code",
     "checksum": "4b9af8db39d181b96a31e14aaffe865a",
     "grade": true,
     "grade_id": "cell-5abd8faea8cd8101",
     "locked": true,
     "points": 0.25,
     "schema_version": 3,
     "solution": false,
     "task": false
    }
   },
   "outputs": [],
   "source": [
    "# CELL INTENTIONALLY EMPTY FOR HIDDEN TESTS - DO NOT DELETE OR OVERWRITE"
   ]
  },
  {
   "cell_type": "code",
   "execution_count": 9,
   "id": "50a5f4f7",
   "metadata": {
    "deletable": false,
    "editable": false,
    "nbgrader": {
     "cell_type": "code",
     "checksum": "f9905016c741dc7999703377d4c936f3",
     "grade": true,
     "grade_id": "cell-34be4caf495be8ac",
     "locked": true,
     "points": 0.25,
     "schema_version": 3,
     "solution": false,
     "task": false
    }
   },
   "outputs": [],
   "source": [
    "# CELL INTENTIONALLY EMPTY FOR HIDDEN TESTS - DO NOT DELETE OR OVERWRITE"
   ]
  },
  {
   "cell_type": "markdown",
   "id": "949090d0",
   "metadata": {
    "deletable": false,
    "editable": false,
    "nbgrader": {
     "cell_type": "markdown",
     "checksum": "38609961c6e22ad42140a476f334a424",
     "grade": false,
     "grade_id": "cell-0f6f52495e93d21c",
     "locked": true,
     "schema_version": 3,
     "solution": false,
     "task": false
    }
   },
   "source": [
    "## Question 3\n",
    "Write a function `compress` that takes a string of characters, counts each adjacent occurrence of a character, and produces a compressed string with each character and its count. For example:\n",
    "\n",
    "`'aaaabbbbcc'` would compress to `'a4b4c2'`.\n",
    "\n",
    "You can assume that the source string will be lowercase and that only consecutively adjacent characters should be compressed -- in otherwords, `aabbaa` should compress to `a2b2a2`, not `a4b2`.\n",
    "\n",
    "[2 points]"
   ]
  },
  {
   "cell_type": "code",
   "execution_count": 10,
   "id": "b03c6747",
   "metadata": {
    "deletable": false,
    "nbgrader": {
     "cell_type": "code",
     "checksum": "56633d24a20c431be7169bbd602ed21d",
     "grade": false,
     "grade_id": "cell-184a8b7b502b6efa",
     "locked": false,
     "schema_version": 3,
     "solution": true,
     "task": false
    }
   },
   "outputs": [],
   "source": [
    "\n",
    "\n",
    "def compress(letter_string):\n",
    "    char=\"\"\n",
    "    string=\"\"\n",
    "    counter=\"\"\n",
    "    for t in range(len(letter_string)):\n",
    "        if(char!=letter_string[t]):\n",
    "            string=f\"{string}{char}{counter}\"\n",
    "            char=letter_string[t]\n",
    "            counter=1\n",
    "        else:\n",
    "            counter=counter+1\n",
    "        \n",
    "    return f\"{string}{char}{counter}\"       \n",
    "            \n",
    "    # YOUR CODE HERE\n",
    "#compress('')\n",
    "    \n",
    "    #raise NotImplementedError()"
   ]
  },
  {
   "cell_type": "code",
   "execution_count": 11,
   "id": "bef7797a",
   "metadata": {
    "deletable": false,
    "editable": false,
    "nbgrader": {
     "cell_type": "code",
     "checksum": "4e2f932888cc0a28c1c221e47a074ff1",
     "grade": true,
     "grade_id": "cell-f12c5fbbb8ae6490",
     "locked": true,
     "points": 0.25,
     "schema_version": 3,
     "solution": false,
     "task": false
    }
   },
   "outputs": [],
   "source": [
    "### BEGIN TESTS\n",
    "# DO NOT DELETE OR OVERWRITE\n",
    "assert compress('aaaabbbbcccc') == 'a4b4c4'\n",
    "### END TESTS"
   ]
  },
  {
   "cell_type": "code",
   "execution_count": 12,
   "id": "cdaaf555",
   "metadata": {
    "deletable": false,
    "editable": false,
    "nbgrader": {
     "cell_type": "code",
     "checksum": "bf287c18a1491e8a49dcc5c07480452d",
     "grade": true,
     "grade_id": "cell-1639e9c5b3229082",
     "locked": true,
     "points": 0.25,
     "schema_version": 3,
     "solution": false,
     "task": false
    }
   },
   "outputs": [],
   "source": [
    "### BEGIN TESTS\n",
    "# DO NOT DELETE OR OVERWRITE\n",
    "assert compress('') == ''\n",
    "### END TESTS"
   ]
  },
  {
   "cell_type": "code",
   "execution_count": 13,
   "id": "449fd35d",
   "metadata": {
    "deletable": false,
    "editable": false,
    "nbgrader": {
     "cell_type": "code",
     "checksum": "6de7ede6e499ff4b0f8f40c6abe9ca1e",
     "grade": true,
     "grade_id": "cell-e545067e23350627",
     "locked": true,
     "points": 0.25,
     "schema_version": 3,
     "solution": false,
     "task": false
    }
   },
   "outputs": [],
   "source": [
    "### BEGIN TESTS\n",
    "# DO NOT DELETE OR OVERWRITE\n",
    "assert compress('cccddee') == 'c3d2e2'\n",
    "### END TESTS"
   ]
  },
  {
   "cell_type": "code",
   "execution_count": 14,
   "id": "2143500c",
   "metadata": {
    "deletable": false,
    "editable": false,
    "nbgrader": {
     "cell_type": "code",
     "checksum": "7fb55bf42a56f768b0b4564e77dd42c1",
     "grade": true,
     "grade_id": "cell-bad44bfc6357c312",
     "locked": true,
     "points": 0.25,
     "schema_version": 3,
     "solution": false,
     "task": false
    }
   },
   "outputs": [],
   "source": [
    "# CELL INTENTIONALLY EMPTY FOR HIDDEN TESTS - DO NOT DELETE OR OVERWRITE"
   ]
  },
  {
   "cell_type": "code",
   "execution_count": 15,
   "id": "7045db15",
   "metadata": {
    "deletable": false,
    "editable": false,
    "nbgrader": {
     "cell_type": "code",
     "checksum": "38a9bc8ddbcb4ea1961df49bcfa57cd2",
     "grade": true,
     "grade_id": "cell-9aa4c63d1d4c41cb",
     "locked": true,
     "points": 1,
     "schema_version": 3,
     "solution": false,
     "task": false
    }
   },
   "outputs": [],
   "source": [
    "# CELL INTENTIONALLY EMPTY FOR HIDDEN TESTS - DO NOT DELETE OR OVERWRITE"
   ]
  },
  {
   "cell_type": "markdown",
   "id": "bc36f4aa",
   "metadata": {
    "deletable": false,
    "editable": false,
    "nbgrader": {
     "cell_type": "markdown",
     "checksum": "45e3fb19d6e86539f9e7caf04b5a5cac",
     "grade": false,
     "grade_id": "cell-82ae2b9f6ef89337",
     "locked": true,
     "schema_version": 3,
     "solution": false,
     "task": false
    }
   },
   "source": [
    "## Question 4\n",
    "Write a function `endpoints` that takes a list of numbers (eg. `[5, 10, 15, 20, 25]`) and returns a new `list` of only the first and last elements of the given list (eg. `[5, 25]`). If the input list is `[5]`, the returned should be `[5,5]`. The function should return an empty list if an empty list is passed in.\n",
    "\n",
    "[1 point]"
   ]
  },
  {
   "cell_type": "code",
   "execution_count": 16,
   "id": "565daf7e",
   "metadata": {
    "deletable": false,
    "nbgrader": {
     "cell_type": "code",
     "checksum": "99bd8efa3b129007c71f2b4875b63679",
     "grade": false,
     "grade_id": "cell-4b0beddf6eecb07e",
     "locked": false,
     "schema_version": 3,
     "solution": true,
     "task": false
    }
   },
   "outputs": [],
   "source": [
    "def endpoints(numbers):\n",
    "    # YOUR CODE HERE\n",
    "    result=list()\n",
    "    if numbers==result:\n",
    "        return result\n",
    "    length=len(numbers)\n",
    "    if length==1:\n",
    "        return [numbers[0],numbers[0]]\n",
    "    else:\n",
    "        return [numbers[0], numbers[-1]]\n",
    "    #raise NotImplementedError()\n",
    "    \n",
    "#r=endpoints([5,10,15,35,25])\n",
    "#r"
   ]
  },
  {
   "cell_type": "code",
   "execution_count": 17,
   "id": "fabf0635",
   "metadata": {
    "deletable": false,
    "editable": false,
    "nbgrader": {
     "cell_type": "code",
     "checksum": "ed3ff5f6550c5b1f5ff3578e7af5289d",
     "grade": true,
     "grade_id": "cell-e336488834b9dcc5",
     "locked": true,
     "points": 0.25,
     "schema_version": 3,
     "solution": false,
     "task": false
    }
   },
   "outputs": [],
   "source": [
    "### BEGIN TESTS\n",
    "# DO NOT DELETE OR OVERWRITE\n",
    "assert endpoints([5, 10, 15, 20, 25]) == [5, 25]\n",
    "### END TESTS"
   ]
  },
  {
   "cell_type": "code",
   "execution_count": 18,
   "id": "8384bddf",
   "metadata": {
    "deletable": false,
    "editable": false,
    "nbgrader": {
     "cell_type": "code",
     "checksum": "22ac40b07eac35f729625b2ce16ce94c",
     "grade": true,
     "grade_id": "cell-bed663010f6a7325",
     "locked": true,
     "points": 0.25,
     "schema_version": 3,
     "solution": false,
     "task": false
    }
   },
   "outputs": [],
   "source": [
    "### BEGIN TESTS\n",
    "# DO NOT DELETE OR OVERWRITE\n",
    "assert endpoints([5]) == [5, 5]\n",
    "### END TESTS"
   ]
  },
  {
   "cell_type": "code",
   "execution_count": 19,
   "id": "8cb08612",
   "metadata": {
    "deletable": false,
    "editable": false,
    "nbgrader": {
     "cell_type": "code",
     "checksum": "20c1eb2307e5d65a32b1fcf321e3647c",
     "grade": true,
     "grade_id": "cell-ab0ea0b635f7b663",
     "locked": true,
     "points": 0.25,
     "schema_version": 3,
     "solution": false,
     "task": false
    }
   },
   "outputs": [],
   "source": [
    "### BEGIN TESTS\n",
    "# DO NOT DELETE OR OVERWRITE\n",
    "assert endpoints([]) == []\n",
    "### END TESTS"
   ]
  },
  {
   "cell_type": "code",
   "execution_count": 20,
   "id": "7c94fdce",
   "metadata": {
    "deletable": false,
    "editable": false,
    "nbgrader": {
     "cell_type": "code",
     "checksum": "08c62cb9bcb524ba5c09bfc9a1e82e48",
     "grade": true,
     "grade_id": "cell-2b6ecbf12b92a452",
     "locked": true,
     "points": 0.25,
     "schema_version": 3,
     "solution": false,
     "task": false
    }
   },
   "outputs": [],
   "source": [
    "# CELL INTENTIONALLY EMPTY FOR HIDDEN TESTS - DO NOT DELETE OR OVERWRITE"
   ]
  },
  {
   "cell_type": "markdown",
   "id": "0884053a",
   "metadata": {
    "deletable": false,
    "editable": false,
    "nbgrader": {
     "cell_type": "markdown",
     "checksum": "25c1cf0f9fae06a6ada7c15c8d7d471c",
     "grade": false,
     "grade_id": "cell-3c43def699b79e0f",
     "locked": true,
     "schema_version": 3,
     "solution": false,
     "task": false
    }
   },
   "source": [
    "## Question 5\n",
    "Write a function `common` that consumes two lists of numbers, and that produces a list that contains only the common elements (without duplicates). Make sure your program works on two lists of different sizes and returns the common elements in sorted ascending order.\n",
    "\n",
    "```py\n",
    "a = [1, 1, 2, 3, 5, 8, 13, 21, 34, 55, 89]\n",
    "b = [1, 2, 3, 4, 5, 6, 7, 8, 9, 10, 11, 12, 13]\n",
    "\n",
    "# result\n",
    "[1, 2, 3, 5, 8, 13]\n",
    "```\n",
    "\n",
    "[1 point]"
   ]
  },
  {
   "cell_type": "code",
   "execution_count": 21,
   "id": "9b9be411",
   "metadata": {
    "deletable": false,
    "nbgrader": {
     "cell_type": "code",
     "checksum": "00cda1cdbd4456d9f0cb11eba1bb3cb2",
     "grade": false,
     "grade_id": "cell-e0a0bee134bf6c41",
     "locked": false,
     "schema_version": 3,
     "solution": true,
     "task": false
    }
   },
   "outputs": [],
   "source": [
    "import collections\n",
    "\n",
    "def common(a, b):\n",
    "    # YOUR CODE HERE\n",
    "    numb_count = collections.Counter(a)\n",
    "    result=list()\n",
    "    for number in numb_count:\n",
    "        if number in b:\n",
    "            result.append(number)\n",
    "    result.sort()\n",
    "    return result\n",
    "     \n",
    "#a = [1, 1, 2, 3, 5, 8, 13, 21, 34, 55, 89]\n",
    "#b = [1, 2, 3, 4, 5, 6, 7, 8, 9, 10, 11, 12, 13]\n",
    "\n",
    "#h=common(b, a)\n",
    "#h\n",
    "\n",
    "   # raise NotImplementedError()"
   ]
  },
  {
   "cell_type": "code",
   "execution_count": 22,
   "id": "27f54306",
   "metadata": {
    "deletable": false,
    "editable": false,
    "nbgrader": {
     "cell_type": "code",
     "checksum": "f1ab79c847a70aa8e783157debcf9bab",
     "grade": true,
     "grade_id": "cell-ff1a9c45bd92afcd",
     "locked": true,
     "points": 0,
     "schema_version": 3,
     "solution": false,
     "task": false
    }
   },
   "outputs": [],
   "source": [
    "### BEGIN TESTS\n",
    "# DO NOT DELETE OR OVERWRITE\n",
    "a = [1, 1, 2, 3, 5, 8, 13, 21, 34, 55, 89]\n",
    "b = [1, 2, 3, 4, 5, 6, 7, 8, 9, 10, 11, 12, 13]\n",
    "\n",
    "assert [1, 2, 3, 5, 8, 13] == common(a, b)\n",
    "### END TESTS"
   ]
  },
  {
   "cell_type": "code",
   "execution_count": 23,
   "id": "d0eaf138",
   "metadata": {
    "deletable": false,
    "editable": false,
    "nbgrader": {
     "cell_type": "code",
     "checksum": "70e99a1d312c848effb32b0ac64948d3",
     "grade": true,
     "grade_id": "cell-3a9684fc4029bb39",
     "locked": true,
     "points": 0.25,
     "schema_version": 3,
     "solution": false,
     "task": false
    }
   },
   "outputs": [],
   "source": [
    "# CELL INTENTIONALLY EMPTY FOR HIDDEN TESTS - DO NOT DELETE OR OVERWRITE"
   ]
  },
  {
   "cell_type": "code",
   "execution_count": 24,
   "id": "9bf548de",
   "metadata": {
    "deletable": false,
    "editable": false,
    "nbgrader": {
     "cell_type": "code",
     "checksum": "58e4a0dc1f8e9201ad696dff1bf00f54",
     "grade": true,
     "grade_id": "cell-11a30cf3a405184f",
     "locked": true,
     "points": 0.25,
     "schema_version": 3,
     "solution": false,
     "task": false
    }
   },
   "outputs": [],
   "source": [
    "# CELL INTENTIONALLY EMPTY FOR HIDDEN TESTS - DO NOT DELETE OR OVERWRITE"
   ]
  },
  {
   "cell_type": "code",
   "execution_count": 25,
   "id": "5c95e427",
   "metadata": {
    "deletable": false,
    "editable": false,
    "nbgrader": {
     "cell_type": "code",
     "checksum": "d843800c6df297f8893fcaa7fe236a0c",
     "grade": true,
     "grade_id": "cell-9d48a711fc5c0aac",
     "locked": true,
     "points": 0.25,
     "schema_version": 3,
     "solution": false,
     "task": false
    }
   },
   "outputs": [],
   "source": [
    "# CELL INTENTIONALLY EMPTY FOR HIDDEN TESTS - DO NOT DELETE OR OVERWRITE"
   ]
  },
  {
   "cell_type": "code",
   "execution_count": 26,
   "id": "2da54217",
   "metadata": {
    "deletable": false,
    "editable": false,
    "nbgrader": {
     "cell_type": "code",
     "checksum": "e601924c45e45679814befe7a0cb29b6",
     "grade": true,
     "grade_id": "cell-dd36efae1fe39ac4",
     "locked": true,
     "points": 0.25,
     "schema_version": 3,
     "solution": false,
     "task": false
    }
   },
   "outputs": [],
   "source": [
    "# CELL INTENTIONALLY EMPTY FOR HIDDEN TESTS - DO NOT DELETE OR OVERWRITE"
   ]
  },
  {
   "cell_type": "markdown",
   "id": "38be77fc",
   "metadata": {
    "deletable": false,
    "editable": false,
    "nbgrader": {
     "cell_type": "markdown",
     "checksum": "6916bf09b2f013a1416e03a337ceae56",
     "grade": false,
     "grade_id": "cell-20ba1dec3e535671",
     "locked": true,
     "schema_version": 3,
     "solution": false,
     "task": false
    }
   },
   "source": [
    "## Question 6\n",
    "\n",
    "Define a function named `merge` that takes in two dictionaries and merges them into one dictionary. If the two dictionaries happen to have common keys, then the first dictionary should take precedent. The returned dictionary doesn't matter for this question.\n",
    "\n",
    "```py\n",
    "dict1 = {\"a\": 10, \"b\": 8}\n",
    "dict2 = {\"c\": 6, \"d\": 4}\n",
    "# result\n",
    "{\"a\": 10, \"b\": 8, \"c\": 6, \"d\": 4}\n",
    "\n",
    "dict3 = {\"a\": 10, \"b\": 8}\n",
    "dict4 = {\"b\": 12, \"c\": 8}\n",
    "# result\n",
    "{\"a\": 10, \"b\": 8, \"c\": 8}\n",
    "```\n",
    "\n",
    "[1 point]"
   ]
  },
  {
   "cell_type": "code",
   "execution_count": 27,
   "id": "4760c8f0",
   "metadata": {
    "deletable": false,
    "nbgrader": {
     "cell_type": "code",
     "checksum": "c626a1c137946b978b1ee41f1808f4a7",
     "grade": false,
     "grade_id": "cell-ace481ddf07aeed8",
     "locked": false,
     "schema_version": 3,
     "solution": true,
     "task": false
    }
   },
   "outputs": [],
   "source": [
    "def merge(dict1, dict2):\n",
    "    # YOUR CODE HERE\n",
    "    result=dict1\n",
    "    for element in dict2:\n",
    "        if element not in dict1:\n",
    "            result[element]=dict2.get(element)\n",
    "    \n",
    "    return result\n",
    "    \n",
    "\n",
    "   # raise NotImplementedError()"
   ]
  },
  {
   "cell_type": "code",
   "execution_count": 28,
   "id": "6cc18a52",
   "metadata": {
    "deletable": false,
    "editable": false,
    "nbgrader": {
     "cell_type": "code",
     "checksum": "378d3aabc3a2f643c43a0bee50e1fffc",
     "grade": true,
     "grade_id": "cell-d5dbb312cf5e6a7b",
     "locked": true,
     "points": 0.25,
     "schema_version": 3,
     "solution": false,
     "task": false
    }
   },
   "outputs": [],
   "source": [
    "### BEGIN TESTS\n",
    "# DO NOT DELETE OR OVERWRITE\n",
    "dict1 = {\"a\": 10, \"b\": 8}\n",
    "dict2 = {\"c\": 6, \"d\": 4}\n",
    "expected = {\"a\": 10, \"b\": 8, \"c\": 6, \"d\": 4}\n",
    "actual = merge(dict1, dict2)\n",
    "assert expected == actual\n",
    "### END TESTS"
   ]
  },
  {
   "cell_type": "code",
   "execution_count": 29,
   "id": "d39dac68",
   "metadata": {
    "deletable": false,
    "editable": false,
    "nbgrader": {
     "cell_type": "code",
     "checksum": "1c5338bddee83ccfced3e49a942a416f",
     "grade": true,
     "grade_id": "cell-20939ceef4565313",
     "locked": true,
     "points": 0.25,
     "schema_version": 3,
     "solution": false,
     "task": false
    }
   },
   "outputs": [],
   "source": [
    "### BEGIN TESTS\n",
    "# DO NOT DELETE OR OVERWRITE\n",
    "dict3 = {\"a\": 10, \"b\": 8}\n",
    "dict4 = {\"b\": 12, \"c\": 8}\n",
    "expected = {\"b\": 8, \"a\": 10, \"c\": 8}\n",
    "actual = merge(dict3, dict4)\n",
    "assert expected == actual\n",
    "### END TESTS"
   ]
  },
  {
   "cell_type": "code",
   "execution_count": 30,
   "id": "0fa77af0",
   "metadata": {
    "deletable": false,
    "editable": false,
    "nbgrader": {
     "cell_type": "code",
     "checksum": "dcf56b48d1cb455713700b9f0435dd10",
     "grade": true,
     "grade_id": "cell-89744c8383a81495",
     "locked": true,
     "points": 0.5,
     "schema_version": 3,
     "solution": false,
     "task": false
    }
   },
   "outputs": [],
   "source": [
    "# CELL INTENTIONALLY EMPTY FOR HIDDEN TESTS - DO NOT DELETE OR OVERWRITE"
   ]
  },
  {
   "cell_type": "markdown",
   "id": "d0e8dd49",
   "metadata": {
    "deletable": false,
    "editable": false,
    "nbgrader": {
     "cell_type": "markdown",
     "checksum": "41036e441009e9e6c9dddf21cc5190f1",
     "grade": false,
     "grade_id": "cell-b3ad93178a016633",
     "locked": true,
     "schema_version": 3,
     "solution": false,
     "task": false
    }
   },
   "source": [
    "## Question 7\n",
    "\n",
    "We have covered some fundamental string manipulation operations in class, such as `str.strip` and `str.replace`. There are [many many more](https://docs.python.org/3/library/stdtypes.html#string-methods) which you should familiarize yourself with.\n",
    "\n",
    "Because of the richness of these methods, parsing a string into meaningful subcomponents is often a breeze.\n",
    "\n",
    "Imagine a (multiline) string like:\n",
    "\n",
    "```py\n",
    "\"\"\"\n",
    "Columbia to Launch 25 Million Dollar AI-based Climate Modeling Center\n",
    "---------------------------------------------------------------------\n",
    "Author: Kim Martineau\n",
    "\n",
    "Funded by the National Science Foundation, the center will leverage big data and machine learning to improve climate projections.\n",
    "\n",
    "It should also motivate societies to invest in policies and infrastructure to confront rising seas and warmer temperatures.\n",
    "\"\"\"\n",
    "```\n",
    " \n",
    "Implement the `parse` function so that it parses the above news article snippet into:\n",
    "\n",
    "```py\n",
    "{\n",
    "    \"title\": \"Columbia to Launch 25 Million Dollar AI-based Climate Modeling Center\",\n",
    "    \"author\": \"Kim Martineau\",\n",
    "    \"body\": \"Funded by the National Science Foundation, the center will leverage big data and machine learning to improve climate projections.\\n\\nIt should also motivate societies to invest in policies and infrastructure to confront rising seas and warmer temperatures.\",\n",
    "}\n",
    "```\n",
    "i.e. a dict where the title of the article and its body have been extracted into two separate values.\n",
    "\n",
    "Articles may be missing (i.e. not have) an author. As another example:\n",
    "\n",
    "```py\n",
    "\"\"\"\n",
    "Columbia Pledges That All Future Campus Construction Will Be Fossil Free\n",
    "------------------------------------------------------------------------\n",
    "\n",
    "As Climate Week NYC begins, the university explores creating a fully electrified campus. The Columbia Climate School is university partner of the weeklong climate showcase.\n",
    "\"\"\"\n",
    "```\n",
    "\n",
    "should be parsed into:\n",
    "\n",
    "```\n",
    "{\n",
    "    \"title\": \"Columbia Pledges That All Future Campus Construction Will Be Fossil Free\",\n",
    "    \"author\": None,\n",
    "    \"body\": \"As Climate Week NYC begins, the university explores creating a fully electrified campus. The Columbia Climate School is university partner of the weeklong climate showcase.\",\n",
    "}\n",
    "```\n",
    "    \n",
    "You may assume that:\n",
    "\n",
    "* the title is always followed by a line which underlines it\n",
    "* the next line will begin with exactly the contents \"Author: \" followed by the author's name, if the article has an author\n",
    "* any further lines are the body of the article\n",
    "* the body of the article may contain multiple lines\n",
    "* leading and trailing whitespace around the body can be ignored\n",
    "\n",
    "[3 points]"
   ]
  },
  {
   "cell_type": "code",
   "execution_count": 31,
   "id": "21c1fe1b",
   "metadata": {
    "deletable": false,
    "nbgrader": {
     "cell_type": "code",
     "checksum": "046f6b46340f5d06af842fd7abc61fe8",
     "grade": false,
     "grade_id": "cell-7efd8eb3a945d729",
     "locked": false,
     "schema_version": 3,
     "solution": true,
     "task": false
    }
   },
   "outputs": [],
   "source": [
    "def parse(article):\n",
    "    # YOUR CODE HERE\n",
    "    art=article.strip()\n",
    "    titleEnd=art.find('\\n-')\n",
    "    result=dict()\n",
    "    title=\"\"\n",
    "    for x in range(titleEnd):\n",
    "        title=f\"{title}{art[x]}\"\n",
    "    \n",
    "    char=\"-\"\n",
    "    result[\"title\"]=title\n",
    "    art=art.replace(f\"{title}\\n{char*len(title)}\\n\", \"\")\n",
    "    vettore=art.split(\"\\n\",1)\n",
    "    author=vettore[0]\n",
    "    if author.find(\"Author:\")==0:\n",
    "        author=author.replace(\"Author: \",\"\")\n",
    "        result[\"author\"]=author\n",
    "    else:\n",
    "        result[\"author\"]=None\n",
    "    \n",
    "    body=vettore[1].strip()\n",
    "        \n",
    "    result[\"body\"]=body\n",
    "    return result\n",
    "\n",
    "    \n",
    "    \n",
    "  #  raise NotImplementedError()"
   ]
  },
  {
   "cell_type": "code",
   "execution_count": 32,
   "id": "41535e45",
   "metadata": {
    "deletable": false,
    "editable": false,
    "nbgrader": {
     "cell_type": "code",
     "checksum": "0e7915df6f4af894c67c613a89e4e6d9",
     "grade": true,
     "grade_id": "cell-1cc5f8295f1646b2",
     "locked": true,
     "points": 1,
     "schema_version": 3,
     "solution": false,
     "task": false
    }
   },
   "outputs": [],
   "source": [
    "### BEGIN TESTS\n",
    "# DO NOT DELETE OR OVERWRITE\n",
    "article = \"\"\"\n",
    "Columbia to Launch 25 Million Dollar AI-based Climate Modeling Center\n",
    "---------------------------------------------------------------------\n",
    "Author: Kim Martineau\n",
    "\n",
    "Funded by the National Science Foundation, the center will leverage big data and machine learning to improve climate projections.\n",
    "\n",
    "It should also motivate societies to invest in policies and infrastructure to confront rising seas and warmer temperatures.\n",
    "\"\"\"\n",
    "\n",
    "result = parse(article)\n",
    "result[\"body\"] = result[\"body\"].strip()\n",
    "\n",
    "assert result == {\n",
    "    \"title\": \"Columbia to Launch 25 Million Dollar AI-based Climate Modeling Center\",\n",
    "    \"author\": \"Kim Martineau\",\n",
    "    \"body\": \"Funded by the National Science Foundation, the center will leverage big data and machine learning to improve climate projections.\\n\\nIt should also motivate societies to invest in policies and infrastructure to confront rising seas and warmer temperatures.\",\n",
    "}\n",
    "### END TESTS"
   ]
  },
  {
   "cell_type": "code",
   "execution_count": 33,
   "id": "36a9249b",
   "metadata": {
    "deletable": false,
    "editable": false,
    "nbgrader": {
     "cell_type": "code",
     "checksum": "0bbbe9589a983c787039abb016944e6f",
     "grade": true,
     "grade_id": "cell-34bdfb37b05edb9c",
     "locked": true,
     "points": 0.5,
     "schema_version": 3,
     "solution": false,
     "task": false
    }
   },
   "outputs": [],
   "source": [
    "### BEGIN TESTS\n",
    "# DO NOT DELETE OR OVERWRITE\n",
    "article = \"\"\"\n",
    "Columbia Pledges That All Future Campus Construction Will Be Fossil Free\n",
    "------------------------------------------------------------------------\n",
    "\n",
    "As Climate Week NYC begins, the university explores creating a fully electrified campus. The Columbia Climate School is university partner of the weeklong climate showcase.\n",
    "\"\"\"\n",
    "\n",
    "result = parse(article)\n",
    "result[\"body\"] = result[\"body\"].strip()\n",
    "\n",
    "assert result == {\n",
    "    \"title\": \"Columbia Pledges That All Future Campus Construction Will Be Fossil Free\",\n",
    "    \"author\": None,\n",
    "    \"body\": \"As Climate Week NYC begins, the university explores creating a fully electrified campus. The Columbia Climate School is university partner of the weeklong climate showcase.\",\n",
    "}\n",
    "### END TESTS"
   ]
  },
  {
   "cell_type": "code",
   "execution_count": 34,
   "id": "9f2ecc26",
   "metadata": {
    "deletable": false,
    "editable": false,
    "nbgrader": {
     "cell_type": "code",
     "checksum": "5eed84835048e4b56644eec0111ca7a0",
     "grade": true,
     "grade_id": "cell-5588dd72c0904f3b",
     "locked": true,
     "points": 0.5,
     "schema_version": 3,
     "solution": false,
     "task": false
    }
   },
   "outputs": [],
   "source": [
    "# CELL INTENTIONALLY EMPTY FOR HIDDEN TESTS - DO NOT DELETE OR OVERWRITE"
   ]
  },
  {
   "cell_type": "code",
   "execution_count": 35,
   "id": "fc262edc",
   "metadata": {
    "deletable": false,
    "editable": false,
    "nbgrader": {
     "cell_type": "code",
     "checksum": "52c9a054b2adaf8818870c520a889717",
     "grade": true,
     "grade_id": "cell-c8e99b7b1964c5c6",
     "locked": true,
     "points": 1,
     "schema_version": 3,
     "solution": false,
     "task": false
    }
   },
   "outputs": [],
   "source": [
    "# CELL INTENTIONALLY EMPTY FOR HIDDEN TESTS - DO NOT DELETE OR OVERWRITE"
   ]
  },
  {
   "cell_type": "markdown",
   "id": "c81125bd",
   "metadata": {
    "deletable": false,
    "editable": false,
    "nbgrader": {
     "cell_type": "markdown",
     "checksum": "b0354c8cefa5d81d4133ad49d0c30fbb",
     "grade": false,
     "grade_id": "cell-5e03f8c73a2556a1",
     "locked": true,
     "schema_version": 3,
     "solution": false,
     "task": false
    }
   },
   "source": [
    "## Question 8\n",
    "Python's standard library has a module called `string` which contains a number of useful string constants which can be tedious to manually type out.\n",
    "\n",
    "For example, [string.ascii_uppercase](https://docs.python.org/3/library/string.html#string.ascii_uppercase) is a pre-built string containing the Latin (i.e. English) alphabet in uppercase -- so the letters 'ABC...XYZ'.\n",
    "\n",
    "In the cell below, write a single line of code that imports the string module such that someone can use `ascii_uppercase` without needing to prefix it by string. -- i.e. so that simply `ascii_uppercase` is the above referenced string.\n",
    "    \n",
    "[0.5 Points]"
   ]
  },
  {
   "cell_type": "code",
   "execution_count": 36,
   "id": "b6361dd7",
   "metadata": {
    "deletable": false,
    "nbgrader": {
     "cell_type": "code",
     "checksum": "d8afe13d4ee5df192e12753dc165e6da",
     "grade": false,
     "grade_id": "cell-b32b21ca0c5ebcba",
     "locked": false,
     "schema_version": 3,
     "solution": true,
     "task": false
    }
   },
   "outputs": [],
   "source": [
    "# YOUR CODE HERE\n",
    "from string import ascii_uppercase\n",
    "\n",
    "#raise NotImplementedError()\n"
   ]
  },
  {
   "cell_type": "code",
   "execution_count": 37,
   "id": "26e041d8",
   "metadata": {
    "deletable": false,
    "editable": false,
    "nbgrader": {
     "cell_type": "code",
     "checksum": "a7ccb3d96e33e2616d3b3bd829be001d",
     "grade": true,
     "grade_id": "cell-81bf828af634cd65",
     "locked": true,
     "points": 0.5,
     "schema_version": 3,
     "solution": false,
     "task": false
    }
   },
   "outputs": [],
   "source": [
    "# CELL INTENTIONALLY EMPTY FOR HIDDEN TESTS - DO NOT DELETE OR OVERWRITE"
   ]
  },
  {
   "cell_type": "markdown",
   "id": "899efa05",
   "metadata": {
    "deletable": false,
    "editable": false,
    "nbgrader": {
     "cell_type": "markdown",
     "checksum": "f591aec5d90dedd3a07f33171495a763",
     "grade": false,
     "grade_id": "cell-0c24c53304ea7ecb",
     "locked": true,
     "schema_version": 3,
     "solution": false,
     "task": false
    }
   },
   "source": [
    "## Question 9\n",
    "A businessman named Alan has an office calendar with 12 free meeting slots, numbered simply from `1` through `12`.\n",
    "\n",
    "Alan has 3 stakeholders, Liam, Mia and Sofia that he needs to meet with on an ongoing basis, each of whom put meetings on Alan's calendar. No meeting can overlap with any other.\n",
    "\n",
    "Alan needs a way of deciding whether his calendar is fully booked for a given day.\n",
    "\n",
    "Write a function `is_alan_fully_booked`, which takes as input 3 separate sets which represent which slots each of Liam, Mia and Sofia have booked on his calendar, and which returns `True` if Alan has no free slots on his calendar, and `False` if he has a remaining free slot.\n",
    "\n",
    "As an example -- `is_alan_fully_booked(liam={1, 7, 8}, mia={2, 3, 4, 5, 6}, sofia={9, 10, 11, 12})` should return `True`, and `is_alan_fully_booked(liam={1, 2, 3, 4, 5, 6, 7}, mia=set(), sofia=set())` should return `False`.\n",
    "\n",
    "[1.5 point]"
   ]
  },
  {
   "cell_type": "code",
   "execution_count": 38,
   "id": "97fb0ff6",
   "metadata": {
    "deletable": false,
    "nbgrader": {
     "cell_type": "code",
     "checksum": "507b79d57d60d9bca47433ac46c64a07",
     "grade": false,
     "grade_id": "cell-97a85e467ea1f00e",
     "locked": false,
     "schema_version": 3,
     "solution": true,
     "task": false
    }
   },
   "outputs": [],
   "source": [
    "def is_alan_fully_booked(liam, mia, sofia):\n",
    "    # YOUR CODE HERE\n",
    "    union=liam | mia | sofia\n",
    "    if union=={1,2,3,4,5,6,7,8,9,10,11,12}:\n",
    "        return True\n",
    "    else:\n",
    "        return False\n",
    "\n",
    "    #raise NotImplementedError()"
   ]
  },
  {
   "cell_type": "code",
   "execution_count": 39,
   "id": "32624ef9",
   "metadata": {
    "deletable": false,
    "editable": false,
    "nbgrader": {
     "cell_type": "code",
     "checksum": "3b52c4af02c3837ff63c61b9b7b2e1c0",
     "grade": true,
     "grade_id": "cell-fe146e44bd228523",
     "locked": true,
     "points": 0.5,
     "schema_version": 3,
     "solution": false,
     "task": false
    }
   },
   "outputs": [],
   "source": [
    "### BEGIN TESTS\n",
    "# DO NOT DELETE OR OVERWRITE\n",
    "liam = {1, 7, 8}\n",
    "mia = {2, 3, 4, 5, 6}\n",
    "sofia = {9, 10, 11, 12}\n",
    "assert is_alan_fully_booked(liam, mia, sofia) == True\n",
    "### END TESTS"
   ]
  },
  {
   "cell_type": "code",
   "execution_count": 40,
   "id": "30d9017e",
   "metadata": {
    "deletable": false,
    "editable": false,
    "nbgrader": {
     "cell_type": "code",
     "checksum": "2f736958174a670c6f1a15e3d7abfaef",
     "grade": true,
     "grade_id": "cell-f9373b9f89a46c6c",
     "locked": true,
     "points": 0.5,
     "schema_version": 3,
     "solution": false,
     "task": false
    }
   },
   "outputs": [],
   "source": [
    "### BEGIN TESTS\n",
    "# DO NOT DELETE OR OVERWRITE\n",
    "liam = {1, 2, 3, 4, 5, 6, 7}\n",
    "mia = set()\n",
    "sofia = set()\n",
    "assert is_alan_fully_booked(liam, mia, sofia) == False\n",
    "### END TESTS"
   ]
  },
  {
   "cell_type": "code",
   "execution_count": 41,
   "id": "1825b3db",
   "metadata": {
    "deletable": false,
    "editable": false,
    "nbgrader": {
     "cell_type": "code",
     "checksum": "fe78420032ef0d99e9ecba71e419d65a",
     "grade": true,
     "grade_id": "cell-8d74a09271993ab6",
     "locked": true,
     "points": 0.5,
     "schema_version": 3,
     "solution": false,
     "task": false
    }
   },
   "outputs": [],
   "source": [
    "# CELL INTENTIONALLY EMPTY FOR HIDDEN TESTS - DO NOT DELETE OR OVERWRITE"
   ]
  },
  {
   "cell_type": "markdown",
   "id": "f27e4c43",
   "metadata": {
    "deletable": false,
    "editable": false,
    "nbgrader": {
     "cell_type": "markdown",
     "checksum": "ea55ad3f3dfc9fc16b15149f0e0bc854",
     "grade": false,
     "grade_id": "cell-eed9326cfa18f500",
     "locked": true,
     "schema_version": 3,
     "solution": false,
     "task": false
    }
   },
   "source": [
    "## Question 10\n",
    "\n",
    "In addition to knowing whether he is fully booked, Alan needs to know what slots he has remaining in a given day.\n",
    "\n",
    "Define a function `free_slots` which again takes each of the 3 stakeholders' booked slots and returns a set containing all the slots which are not booked by any of the 3 stakeholders.\n",
    "\n",
    "As an example -- `free_slots(liam={1, 7, 8}, mia=set(), sofia={9, 10, 11, 12})` should return `{2, 3, 4, 5, 6}`, and `free_slots(liam={1, 2, 3, 4, 5, 6, 7, 12}, mia=set(), sofia=set())` should return `{8, 9, 10, 11}`.\n",
    "\n",
    "[1 point]"
   ]
  },
  {
   "cell_type": "code",
   "execution_count": 42,
   "id": "0433a626",
   "metadata": {
    "deletable": false,
    "nbgrader": {
     "cell_type": "code",
     "checksum": "36723135f0aa4ccc8b3d51b986de16ae",
     "grade": false,
     "grade_id": "cell-d3837974e2ec00bd",
     "locked": false,
     "schema_version": 3,
     "solution": true,
     "task": false
    }
   },
   "outputs": [],
   "source": [
    "def free_slots(liam, mia, sofia):\n",
    "    # YOUR CODE HERE\n",
    "    union=liam | mia | sofia\n",
    "    result={1,2,3,4,5,6,7,8,9,10,11,12}-union\n",
    "    return result\n",
    "\n",
    "\n",
    "    #raise NotImplementedError()"
   ]
  },
  {
   "cell_type": "code",
   "execution_count": 43,
   "id": "10804f82",
   "metadata": {
    "deletable": false,
    "editable": false,
    "nbgrader": {
     "cell_type": "code",
     "checksum": "38ac6a042b6934e20f8d68b05db99faa",
     "grade": true,
     "grade_id": "cell-90d815492ba13e4c",
     "locked": true,
     "points": 0.25,
     "schema_version": 3,
     "solution": false,
     "task": false
    }
   },
   "outputs": [],
   "source": [
    "### BEGIN TESTS\n",
    "# DO NOT DELETE OR OVERWRITE\n",
    "liam = {1, 7, 8}\n",
    "mia = set()\n",
    "sofia = {9, 10, 11, 12}\n",
    "expected_free_slots = {2, 3, 4, 5, 6}\n",
    "\n",
    "assert free_slots(liam, mia, sofia) == expected_free_slots\n",
    "### END TESTS"
   ]
  },
  {
   "cell_type": "code",
   "execution_count": 44,
   "id": "19cba77a",
   "metadata": {
    "deletable": false,
    "editable": false,
    "nbgrader": {
     "cell_type": "code",
     "checksum": "00442a370c39975714eff6de9cdf3833",
     "grade": true,
     "grade_id": "cell-f45f96eeb0c069b2",
     "locked": true,
     "points": 0.25,
     "schema_version": 3,
     "solution": false,
     "task": false
    }
   },
   "outputs": [],
   "source": [
    "### BEGIN TESTS\n",
    "# DO NOT DELETE OR OVERWRITE\n",
    "liam = {1, 2, 3, 4, 5, 6, 7, 12}\n",
    "mia = set()\n",
    "sofia = set()\n",
    "expected_free_slots = {8, 9, 10, 11}\n",
    "\n",
    "assert free_slots(liam, mia, sofia) == expected_free_slots\n",
    "### END TESTS"
   ]
  },
  {
   "cell_type": "code",
   "execution_count": 45,
   "id": "3bb5dc23",
   "metadata": {
    "deletable": false,
    "editable": false,
    "nbgrader": {
     "cell_type": "code",
     "checksum": "3aad118f34ca35985a7741705f486fde",
     "grade": true,
     "grade_id": "cell-8459fcef488fee7a",
     "locked": true,
     "points": 0.5,
     "schema_version": 3,
     "solution": false,
     "task": false
    }
   },
   "outputs": [],
   "source": [
    "# CELL INTENTIONALLY EMPTY FOR HIDDEN TESTS - DO NOT DELETE OR OVERWRITE"
   ]
  },
  {
   "cell_type": "markdown",
   "id": "69955e71",
   "metadata": {
    "deletable": false,
    "editable": false,
    "nbgrader": {
     "cell_type": "markdown",
     "checksum": "3bfea3fa5d7989e699afe2d815567fb3",
     "grade": false,
     "grade_id": "cell-dfe99462d917ecfc",
     "locked": true,
     "schema_version": 3,
     "solution": false,
     "task": false
    }
   },
   "source": [
    "## Question 11\n",
    "Finally, Alan also wants to know who out of Liam, Mia and Sofia are taking most of his time on a given day.\n",
    "\n",
    "Write a function `booked_most_meetings` which calculates who has booked the most of Alan's time on a given day.\n",
    "\n",
    "If multiple people have booked an equal amount of Alan's time, return any arbitrary single person's name.\n",
    "\n",
    "As an example, `booked_most_meetings(liam={1, 7, 8}, mia=set(), sofia={9, 10, 11, 12})` should return `\"sofia\"` who has booked 4.\n",
    "\n",
    "`booked_most_meetings(liam={1}, mia={2}, sofia={3})` may return any of `\"liam\"`, `\"mia\"`, or `\"sofia\"`, all of whom have booked an equal amount of Alan's time.\n",
    "\n",
    "[1 point]"
   ]
  },
  {
   "cell_type": "code",
   "execution_count": 46,
   "id": "99912c43",
   "metadata": {
    "deletable": false,
    "nbgrader": {
     "cell_type": "code",
     "checksum": "db732b56be9388fffdd2e295c2b2c1a8",
     "grade": false,
     "grade_id": "cell-fe56b467015d30a5",
     "locked": false,
     "schema_version": 3,
     "solution": true,
     "task": false
    }
   },
   "outputs": [],
   "source": [
    "def booked_most_meetings(liam, mia, sofia):\n",
    "    # YOUR CODE HERE\n",
    "    my_map={\n",
    "        \"liam\":len(liam),\n",
    "        \"mia\":len(mia),\n",
    "        \"sofia\":len(sofia)\n",
    "    }\n",
    "    max=0\n",
    "    result=\"\"\n",
    "    for element in my_map:\n",
    "        if my_map[element]>max:\n",
    "            max=my_map[element]\n",
    "            result=element\n",
    "    \n",
    "    return element\n",
    "\n",
    "    #raise NotImplementedError()"
   ]
  },
  {
   "cell_type": "code",
   "execution_count": 47,
   "id": "4c8f88b8",
   "metadata": {
    "deletable": false,
    "editable": false,
    "nbgrader": {
     "cell_type": "code",
     "checksum": "d333c92519ee3cd7c0bc57a3716f75df",
     "grade": true,
     "grade_id": "cell-14b336688ccfc7d9",
     "locked": true,
     "points": 0.25,
     "schema_version": 3,
     "solution": false,
     "task": false
    }
   },
   "outputs": [],
   "source": [
    "### BEGIN TESTS\n",
    "# DO NOT DELETE OR OVERWRITE\n",
    "liam = {1, 7, 8}\n",
    "mia = set()\n",
    "sofia = {9, 10, 11, 12}\n",
    "\n",
    "assert booked_most_meetings(liam, mia, sofia) == \"sofia\"\n",
    "### END TESTS"
   ]
  },
  {
   "cell_type": "code",
   "execution_count": 48,
   "id": "67702a6a",
   "metadata": {
    "deletable": false,
    "editable": false,
    "nbgrader": {
     "cell_type": "code",
     "checksum": "8ff59896f2e3f1262e5869975fd7e559",
     "grade": true,
     "grade_id": "cell-018d5a7ace76b8a0",
     "locked": true,
     "points": 0.25,
     "schema_version": 3,
     "solution": false,
     "task": false
    }
   },
   "outputs": [],
   "source": [
    "### BEGIN TESTS\n",
    "# DO NOT DELETE OR OVERWRITE\n",
    "liam = {1}\n",
    "mia = {2}\n",
    "sofia = {3}\n",
    "\n",
    "expected_result = {\"liam\", \"mia\", \"sofia\"}\n",
    "# Since it can be any of them since it's all equal, we're just ensuring the result \n",
    "# is one of the three names\n",
    "assert booked_most_meetings(liam, mia, sofia) in expected_result\n",
    "### END TESTS"
   ]
  },
  {
   "cell_type": "code",
   "execution_count": 49,
   "id": "0cea4dff",
   "metadata": {
    "deletable": false,
    "editable": false,
    "nbgrader": {
     "cell_type": "code",
     "checksum": "c11fff47d9cfe715aa064159a8847e8e",
     "grade": true,
     "grade_id": "cell-770f0a87ab829a29",
     "locked": true,
     "points": 0.25,
     "schema_version": 3,
     "solution": false,
     "task": false
    }
   },
   "outputs": [],
   "source": [
    "# CELL INTENTIONALLY EMPTY FOR HIDDEN TESTS - DO NOT DELETE OR OVERWRITE"
   ]
  },
  {
   "cell_type": "code",
   "execution_count": 50,
   "id": "ce491bb5",
   "metadata": {
    "deletable": false,
    "editable": false,
    "nbgrader": {
     "cell_type": "code",
     "checksum": "ead24cc04099da23f90a468ba8d1d217",
     "grade": true,
     "grade_id": "cell-5bba4f41f8118b18",
     "locked": true,
     "points": 0.25,
     "schema_version": 3,
     "solution": false,
     "task": false
    }
   },
   "outputs": [],
   "source": [
    "# CELL INTENTIONALLY EMPTY FOR HIDDEN TESTS - DO NOT DELETE OR OVERWRITE"
   ]
  }
 ],
 "metadata": {
  "kernelspec": {
   "display_name": "Python 3 (ipykernel)",
   "language": "python",
   "name": "python3"
  },
  "language_info": {
   "codemirror_mode": {
    "name": "ipython",
    "version": 3
   },
   "file_extension": ".py",
   "mimetype": "text/x-python",
   "name": "python",
   "nbconvert_exporter": "python",
   "pygments_lexer": "ipython3",
   "version": "3.9.12"
  }
 },
 "nbformat": 4,
 "nbformat_minor": 5
}

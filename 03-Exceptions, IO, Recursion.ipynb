{
 "cells": [
  {
   "cell_type": "markdown",
   "id": "075926d1",
   "metadata": {},
   "source": [
    "Please read the following instructions thoroughly. Neglecting to do so may result in missed points.\n",
    "\n",
    "### Preamble\n",
    "**Reminder**: Homeworks are due by 11:59PM ET on Sundays.\n",
    "\n",
    "Before you turn this problem set in, make sure everything runs as expected. First, **restart the kernel** (in the menubar, select Kernel$\\rightarrow$Restart) and then **run all cells** (in the menubar, select Cell$\\rightarrow$Run All).\n",
    "\n",
    "### Naming conventions\n",
    "Be sure the filename of your notebook is in the following form:\n",
    "\n",
    "    <uni>_<assignment>_<details [optional]>.<extension>\n",
    "    \n",
    "For example:\n",
    "\n",
    "    lr3086_hw01.ipynb\n",
    "    lr3086_hw01_complete.ipynb\n",
    "    LR3086_HW01.ipynb\n",
    "    \n",
    "To rename a notebook, in the menubar, select File$\\rightarrow$Rename. The extension for notebook files, `.ipynb`, will already be appended to the filename, but will be hidden from view within the notebook.\n",
    "    \n",
    "This naming format allows for autograding of all assignments. If your files are not named with this format, you should expect a grade of zero for the assignment.\n",
    "\n",
    "Courseworks may rename your file to something like `lr3086_hw0-1.ipynb` if you resubmit your assignment. This is perfectly fine.\n",
    "\n",
    "### What Format To Submit In\n",
    "\n",
    "Most homeworks are in Jupyter notebooks. Once you've finished your homework, unless specified otherwise, please download your work as an `.ipynb` file to your local machine, then upload it to Courseworks when complete (in the menubar, select File$\\rightarrow$Download as$\\rightarrow$Notebook).\n",
    "\n",
    "**Failure to submit a Jupyter notebook will result in a grade of zero for the assignment.**\n",
    "\n",
    "### Grading\n",
    "\n",
    "Possible points on late assignments are deducted by 50% for each day they are late. For example, if you get 80% of the total possible credits on a homework but hand in that homework a day late, you would get 40%. Assignments two days late get zero points.\n",
    "\n",
    "Once solutions are posted and graded assignments are handed back, students have 1 week to bring their grading discrepancies to a CA for consideration of possible grading errors.\n",
    "\n",
    "Because grading is automated, please delete (or comment out) the `raise NotImplmeneted` code before attempting a problem.\n",
    "\n",
    "Empty un-editable cells in an assignment are there for a reason. They will be filled with tests by the automatic grader. Please do not attempt to remove them.\n",
    "\n",
    "### Getting Help\n",
    "\n",
    "Asking for help is a great way to increase your chance of success. However there are some rules. When asking for help (especially from a fellow student), *you can show your helper your code but you can not view theirs*. You work needs to be your own. You can not post screenshots of your current work to Ed Discussions or other tools used for getting help.\n",
    "\n",
    "If you need to reach out to a CA for help, please do so via Ed Discussions and not via email. Answers given via Ed Discussions will help you as well as other students. Thus, emails will always have a lower priority for response than Ed Discussions questions. If you do email the CA, please make a note of what section you are in. This helps us identify you in Courseworks faster.\n",
    "\n",
    "Finally, if you do not get a repsonse from a CA within 48 hours, you may email the professor."
   ]
  },
  {
   "cell_type": "markdown",
   "id": "61e420e6",
   "metadata": {},
   "source": [
    "---"
   ]
  },
  {
   "cell_type": "markdown",
   "id": "9709bb61",
   "metadata": {
    "deletable": false,
    "editable": false,
    "nbgrader": {
     "cell_type": "markdown",
     "checksum": "a9f8bbf9f0c4e6582aadbab89734f63e",
     "grade": false,
     "grade_id": "cell-ab544891a2a0baa1",
     "locked": true,
     "schema_version": 3,
     "solution": false,
     "task": false
    }
   },
   "source": [
    "# Homework 3: List Comprehensions, Exceptions, File I/O, and Recursion\n",
    "\n",
    "Total questions: 6 <br/>\n",
    "Total points: 10\n",
    "\n",
    "Some questions have imports already for you. Additional imports of modules or libraries **are not allowed** in your solutions. However, you may import other modules or libraries if you wish to write any test code for your solutions.\n",
    "\n",
    "Remember: Unless otherwise stated in the question, be sure that your final answer to a question includes a `return` from your implemented function. Do not print. You can add extra notebook cells to test your solution, and print the results. We just need your functions to `return`. Refer to the past lecture notes for an example of what we need."
   ]
  },
  {
   "cell_type": "markdown",
   "id": "437b93cd",
   "metadata": {
    "deletable": false,
    "editable": false,
    "nbgrader": {
     "cell_type": "markdown",
     "checksum": "ffcf8f82582600e457686a05fed33ebb",
     "grade": false,
     "grade_id": "cell-eae3976485e0b0fe",
     "locked": true,
     "schema_version": 3,
     "solution": false,
     "task": false
    }
   },
   "source": [
    "## Question 1\n",
    "Write a function called `scalar_multiply` which takes 2 arguments -- an `int` and a sequence (e.g. a `list`) of `int`s, of any length.\n",
    "\n",
    "The function should return a new `list` where each element in the sequence has been multiplied by the `int`.\n",
    "\n",
    "The function should raise a `ValueError` if the sequence given is empty, with any message provided.\n",
    "\n",
    "The function should otherwise always return a `list`, even if the provided sequence is not a list.\n",
    "\n",
    "Do not use a `for`-loop or a `while`-loop, you must use a list comprehension. **No points will be awarded if `for`-/`while`-loops are used.**\n",
    "\n",
    "As an example, `scalar_multiply(3, [2, 4, 5])` should return the list` [6, 12, 15]`, where each element has been multiplied by `3`.\n",
    "\n",
    "Calling `scalar_multiply(11, [])` should raise a `ValueError`.\n",
    "\n",
    "[2 points]"
   ]
  },
  {
   "cell_type": "code",
   "execution_count": 56,
   "id": "3abcb670",
   "metadata": {
    "deletable": false,
    "nbgrader": {
     "cell_type": "code",
     "checksum": "12345ae8aba56efbf1e2cf7c9ce03137",
     "grade": false,
     "grade_id": "cell-4fbbd3615eb93ed9",
     "locked": false,
     "schema_version": 3,
     "solution": true,
     "task": false
    }
   },
   "outputs": [],
   "source": [
    "def scalar_multiply(scalar, sequence):\n",
    "    # YOUR CODE HERE\n",
    "    if len(sequence)!=0:\n",
    "        result=[scalar*element for element in sequence]\n",
    "        return result\n",
    "    else:\n",
    "        raise ValueError(\"There is an error, check it\")\n",
    "    \n",
    "            \n",
    "   # raise NotImplementedError()\n",
    "    \n",
    "#result=scalar_multiply(3,{2,4,5})\n",
    "#print(result)"
   ]
  },
  {
   "cell_type": "code",
   "execution_count": 57,
   "id": "141ae908",
   "metadata": {
    "deletable": false,
    "editable": false,
    "nbgrader": {
     "cell_type": "code",
     "checksum": "9d3d4c23376ce7cec4eea849bc2dbd79",
     "grade": true,
     "grade_id": "cell-558efc9f599b7c27",
     "locked": true,
     "points": 0.5,
     "schema_version": 3,
     "solution": false,
     "task": false
    }
   },
   "outputs": [],
   "source": [
    "### BEGIN TESTS\n",
    "assert scalar_multiply(3, [2, 4, 5]) == [6, 12, 15]\n",
    "### END TESTS"
   ]
  },
  {
   "cell_type": "code",
   "execution_count": 41,
   "id": "d0c5e76f",
   "metadata": {
    "deletable": false,
    "editable": false,
    "nbgrader": {
     "cell_type": "code",
     "checksum": "7256ada851de90e8e4d271a3771aad9e",
     "grade": true,
     "grade_id": "cell-c32d61a912c8b281",
     "locked": true,
     "points": 1.5,
     "schema_version": 3,
     "solution": false,
     "task": false
    }
   },
   "outputs": [],
   "source": [
    "# CELL INTENTIONALLY EMPTY - DO NOT DELETE OR OVERWRITE"
   ]
  },
  {
   "cell_type": "markdown",
   "id": "e8c743a4",
   "metadata": {
    "deletable": false,
    "editable": false,
    "nbgrader": {
     "cell_type": "markdown",
     "checksum": "a21a504a0780885ee0af41eb919b8cf8",
     "grade": false,
     "grade_id": "cell-028a56240988fe35",
     "locked": true,
     "schema_version": 3,
     "solution": false,
     "task": false
    }
   },
   "source": [
    "## Question 2\n",
    "\n",
    "_Preamble: In class, we worked with text files and learned how to read and write files. Be sure to review the lecture notes. When working with numerical data, you will often encounter data in the form of [CSV files](https://en.wikipedia.org/wiki/Comma-separated_values). Take a moment to familiarize yourself with the [`csv` module](https://docs.python.org/3/library/csv.html) from Python's standard library, which provides an easy way to read & write CSV-based data._\n",
    "\n",
    "Below is a function called `download_park_data` that downloads data from New York State about State Park annual attendence since 2003, and returns it as a string. You can take a look at the data directly through their [website](https://data.ny.gov/Recreation/State-Park-Annual-Attendance-Figures-by-Facility-B/8f3n-xj78/data).\n",
    "\n",
    "Implement a function called `get_palisades_attendance` that does not take in any arguments. This function should do the following:\n",
    "\n",
    "1. **Get data**: Call the `download_park_data` function.\n",
    "2. **Write data to file**: Save the data that the `download_park_data` function returns by writing it to a file on your computer with a context manager. Name the written file `\"downloaded_data.csv\"`. It should not be saved in any particular directory. That is, use `open(\"downloaded_data.csv\", \"w\")` with no file path. You do not need to use the `csv` module here.\n",
    "3. **Read the file**: Then, use another context manager to read the lines of the file you just saved. You should be left with a `list` of `str`s.  You do not need to use the `csv` module here.\n",
    "4. **Parse the file**: After you've read the lines of the file, use the `csv` module to parse the lines of data into a single `list` containing multiple of `list`s that represents rows of data.\n",
    "5. **Calculate result**: Calculate the total attendance (`total_attendance`) from 2003 to 2020 (inclusive) for the `\"Appalachian Trail\"` in the `\"Palisades\"` OPRHP region. Return the value. The total attendence should be 156,506 people.\n",
    "\n",
    "Remember, you may **not** use additional imports for your implementation (you can import what you want in order to test your implementation though, if you wish).\n",
    "\n",
    "[2 points]"
   ]
  },
  {
   "cell_type": "code",
   "execution_count": 83,
   "id": "ffbdccda",
   "metadata": {
    "deletable": false,
    "nbgrader": {
     "cell_type": "code",
     "checksum": "f06139896f5e9337b64501e9dd7ecd73",
     "grade": false,
     "grade_id": "cell-a79e2598d389f3b6",
     "locked": false,
     "schema_version": 3,
     "solution": true,
     "task": false
    }
   },
   "outputs": [],
   "source": [
    "import csv\n",
    "import requests\n",
    "\n",
    "def download_park_data():\n",
    "    response = requests.get(\n",
    "        \"https://data.ny.gov/api/views/8f3n-xj78/rows.csv?accessType=DOWNLOAD&sorting=true\"\n",
    "    )\n",
    "    data = response.text\n",
    "    return data\n",
    "\n",
    "\n",
    "def get_palisades_attendance():\n",
    "    data = download_park_data()\n",
    "    # YOUR CODE HERE\n",
    "    with open(\"downloaded_data.csv\", \"w\") as new:\n",
    "        new.write(data)\n",
    "    with open(\"downloaded_data.csv\") as file:\n",
    "        ok = file.readlines()\n",
    "    csv_reader = csv.reader(ok)\n",
    "    result=list()\n",
    "    for row in csv_reader:\n",
    "        result.append(row)\n",
    "    attendence=0\n",
    "    for row in result[1:]:\n",
    "        if int(row[0]) in range(2003,2021)  and row[1]==\"Palisades\" and row[3]==\"Appalachian Trail\" :\n",
    "            attendence=attendence+int(row[4])\n",
    "    return attendence\n",
    "   # raise NotImplementedError()\n",
    "\n",
    "\n",
    "#get_palisades_attendance()"
   ]
  },
  {
   "cell_type": "code",
   "execution_count": 84,
   "id": "f593ff7a",
   "metadata": {
    "deletable": false,
    "editable": false,
    "nbgrader": {
     "cell_type": "code",
     "checksum": "b15a6ef270b886ed3c0be8f13f1d2d9b",
     "grade": true,
     "grade_id": "cell-fd2833e7c51b92c4",
     "locked": true,
     "points": 0,
     "schema_version": 3,
     "solution": false,
     "task": false
    }
   },
   "outputs": [],
   "source": [
    "### BEGIN TESTS\n",
    "assert 156506 == get_palisades_attendance()\n",
    "### END TESTS"
   ]
  },
  {
   "cell_type": "code",
   "execution_count": null,
   "id": "cbb2b16d",
   "metadata": {
    "deletable": false,
    "editable": false,
    "nbgrader": {
     "cell_type": "code",
     "checksum": "bb984ccbf0111413ad286ed14303f76a",
     "grade": true,
     "grade_id": "cell-7fd3b1398d6802d7",
     "locked": true,
     "points": 2,
     "schema_version": 3,
     "solution": false,
     "task": false
    }
   },
   "outputs": [],
   "source": [
    "# CELL INTENTIONALLY EMPTY - DO NOT DELETE OR OVERWRITE"
   ]
  },
  {
   "cell_type": "markdown",
   "id": "00c904d5",
   "metadata": {
    "deletable": false,
    "editable": false,
    "nbgrader": {
     "cell_type": "markdown",
     "checksum": "9660ad0f5c1d40ff6759e6b52f128d0e",
     "grade": false,
     "grade_id": "cell-f24df747e0f6df5e",
     "locked": true,
     "schema_version": 3,
     "solution": false,
     "task": false
    }
   },
   "source": [
    "## Question 3\n",
    "\n",
    "Write a recursive function `sum_list` to find the sum of all elements in a list. You can assume the list is flat. You **can not** use the built-in function `sum()`. You **can not** use iteration via a `for` or `while` loop. Your function must return an integer. You can assume you are passed a list of real integers. If your solution uses exceptions, the except statements must not be bare (i.e. the must specify the errors they can catch). You must handle the case where the given list is empty; the sum would be zero in this case.\n",
    "\n",
    "[2 points]"
   ]
  },
  {
   "cell_type": "code",
   "execution_count": 10,
   "id": "8ff061a8",
   "metadata": {
    "deletable": false,
    "nbgrader": {
     "cell_type": "code",
     "checksum": "79f7be05a57f93381e6a4b5593b45109",
     "grade": false,
     "grade_id": "cell-7f5b01a5937961bd",
     "locked": false,
     "schema_version": 3,
     "solution": true,
     "task": false
    }
   },
   "outputs": [],
   "source": [
    "def sum_list(a_list):\n",
    "    # YOUR CODE HERE\n",
    "    if a_list==[]:\n",
    "        return 0\n",
    "    else:\n",
    "        return sum_list(a_list[:-1])+a_list[-1]\n",
    "    \n",
    "\n",
    "\n",
    "    # raise NotImplementedError()"
   ]
  },
  {
   "cell_type": "code",
   "execution_count": 11,
   "id": "25e583da",
   "metadata": {
    "deletable": false,
    "editable": false,
    "nbgrader": {
     "cell_type": "code",
     "checksum": "88ca6b81e2747bae8a11f3eba8e9de99",
     "grade": true,
     "grade_id": "cell-263728976e123f6c",
     "locked": true,
     "points": 0.5,
     "schema_version": 3,
     "solution": false,
     "task": false
    }
   },
   "outputs": [],
   "source": [
    "### BEGIN TESTS\n",
    "assert sum_list([]) == 0\n",
    "### END TESTS"
   ]
  },
  {
   "cell_type": "code",
   "execution_count": null,
   "id": "c6120fab",
   "metadata": {
    "deletable": false,
    "editable": false,
    "nbgrader": {
     "cell_type": "code",
     "checksum": "a4aced5de6f8c1fc652d98b39ac096a7",
     "grade": true,
     "grade_id": "cell-d21a7be16b3fd4f6",
     "locked": true,
     "points": 0.5,
     "schema_version": 3,
     "solution": false,
     "task": false
    }
   },
   "outputs": [],
   "source": [
    "# CELL INTENTIONALLY EMPTY - DO NOT DELETE OR OVERWRITE"
   ]
  },
  {
   "cell_type": "code",
   "execution_count": null,
   "id": "625a5277",
   "metadata": {
    "deletable": false,
    "editable": false,
    "nbgrader": {
     "cell_type": "code",
     "checksum": "d444b5bc4b45870c70fe61926bba716e",
     "grade": true,
     "grade_id": "cell-5e1ac4f8bee8695f",
     "locked": true,
     "points": 1,
     "schema_version": 3,
     "solution": false,
     "task": false
    }
   },
   "outputs": [],
   "source": [
    "# CELL INTENTIONALLY EMPTY - DO NOT DELETE OR OVERWRITE"
   ]
  },
  {
   "cell_type": "markdown",
   "id": "402365af",
   "metadata": {
    "deletable": false,
    "editable": false,
    "nbgrader": {
     "cell_type": "markdown",
     "checksum": "1d76b20e3b13702166bd0769edde8681",
     "grade": false,
     "grade_id": "cell-59ea2f1308e37a3f",
     "locked": true,
     "schema_version": 3,
     "solution": false,
     "task": false
    }
   },
   "source": [
    "## Question 4\n",
    "Create a recursive function `fib` to find the nth [Fibonacci number](https://en.wikipedia.org/wiki/Fibonacci_number). Assume that the the sequence starts with `0, 1, 1, ...`.\n",
    "\n",
    "```py\n",
    ">>> fib(0)\n",
    "0\n",
    ">>> fib(5)\n",
    "5\n",
    ">>> fib(10)\n",
    "55\n",
    "```\n",
    "\n",
    "If your solution uses exceptions, the except statements must not be bare (ie. the must specify the errors they can catch).\n",
    "\n",
    "[2 points]"
   ]
  },
  {
   "cell_type": "code",
   "execution_count": 3,
   "id": "c414f5f9",
   "metadata": {
    "deletable": false,
    "nbgrader": {
     "cell_type": "code",
     "checksum": "b4ea3b957399f8401b42c9e4eb8c8e85",
     "grade": false,
     "grade_id": "cell-315cf28b73c195e3",
     "locked": false,
     "schema_version": 3,
     "solution": true,
     "task": false
    }
   },
   "outputs": [],
   "source": [
    "def fib(n):\n",
    "    # YOUR CODE HERE\n",
    "    if n==0:\n",
    "        return 0\n",
    "    elif n==1:\n",
    "        return 1\n",
    "    else:\n",
    "        return fib(n-1)+fib(n-2)\n",
    "   # raise NotImplementedError()"
   ]
  },
  {
   "cell_type": "code",
   "execution_count": 4,
   "id": "c69542f1",
   "metadata": {
    "deletable": false,
    "editable": false,
    "nbgrader": {
     "cell_type": "code",
     "checksum": "74cb3262a34496f95dd2fab4557bb6c9",
     "grade": true,
     "grade_id": "cell-b62e5b681aa6bf04",
     "locked": true,
     "points": 1,
     "schema_version": 3,
     "solution": false,
     "task": false
    }
   },
   "outputs": [],
   "source": [
    "### BEGIN TESTS\n",
    "assert fib(0) == 0\n",
    "assert fib(5) == 5\n",
    "assert fib(10) == 55\n",
    "### END TESTS"
   ]
  },
  {
   "cell_type": "code",
   "execution_count": null,
   "id": "a7c9bc78",
   "metadata": {
    "deletable": false,
    "editable": false,
    "nbgrader": {
     "cell_type": "code",
     "checksum": "f069d9a683fd3c3f1169ac202013284f",
     "grade": true,
     "grade_id": "cell-6f77d73604953548",
     "locked": true,
     "points": 1,
     "schema_version": 3,
     "solution": false,
     "task": false
    }
   },
   "outputs": [],
   "source": [
    "# CELL INTENTIONALLY EMPTY - DO NOT DELETE OR OVERWRITE"
   ]
  },
  {
   "cell_type": "markdown",
   "id": "85579690",
   "metadata": {
    "deletable": false,
    "editable": false,
    "nbgrader": {
     "cell_type": "markdown",
     "checksum": "4531af8996d6ae328ffef1ee8bea6b41",
     "grade": false,
     "grade_id": "cell-87ddde52b73020cb",
     "locked": true,
     "schema_version": 3,
     "solution": false,
     "task": false
    }
   },
   "source": [
    "## Question 5\n",
    "\n",
    "Write a function `verify` that takes a string and returns the string if it contains at least one number, one uppercase letter, and one lowercase letter. The function should raise a `ValueError` otherwise. The `ValueError` should have the **exact** message `\"Must contain a number, an uppercase letter, and a lowercase letter\"`.\n",
    "\n",
    "[1 point]"
   ]
  },
  {
   "cell_type": "code",
   "execution_count": 92,
   "id": "455eb4bb",
   "metadata": {
    "deletable": false,
    "nbgrader": {
     "cell_type": "code",
     "checksum": "373b3c5595ff7210c400321f99a5aa56",
     "grade": false,
     "grade_id": "cell-ebadbf8ae994dfa6",
     "locked": false,
     "schema_version": 3,
     "solution": true,
     "task": false
    }
   },
   "outputs": [],
   "source": [
    "def verify(string):\n",
    "    # YOUR CODE HERE\n",
    "    number=False\n",
    "    upper=False\n",
    "    lower=False\n",
    "    for c in string:\n",
    "        if c.islower():\n",
    "            lower=True\n",
    "        if c.isupper():\n",
    "            upper=True\n",
    "        if c.isnumeric():\n",
    "            number=True\n",
    "    if number and upper and lower:\n",
    "        return string\n",
    "    else:\n",
    "        raise ValueError(\"Must contain a number, an uppercase letter, and a lowercase letter\")\n",
    "        \n",
    "\n",
    "    \n",
    "    #raise NotImplementedError()"
   ]
  },
  {
   "cell_type": "code",
   "execution_count": null,
   "id": "6bfbee1c",
   "metadata": {
    "deletable": false,
    "editable": false,
    "nbgrader": {
     "cell_type": "code",
     "checksum": "bf60e1da9a0913e3d94a78c0e446b8e1",
     "grade": true,
     "grade_id": "cell-4965c28d46a8fe5a",
     "locked": true,
     "points": 1,
     "schema_version": 3,
     "solution": false,
     "task": false
    }
   },
   "outputs": [],
   "source": [
    "# CELL INTENTIONALLY EMPTY - DO NOT DELETE OR OVERWRITE"
   ]
  },
  {
   "cell_type": "markdown",
   "id": "614af4a1",
   "metadata": {
    "deletable": false,
    "editable": false,
    "nbgrader": {
     "cell_type": "markdown",
     "checksum": "854a95313aea7420e6517c8cbbc03df8",
     "grade": false,
     "grade_id": "cell-e558cf8a26ab7a4b",
     "locked": true,
     "schema_version": 3,
     "solution": false,
     "task": false
    }
   },
   "source": [
    "## Question 6\n",
    "\n",
    "Implement a function called `is_ten` that takes in one argument, an `int`, and returns `True` if the argument is equal to `10`, and `False` if not.\n",
    "\n",
    "Then, implement a second function called `test_is_ten` that takes in no arguments, and calls the first function, `is_ten` at least twice. For each time you call `is_ten`, use `assert` statements to test the expected return value equals actual return value.\n",
    "\n",
    "[1 point]"
   ]
  },
  {
   "cell_type": "code",
   "execution_count": 98,
   "id": "efa150cc",
   "metadata": {
    "deletable": false,
    "nbgrader": {
     "cell_type": "code",
     "checksum": "a5574280742bb1a5e22b34c1899882eb",
     "grade": false,
     "grade_id": "cell-044f254c957716f7",
     "locked": false,
     "schema_version": 3,
     "solution": true,
     "task": false
    }
   },
   "outputs": [],
   "source": [
    "def is_ten(x):\n",
    "    # YOUR CODE HERE\n",
    "    #raise NotImplementedError()\n",
    "    if x==10:\n",
    "        return True\n",
    "    else:\n",
    "        return False\n",
    "    \n",
    "def test_is_ten():\n",
    "    # YOUR CODE HERE\n",
    "    for x in range(5,11):\n",
    "        if x!=10:\n",
    "            assert is_ten(x)==False\n",
    "        else:\n",
    "            assert is_ten(x)==True\n",
    "   # raise NotImplementedError()\n",
    "\n",
    "#test_is_ten()"
   ]
  },
  {
   "cell_type": "code",
   "execution_count": null,
   "id": "ae6630a9",
   "metadata": {
    "deletable": false,
    "editable": false,
    "nbgrader": {
     "cell_type": "code",
     "checksum": "ed2eda4f15fcd30beb0315e6d9fb0724",
     "grade": true,
     "grade_id": "cell-744a5046c8b96cbd",
     "locked": true,
     "points": 0.5,
     "schema_version": 3,
     "solution": false,
     "task": false
    }
   },
   "outputs": [],
   "source": [
    "# CELL INTENTIONALLY EMPTY - DO NOT DELETE OR OVERWRITE"
   ]
  },
  {
   "cell_type": "code",
   "execution_count": null,
   "id": "d11f9239",
   "metadata": {
    "deletable": false,
    "editable": false,
    "nbgrader": {
     "cell_type": "code",
     "checksum": "eedd2a2eea03b07c70d0e2e952b32318",
     "grade": true,
     "grade_id": "cell-814f19a6082746c4",
     "locked": true,
     "points": 0.5,
     "schema_version": 3,
     "solution": false,
     "task": false
    }
   },
   "outputs": [],
   "source": [
    "# CELL INTENTIONALLY EMPTY - DO NOT DELETE OR OVERWRITE"
   ]
  }
 ],
 "metadata": {
  "kernelspec": {
   "display_name": "Python 3 (ipykernel)",
   "language": "python",
   "name": "python3"
  },
  "language_info": {
   "codemirror_mode": {
    "name": "ipython",
    "version": 3
   },
   "file_extension": ".py",
   "mimetype": "text/x-python",
   "name": "python",
   "nbconvert_exporter": "python",
   "pygments_lexer": "ipython3",
   "version": "3.9.12"
  }
 },
 "nbformat": 4,
 "nbformat_minor": 5
}

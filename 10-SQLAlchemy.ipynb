{
 "cells": [
  {
   "cell_type": "markdown",
   "id": "110f8c0d",
   "metadata": {},
   "source": [
    "Please read the following instructions thoroughly. Neglecting to do so may result in missed points.\n",
    "\n",
    "### Preamble\n",
    "**Reminder**: Homeworks are due by 11:59PM ET on Sundays.\n",
    "\n",
    "Before you turn this problem set in, make sure everything runs as expected. First, **restart the kernel** (in the menubar, select Kernel$\\rightarrow$Restart) and then **run all cells** (in the menubar, select Cell$\\rightarrow$Run All).\n",
    "\n",
    "### Naming conventions\n",
    "Be sure the filename of your notebook is in the following form:\n",
    "\n",
    "    <uni>_<assignment>_<details [optional]>.<extension>\n",
    "    \n",
    "For example:\n",
    "\n",
    "    lr3086_hw01.ipynb\n",
    "    lr3086_hw01_complete.ipynb\n",
    "    LR3086_HW01.ipynb\n",
    "    \n",
    "To rename a notebook, in the menubar, select File$\\rightarrow$Rename. The extension for notebook files, `.ipynb`, will already be appended to the filename, but will be hidden from view within the notebook.\n",
    "    \n",
    "This naming format allows for autograding of all assignments. If your files are not named with this format, you should expect a grade of zero for the assignment.\n",
    "\n",
    "Courseworks may rename your file to something like `lr3086_hw0-1.ipynb` if you resubmit your assignment. This is perfectly fine.\n",
    "\n",
    "### What Format To Submit In\n",
    "\n",
    "Most homeworks are in Jupyter notebooks. Once you've finished your homework, unless specified otherwise, please download your work as an `.ipynb` file to your local machine, then upload it to Courseworks when complete (in the menubar, select File$\\rightarrow$Download as$\\rightarrow$Notebook).\n",
    "\n",
    "**Failure to submit a Jupyter notebook will result in a grade of zero for the assignment.**\n",
    "\n",
    "### Grading\n",
    "\n",
    "Possible points on late assignments are deducted by 50% for each day they are late. For example, if you get 80% of the total possible credits on a homework but hand in that homework a day late, you would get 40%. Assignments two days late get zero points.\n",
    "\n",
    "Once solutions are posted and graded assignments are handed back, students have 1 week to bring their grading discrepancies to a CA for consideration of possible grading errors.\n",
    "\n",
    "Because grading is automated, please delete (or comment out) the `raise NotImplmeneted` code before attempting a problem.\n",
    "\n",
    "Empty un-editable cells in an assignment are there for a reason. They will be filled with tests by the automatic grader. Please do not attempt to remove them.\n",
    "\n",
    "### Getting Help\n",
    "\n",
    "Asking for help is a great way to increase your chance of success. However there are some rules. When asking for help (especially from a fellow student), *you can show your helper your code but you can not view theirs*. You work needs to be your own. You can not post screenshots of your current work to Ed Discussions or other tools used for getting help.\n",
    "\n",
    "If you need to reach out to a CA for help, please do so via Ed Discussions and not via email. Answers given via Ed Discussions will help you as well as other students. Thus, emails will always have a lower priority for response than Ed Discussions questions. If you do email the CA, please make a note of what section you are in. This helps us identify you in Courseworks faster.\n",
    "\n",
    "Finally, if you do not get a repsonse from a CA within 48 hours, you may email the professor."
   ]
  },
  {
   "cell_type": "markdown",
   "id": "aac16c28",
   "metadata": {},
   "source": [
    "---"
   ]
  },
  {
   "cell_type": "markdown",
   "id": "031b57bc",
   "metadata": {
    "deletable": false,
    "editable": false,
    "nbgrader": {
     "cell_type": "markdown",
     "checksum": "fd4ca25a7a559f61176009260575ab92",
     "grade": false,
     "grade_id": "cell-2c56f6d976447ef1",
     "locked": true,
     "schema_version": 3,
     "solution": false,
     "task": false
    }
   },
   "source": [
    "# Homework 10: SQLAlchemy\n",
    "\n",
    "Total questions: 5<br/>\n",
    "Total points: 8\n",
    "\n",
    "### FYI\n",
    "\n",
    "In class, we used paths on your local machine outside of the notebook to persist data, but here, we'll use a special argument that `'sqlite:///:memory:'` in SQLAlchemy has which stores the database in-memory -- in otherwords, the database will live only so long as you're running the notebook. Afterwards, it will be thrown away. Usually this argument is useful when experimenting, given that as we discussed, it is persistence that often makes databases useful. We use it here however simply to avoid needing to upload multiple files to Courseworks -- everything you need is here.\n",
    "\n",
    "If for any reason you need to discard the contents of your database to start over, you may therefore do so by simply restarting the \"kernel\" of this notebook, which you can do by clicking the restart button in the toolbar (it's 2 buttons to the right of the \"Run\" button) or in the Kernel menu."
   ]
  },
  {
   "cell_type": "markdown",
   "id": "5f10b496",
   "metadata": {
    "deletable": false,
    "editable": false,
    "nbgrader": {
     "cell_type": "markdown",
     "checksum": "20746b6c41b372dd7fda6f0f73607edb",
     "grade": false,
     "grade_id": "cell-59eefa9cc9aa963e",
     "locked": true,
     "schema_version": 3,
     "solution": false,
     "task": false
    }
   },
   "source": [
    "## Question 1\n",
    "\n",
    "Using `SQLAlchemy`'s ORM (object relational mapping) layer, we will be creating a new database with some new tables.\n",
    "\n",
    "For the first table, create a table named `students` by defining a `Student` class. A `Student` should have the following:\n",
    "\n",
    "* a `uni` (`String`)\n",
    "* a `fullname` (`String`)\n",
    "* a `nickname` (`String`)\n",
    "* a planned `graduation_date` (`Date`)\n",
    "* a tuition `balance` (`Float`)\n",
    "\n",
    "as well as an `id` as a primary key.\n",
    "\n",
    "Be sure to define the `__tablename__` attribute within the `Student` class.\n",
    "\n",
    "[2.5 points]"
   ]
  },
  {
   "cell_type": "code",
   "execution_count": 1,
   "id": "8332cf21",
   "metadata": {},
   "outputs": [],
   "source": [
    "from sqlalchemy import create_engine\n",
    "\n",
    "#engine = create_engine(f\"sqlite:///try.db\", echo=True)"
   ]
  },
  {
   "cell_type": "code",
   "execution_count": 2,
   "id": "4c8172c1",
   "metadata": {
    "deletable": false,
    "nbgrader": {
     "cell_type": "code",
     "checksum": "1ef88f75c901090cd761e269391c3a67",
     "grade": false,
     "grade_id": "cell-d15613ee427db50a",
     "locked": false,
     "schema_version": 3,
     "solution": true,
     "task": false
    }
   },
   "outputs": [],
   "source": [
    "# <-- DO NOT DELETE\n",
    "from sqlalchemy import Column, Date, Integer, Float, String\n",
    "from sqlalchemy.ext.declarative import declarative_base\n",
    "\n",
    "Base = declarative_base()\n",
    "# -->\n",
    "\n",
    "class Student(Base):\n",
    "    # YOUR CODE HERE\n",
    "   # raise NotImplementedError()\n",
    "    __tablename__=\"students\"\n",
    "    \n",
    "    id=Column(Integer, primary_key=True)\n",
    "    uni=Column(String)\n",
    "    fullname=Column(String)\n",
    "    nickname=Column(String)\n",
    "    graduation_date=Column(Date)\n",
    "    balance=Column(Float)\n",
    "    \n",
    "#Base.metadata.create_all(engine, checkfirst=True)"
   ]
  },
  {
   "cell_type": "code",
   "execution_count": 3,
   "id": "5a414604",
   "metadata": {
    "deletable": false,
    "editable": false,
    "nbgrader": {
     "cell_type": "code",
     "checksum": "415d5df493f6db245e24985d2c060e52",
     "grade": true,
     "grade_id": "cell-52086feff76a74c0",
     "locked": true,
     "points": 0.5,
     "schema_version": 3,
     "solution": false,
     "task": false
    }
   },
   "outputs": [],
   "source": [
    "# CELL INTENTIONALLY LEFT BLANK - DO NOT ALTER OR DELETE"
   ]
  },
  {
   "cell_type": "code",
   "execution_count": 4,
   "id": "f127e1d4",
   "metadata": {
    "deletable": false,
    "editable": false,
    "nbgrader": {
     "cell_type": "code",
     "checksum": "53406c4c90b26d7028ffd928a43365db",
     "grade": true,
     "grade_id": "cell-cb9810b62b85cac3",
     "locked": true,
     "points": 0.5,
     "schema_version": 3,
     "solution": false,
     "task": false
    }
   },
   "outputs": [],
   "source": [
    "# CELL INTENTIONALLY LEFT BLANK - DO NOT ALTER OR DELETE"
   ]
  },
  {
   "cell_type": "code",
   "execution_count": 5,
   "id": "dcc7f0a4",
   "metadata": {
    "deletable": false,
    "editable": false,
    "nbgrader": {
     "cell_type": "code",
     "checksum": "dfe8063f23ee7f461ded423dfc0b9c61",
     "grade": true,
     "grade_id": "cell-588fdf97e23cd5d1",
     "locked": true,
     "points": 0.5,
     "schema_version": 3,
     "solution": false,
     "task": false
    }
   },
   "outputs": [],
   "source": [
    "# CELL INTENTIONALLY LEFT BLANK - DO NOT ALTER OR DELETE"
   ]
  },
  {
   "cell_type": "code",
   "execution_count": 6,
   "id": "a0275d46",
   "metadata": {
    "deletable": false,
    "editable": false,
    "nbgrader": {
     "cell_type": "code",
     "checksum": "c2e9061cffb4511c67861b812cf1e48c",
     "grade": true,
     "grade_id": "cell-e2642590c29e05d8",
     "locked": true,
     "points": 0.5,
     "schema_version": 3,
     "solution": false,
     "task": false
    }
   },
   "outputs": [],
   "source": [
    "# CELL INTENTIONALLY LEFT BLANK - DO NOT ALTER OR DELETE"
   ]
  },
  {
   "cell_type": "code",
   "execution_count": 7,
   "id": "38acd531",
   "metadata": {
    "deletable": false,
    "editable": false,
    "nbgrader": {
     "cell_type": "code",
     "checksum": "19c1d587463bbd137774ccbbd220beed",
     "grade": true,
     "grade_id": "cell-39479c17323060c6",
     "locked": true,
     "points": 0.5,
     "schema_version": 3,
     "solution": false,
     "task": false
    }
   },
   "outputs": [],
   "source": [
    "# CELL INTENTIONALLY LEFT BLANK - DO NOT ALTER OR DELETE"
   ]
  },
  {
   "cell_type": "markdown",
   "id": "5b1ba50f",
   "metadata": {
    "deletable": false,
    "editable": false,
    "nbgrader": {
     "cell_type": "markdown",
     "checksum": "3f7e7c3769ee9fe3f1e98ffc98749e07",
     "grade": false,
     "grade_id": "cell-c0aa40af8073d6b9",
     "locked": true,
     "schema_version": 3,
     "solution": false,
     "task": false
    }
   },
   "source": [
    "## Question 2\n",
    "\n",
    "Next, let's define a `classes` table with a `Class` class. A `Class` should have the following columns:\n",
    "\n",
    "* a `name` (`String`) of the class\n",
    "* a `days` (`String`) of week representing the schedule (e.g. `M` for Monday schedule, `MW` for Monday + Wednesday schedule, `TR` for Tuesday + Thursday schedule, etc)\n",
    "* a `professor` (`String`) name\n",
    "\n",
    "as well as an `id` as a primary key.\n",
    "\n",
    "Again, be sure to define the `__tablename__` attribute within the `Class` class.\n",
    "\n",
    "[1 point]"
   ]
  },
  {
   "cell_type": "code",
   "execution_count": 8,
   "id": "c03232ed",
   "metadata": {
    "deletable": false,
    "nbgrader": {
     "cell_type": "code",
     "checksum": "7c42004919854782b87bdbe769cbeea0",
     "grade": false,
     "grade_id": "cell-90272762fb8c542f",
     "locked": false,
     "schema_version": 3,
     "solution": true,
     "task": false
    }
   },
   "outputs": [],
   "source": [
    "class Class(Base):\n",
    "    # YOUR CODE HERE\n",
    "    #raise NotImplementedError()\n",
    "    __tablename__=\"classes\"\n",
    "    \n",
    "    id=Column(Integer, primary_key=True)\n",
    "    name=Column(String)\n",
    "    days=Column(String)\n",
    "    professor=Column(String)\n",
    "    \n",
    "#Base.metadata.create_all(engine, checkfirst=True)"
   ]
  },
  {
   "cell_type": "code",
   "execution_count": 9,
   "id": "bb594957",
   "metadata": {
    "deletable": false,
    "editable": false,
    "nbgrader": {
     "cell_type": "code",
     "checksum": "7885919169c045a9758ca9c0abc884e7",
     "grade": true,
     "grade_id": "cell-5f4a0472c7c13659",
     "locked": true,
     "points": 0.5,
     "schema_version": 3,
     "solution": false,
     "task": false
    }
   },
   "outputs": [],
   "source": [
    "# CELL INTENTIONALLY LEFT BLANK - DO NOT ALTER OR DELETE"
   ]
  },
  {
   "cell_type": "code",
   "execution_count": 10,
   "id": "61752049",
   "metadata": {
    "deletable": false,
    "editable": false,
    "nbgrader": {
     "cell_type": "code",
     "checksum": "0bc04db313a8494228125262c3c1ef94",
     "grade": true,
     "grade_id": "cell-0cda02dbf8d60ae5",
     "locked": true,
     "points": 0.5,
     "schema_version": 3,
     "solution": false,
     "task": false
    }
   },
   "outputs": [],
   "source": [
    "# CELL INTENTIONALLY LEFT BLANK - DO NOT ALTER OR DELETE"
   ]
  },
  {
   "cell_type": "markdown",
   "id": "c1703a90",
   "metadata": {
    "deletable": false,
    "editable": false,
    "nbgrader": {
     "cell_type": "markdown",
     "checksum": "a6b0d7204fa8bce48a861ab67871feaa",
     "grade": false,
     "grade_id": "cell-d63d9e4533449cff",
     "locked": true,
     "schema_version": 3,
     "solution": false,
     "task": false
    }
   },
   "source": [
    "## Question 3\n",
    "\n",
    "It makes sense that a class has students enrolled in it. And that students can be enrolled in one or more classes. We consider this a [many-to-many relationship](https://docs.sqlalchemy.org/en/14/orm/basic_relationships.html#many-to-many). (It may also be helpful to read [this part](https://docs.sqlalchemy.org/en/14/orm/tutorial.html#building-a-many-to-many-relationship) of the SQLAlchemy tutorial.)\n",
    "\n",
    "Defined for you is an association table, `student_classes`. You are to re-define both the `Student` and `Class` classes:\n",
    "\n",
    "Re-define your `Student` class (using the same table name and columns already defined) to include a `classes` attribute using SQLAlchemy's [`relationship()` method](https://docs.sqlalchemy.org/en/14/orm/relationship_api.html#sqlalchemy.orm.relationship). The relationship should be called with 3 arguments: one for the Python class that we're creating a relationship to; one for the [`back_populates`](https://docs.sqlalchemy.org/en/14/orm/relationship_api.html#sqlalchemy.orm.relationship.params.back_populates) argument; and one for [`secondary`](https://docs.sqlalchemy.org/en/14/orm/relationship_api.html#sqlalchemy.orm.relationship.params.secondary) to map to the association table.\n",
    "\n",
    "Do the same with your `Class` class with including a `students` attrubte using the `relationship()` method.\n",
    "\n",
    "\n",
    "[1.5 points]"
   ]
  },
  {
   "cell_type": "code",
   "execution_count": 11,
   "id": "392a3672",
   "metadata": {
    "deletable": false,
    "nbgrader": {
     "cell_type": "code",
     "checksum": "6154066c023292fa61088c4252718f43",
     "grade": false,
     "grade_id": "cell-cdeadd2349087623",
     "locked": false,
     "schema_version": 3,
     "solution": true,
     "task": false
    }
   },
   "outputs": [],
   "source": [
    "# <-- DO NOT DELETE\n",
    "from sqlalchemy.schema import ForeignKey\n",
    "from sqlalchemy import Table\n",
    "from sqlalchemy.orm import relationship\n",
    "\n",
    "\n",
    "Base = declarative_base()\n",
    "student_class = Table(\"student_classes\", Base.metadata,\n",
    "    Column(\"student_id\", ForeignKey(\"students.id\"), primary_key=True),\n",
    "    Column(\"class_id\", ForeignKey(\"classes.id\"), primary_key=True),\n",
    "                      \n",
    ")\n",
    "# -->\n",
    "\n",
    "\n",
    "class Student(Base):\n",
    "    # YOUR CODE HERE\n",
    "   # raise NotImplementedError()\n",
    "    __tablename__=\"students\"\n",
    "    \n",
    "    id=Column(Integer, primary_key=True)\n",
    "    uni=Column(String)\n",
    "    fullname=Column(String)\n",
    "    nickname=Column(String)\n",
    "    graduation_date=Column(Date)\n",
    "    balance=Column(Float)\n",
    "    classes=relationship('Class', secondary= student_class, back_populates='students')\n",
    "    \n",
    "\n",
    "class Class(Base):\n",
    "    # YOUR CODE HERE\n",
    "   # raise NotImplementedError()\n",
    "    __tablename__=\"classes\"\n",
    "    \n",
    "    id=Column(Integer, primary_key=True)\n",
    "    name=Column(String)\n",
    "    days=Column(String)\n",
    "    professor=Column(String)\n",
    "    students=relationship('Student', secondary=student_class, back_populates='classes')\n",
    "    \n",
    "#Base.metadata.create_all(engine)"
   ]
  },
  {
   "cell_type": "code",
   "execution_count": 12,
   "id": "499f7a66",
   "metadata": {
    "deletable": false,
    "editable": false,
    "nbgrader": {
     "cell_type": "code",
     "checksum": "8da450c5c519d27a4806d7166b2c7dd5",
     "grade": true,
     "grade_id": "cell-168a4fb5f14594d9",
     "locked": true,
     "points": 0.5,
     "schema_version": 3,
     "solution": false,
     "task": false
    }
   },
   "outputs": [],
   "source": [
    "# CELL INTENTIONALLY LEFT BLANK - DO NOT ALTER OR DELETE"
   ]
  },
  {
   "cell_type": "code",
   "execution_count": 13,
   "id": "fe79ded1",
   "metadata": {
    "deletable": false,
    "editable": false,
    "nbgrader": {
     "cell_type": "code",
     "checksum": "b3461fad82b7bef106959e772ded8d84",
     "grade": true,
     "grade_id": "cell-78928eea2439957b",
     "locked": true,
     "points": 0.5,
     "schema_version": 3,
     "solution": false,
     "task": false
    }
   },
   "outputs": [],
   "source": [
    "# CELL INTENTIONALLY LEFT BLANK - DO NOT ALTER OR DELETE"
   ]
  },
  {
   "cell_type": "code",
   "execution_count": 14,
   "id": "0ce087e7",
   "metadata": {
    "deletable": false,
    "editable": false,
    "nbgrader": {
     "cell_type": "code",
     "checksum": "1c35e913a1dc6726ae63674435fa0580",
     "grade": true,
     "grade_id": "cell-f97eb07cdc365d35",
     "locked": true,
     "points": 0.5,
     "schema_version": 3,
     "solution": false,
     "task": false
    }
   },
   "outputs": [],
   "source": [
    "# CELL INTENTIONALLY LEFT BLANK - DO NOT ALTER OR DELETE"
   ]
  },
  {
   "cell_type": "markdown",
   "id": "9cc50995",
   "metadata": {
    "deletable": false,
    "editable": false,
    "nbgrader": {
     "cell_type": "markdown",
     "checksum": "10adbf39411b32c1feeb324bbb22d36a",
     "grade": false,
     "grade_id": "cell-8d8f7ca1df8fbd86",
     "locked": true,
     "schema_version": 3,
     "solution": false,
     "task": false
    }
   },
   "source": [
    "## Question 4\n",
    "\n",
    "Let's now add some data into our two tables.\n",
    "\n",
    "With the data provided below, create 3 students using your `Student` class, create 4 classes using your `Class` class, and make sure the students are \"enrolled\" in the listed classes. You'll then use `session.add_all` and `session.commit` to add the 3 students and 2 classes to your database.\n",
    "\n",
    "**Students:**\n",
    "\n",
    "| UNI    | Fullname          | Nickname | Graduation Date   | Balance | Classes   |\n",
    "|--------|-------------------|----------|-------------------|---------|-----------|\n",
    "| ab1234 | Elizabeth Rose    | Liz      | May 1, 2023       | 0       | Stochastic Models |\n",
    "| cd5678 | Jon-Paul Phillips | JP       | December 15, 2022 | 526.50  | Stochastic Models, Data Analytics & Machine Learning |\n",
    "| ef0987 | Idris Sanders     |          | May 1, 2024       | 392.12  | Data Analytics & Machine Learning, Foundations of Data Science |\n",
    "\n",
    "**Classes:**\n",
    "\n",
    "| Name                              | Days | Professor       |\n",
    "|-----------------------------------|------|-----------------|\n",
    "| Stochastic Models                 | TR   | Marcus Brown    |\n",
    "| Data Analytics & Machine Learning | MW   | Grace Robbinson |\n",
    "| Foundations of Data Science       | T    | Shannon Wells   |\n",
    "| Reinforcement Learning            | WF   | Joe Greene      |\n",
    "\n",
    "\n",
    "Name your variables like so: `student1`, `student2`, `class1`, etc.\n",
    "\n",
    "[2 points]"
   ]
  },
  {
   "cell_type": "code",
   "execution_count": 15,
   "id": "b381be14",
   "metadata": {
    "deletable": false,
    "nbgrader": {
     "cell_type": "code",
     "checksum": "a2e3b328f543349e282819f4af69ae92",
     "grade": false,
     "grade_id": "cell-d3fc829da20488ee",
     "locked": false,
     "schema_version": 3,
     "solution": true,
     "task": false
    }
   },
   "outputs": [],
   "source": [
    "# <-- DO NOT DELETE\n",
    "import datetime \n",
    "from sqlalchemy.orm import sessionmaker\n",
    "from sqlalchemy import create_engine\n",
    "engine = create_engine(\"sqlite:///:memory:\")\n",
    "Base.metadata.create_all(engine)\n",
    "Session = sessionmaker(bind=engine)\n",
    "session = Session()\n",
    "# -->\n",
    "\n",
    "# YOUR CODE HERE\n",
    "#raise NotImplementedError()\n",
    "\n",
    "\n",
    "class1=Class(name='Stochastic Models' , days= 'TR' , professor= 'Marcus Brown' )\n",
    "class2=Class(name= 'Data Analytics & Machine Learning', days='MW'  , professor= 'Grace Robbinson' )\n",
    "class3=Class(name= 'Foundations of Data Science', days= 'T' , professor= 'Shannon Wells' )\n",
    "class4=Class(name='Reinforcement Learning' , days= 'WF' , professor= 'Joe Greene' )\n",
    "\n",
    "\n",
    "student1=Student(uni='ab1234', fullname='Elizabeth Rose', nickname='Liz', graduation_date=datetime.datetime(2023,5,1),\n",
    "                 balance=0)\n",
    "student2=Student(uni='cd5678', fullname='Jon-Paul Phillips', nickname='JP', graduation_date=datetime.datetime(2022,12,15),\n",
    "                 balance=526.50)\n",
    "student3=Student(uni='ef0987', fullname='Idris Sanders', \n",
    "                 graduation_date=datetime.datetime(2024,5,1), balance=392.12)\n",
    "\n",
    "student1.classes.append(class1)\n",
    "student2.classes.append(class1)\n",
    "student2.classes.append(class2)\n",
    "student3.classes.append(class2)\n",
    "student3.classes.append(class3)\n",
    "\n",
    "\n",
    "# <-- DO NOT DELETE\n",
    "session.add_all([\n",
    "    student1, student2, student3,\n",
    "    class1, class2, class3, class4\n",
    "])\n",
    "session.commit()\n",
    "# -->"
   ]
  },
  {
   "cell_type": "code",
   "execution_count": 16,
   "id": "5ca2661c",
   "metadata": {
    "deletable": false,
    "editable": false,
    "nbgrader": {
     "cell_type": "code",
     "checksum": "157c69937e4d2d87be44100796f8ffa4",
     "grade": true,
     "grade_id": "cell-eae2078c2f2c0707",
     "locked": true,
     "points": 0.5,
     "schema_version": 3,
     "solution": false,
     "task": false
    }
   },
   "outputs": [],
   "source": [
    "### BEGIN TESTS\n",
    "results = session.query(Student).filter_by(uni=\"ab1234\").all()\n",
    "\n",
    "assert results[0] == student1\n",
    "assert results[0].classes == [class1]\n",
    "### END TESTS"
   ]
  },
  {
   "cell_type": "code",
   "execution_count": 17,
   "id": "8e0ce4e2",
   "metadata": {
    "deletable": false,
    "editable": false,
    "nbgrader": {
     "cell_type": "code",
     "checksum": "b07f0ada28a0e08c24ad0ab6abc1f83a",
     "grade": true,
     "grade_id": "cell-a8a5e0663511837f",
     "locked": true,
     "points": 0.5,
     "schema_version": 3,
     "solution": false,
     "task": false
    }
   },
   "outputs": [],
   "source": [
    "### BEGIN TESTS\n",
    "results = session.query(Student).filter_by(uni=\"cd5678\").all()\n",
    "\n",
    "assert results[0] == student2\n",
    "assert results[0].classes == [class1, class2]\n",
    "### END TESTS"
   ]
  },
  {
   "cell_type": "code",
   "execution_count": 18,
   "id": "1ada0c55",
   "metadata": {
    "deletable": false,
    "editable": false,
    "nbgrader": {
     "cell_type": "code",
     "checksum": "0a3930e63beabe9b78899e68e2a97574",
     "grade": true,
     "grade_id": "cell-6eecf06da65163e5",
     "locked": true,
     "points": 0.5,
     "schema_version": 3,
     "solution": false,
     "task": false
    }
   },
   "outputs": [],
   "source": [
    "### BEGIN TESTS\n",
    "results = session.query(Student).filter_by(uni=\"ef0987\").all()\n",
    "\n",
    "assert results[0] == student3\n",
    "assert results[0].classes == [class2, class3]\n",
    "### END TESTS"
   ]
  },
  {
   "cell_type": "code",
   "execution_count": 19,
   "id": "5f1e4c3c",
   "metadata": {
    "deletable": false,
    "editable": false,
    "nbgrader": {
     "cell_type": "code",
     "checksum": "bacaf8a1b7f409b7c2ec871feac7f3cc",
     "grade": true,
     "grade_id": "cell-d9d0b682e37925ef",
     "locked": true,
     "points": 0.5,
     "schema_version": 3,
     "solution": false,
     "task": false
    }
   },
   "outputs": [],
   "source": [
    "### BEGIN TESTS\n",
    "results = session.query(Class).filter_by(students=None).all()\n",
    "assert results == [class4]\n",
    "### END TESTS"
   ]
  },
  {
   "cell_type": "markdown",
   "id": "a9f1124c",
   "metadata": {
    "deletable": false,
    "editable": false,
    "nbgrader": {
     "cell_type": "markdown",
     "checksum": "67bb1c31146d8f556c17c076b5b4af8c",
     "grade": false,
     "grade_id": "cell-263e814640ff8d02",
     "locked": true,
     "schema_version": 3,
     "solution": false,
     "task": false
    }
   },
   "source": [
    "## Question 5\n",
    "\n",
    "Recall the types of joins we reviewed on Monday's lecture. Define a query against your database using SQLAlchemy's ORM with the `session.query` method that returns all classes (just the class `name`) and the number of enrolled students. Include classes that do not have any students enrolled. \n",
    "\n",
    "Assign your query to a variable called `result`.\n",
    "\n",
    "Be sure that the query is executed, so that the `result` is a `list` of `tuple`s containing two items each: the name of the class, and number of students enrolled. Order does not matter.\n",
    "\n",
    "You may need to use [SQLAlchemy's `func` module](https://docs.sqlalchemy.org/en/14/core/functions.html) so it's been imported for you; but feel free to import other SQLAlchemy modules as needed.\n",
    "\n",
    "[1 point]"
   ]
  },
  {
   "cell_type": "code",
   "execution_count": 20,
   "id": "8920a47b",
   "metadata": {
    "deletable": false,
    "nbgrader": {
     "cell_type": "code",
     "checksum": "ac348dbc65ed64ec70397b44a2ab8cd8",
     "grade": false,
     "grade_id": "cell-1f7ff4ae0f568ffa",
     "locked": false,
     "schema_version": 3,
     "solution": true,
     "task": false
    }
   },
   "outputs": [],
   "source": [
    "from sqlalchemy import func\n",
    "\n",
    "# YOUR CODE HERE\n",
    "#raise NotImplementedError()\n",
    "result=session.query(Class.name, func.count(student_class.columns[1])).outerjoin(student_class).group_by(student_class.columns[1]).all()\n",
    "\n",
    "\n",
    "\n"
   ]
  },
  {
   "cell_type": "code",
   "execution_count": 21,
   "id": "05b32705",
   "metadata": {
    "deletable": false,
    "editable": false,
    "nbgrader": {
     "cell_type": "code",
     "checksum": "f9efda19be5963dd13fd69e7b5adf179",
     "grade": true,
     "grade_id": "cell-029caf9592584241",
     "locked": true,
     "points": 1,
     "schema_version": 3,
     "solution": false,
     "task": false
    }
   },
   "outputs": [
    {
     "ename": "AssertionError",
     "evalue": "",
     "output_type": "error",
     "traceback": [
      "\u001b[1;31m---------------------------------------------------------------------------\u001b[0m",
      "\u001b[1;31mAssertionError\u001b[0m                            Traceback (most recent call last)",
      "Input \u001b[1;32mIn [21]\u001b[0m, in \u001b[0;36m<cell line: 8>\u001b[1;34m()\u001b[0m\n\u001b[0;32m      1\u001b[0m \u001b[38;5;66;03m### BEGIN TESTS\u001b[39;00m\n\u001b[0;32m      2\u001b[0m expected \u001b[38;5;241m=\u001b[39m \u001b[38;5;28msorted\u001b[39m([\n\u001b[0;32m      3\u001b[0m     (\u001b[38;5;124m'\u001b[39m\u001b[38;5;124mReinforcement Learning\u001b[39m\u001b[38;5;124m'\u001b[39m, \u001b[38;5;241m0\u001b[39m),\n\u001b[0;32m      4\u001b[0m     (\u001b[38;5;124m'\u001b[39m\u001b[38;5;124mStochastic Models\u001b[39m\u001b[38;5;124m'\u001b[39m, \u001b[38;5;241m1\u001b[39m),\n\u001b[0;32m      5\u001b[0m     (\u001b[38;5;124m'\u001b[39m\u001b[38;5;124mData Analytics & Machine Learning\u001b[39m\u001b[38;5;124m'\u001b[39m, \u001b[38;5;241m2\u001b[39m),\n\u001b[0;32m      6\u001b[0m     (\u001b[38;5;124m'\u001b[39m\u001b[38;5;124mStochastic Models\u001b[39m\u001b[38;5;124m'\u001b[39m, \u001b[38;5;241m2\u001b[39m)\n\u001b[0;32m      7\u001b[0m ])\n\u001b[1;32m----> 8\u001b[0m \u001b[38;5;28;01massert\u001b[39;00m expected \u001b[38;5;241m==\u001b[39m \u001b[38;5;28msorted\u001b[39m(result)\n",
      "\u001b[1;31mAssertionError\u001b[0m: "
     ]
    }
   ],
   "source": [
    "### BEGIN TESTS\n",
    "expected = sorted([\n",
    "    ('Reinforcement Learning', 0),\n",
    "    ('Stochastic Models', 1),\n",
    "    ('Data Analytics & Machine Learning', 2),\n",
    "    ('Stochastic Models', 2)\n",
    "])\n",
    "assert expected == sorted(result)\n",
    "### END TESTS"
   ]
  }
 ],
 "metadata": {
  "kernelspec": {
   "display_name": "Python 3 (ipykernel)",
   "language": "python",
   "name": "python3"
  },
  "language_info": {
   "codemirror_mode": {
    "name": "ipython",
    "version": 3
   },
   "file_extension": ".py",
   "mimetype": "text/x-python",
   "name": "python",
   "nbconvert_exporter": "python",
   "pygments_lexer": "ipython3",
   "version": "3.9.12"
  }
 },
 "nbformat": 4,
 "nbformat_minor": 5
}

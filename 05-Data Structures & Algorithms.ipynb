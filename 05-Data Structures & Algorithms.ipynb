{
 "cells": [
  {
   "cell_type": "markdown",
   "id": "27e6b3c7",
   "metadata": {},
   "source": [
    "Please read the following instructions thoroughly. Neglecting to do so may result in missed points.\n",
    "\n",
    "### Preamble\n",
    "**Reminder**: Homeworks are due by 11:59PM ET on Sundays.\n",
    "\n",
    "Before you turn this problem set in, make sure everything runs as expected. First, **restart the kernel** (in the menubar, select Kernel$\\rightarrow$Restart) and then **run all cells** (in the menubar, select Cell$\\rightarrow$Run All).\n",
    "\n",
    "### Naming conventions\n",
    "Be sure the filename of your notebook is in the following form:\n",
    "\n",
    "    <uni>_<assignment>_<details [optional]>.<extension>\n",
    "    \n",
    "For example:\n",
    "\n",
    "    lr3086_hw01.ipynb\n",
    "    lr3086_hw01_complete.ipynb\n",
    "    LR3086_HW01.ipynb\n",
    "    \n",
    "To rename a notebook, in the menubar, select File$\\rightarrow$Rename. The extension for notebook files, `.ipynb`, will already be appended to the filename, but will be hidden from view within the notebook.\n",
    "    \n",
    "This naming format allows for autograding of all assignments. If your files are not named with this format, you should expect a grade of zero for the assignment.\n",
    "\n",
    "Courseworks may rename your file to something like `lr3086_hw0-1.ipynb` if you resubmit your assignment. This is perfectly fine.\n",
    "\n",
    "### What Format To Submit In\n",
    "\n",
    "Most homeworks are in Jupyter notebooks. Once you've finished your homework, unless specified otherwise, please download your work as an `.ipynb` file to your local machine, then upload it to Courseworks when complete (in the menubar, select File$\\rightarrow$Download as$\\rightarrow$Notebook).\n",
    "\n",
    "**Failure to submit a Jupyter notebook will result in a grade of zero for the assignment.**\n",
    "\n",
    "### Grading\n",
    "\n",
    "Possible points on late assignments are deducted by 50% for each day they are late. For example, if you get 80% of the total possible credits on a homework but hand in that homework a day late, you would get 40%. Assignments two days late get zero points.\n",
    "\n",
    "Once solutions are posted and graded assignments are handed back, students have 1 week to bring their grading discrepancies to a CA for consideration of possible grading errors.\n",
    "\n",
    "Because grading is automated, please delete (or comment out) the `raise NotImplmeneted` code before attempting a problem.\n",
    "\n",
    "Empty un-editable cells in an assignment are there for a reason. They will be filled with tests by the automatic grader. Please do not attempt to remove them.\n",
    "\n",
    "### Getting Help\n",
    "\n",
    "Asking for help is a great way to increase your chance of success. However there are some rules. When asking for help (especially from a fellow student), *you can show your helper your code but you can not view theirs*. You work needs to be your own. You can not post screenshots of your current work to Ed Discussions or other tools used for getting help.\n",
    "\n",
    "If you need to reach out to a CA for help, please do so via Ed Discussions and not via email. Answers given via Ed Discussions will help you as well as other students. Thus, emails will always have a lower priority for response than Ed Discussions questions. If you do email the CA, please make a note of what section you are in. This helps us identify you in Courseworks faster.\n",
    "\n",
    "Finally, if you do not get a repsonse from a CA within 48 hours, you may email the professor."
   ]
  },
  {
   "cell_type": "markdown",
   "id": "90abbe81",
   "metadata": {},
   "source": [
    "---"
   ]
  },
  {
   "cell_type": "markdown",
   "id": "95ec0fd9",
   "metadata": {
    "deletable": false,
    "editable": false,
    "nbgrader": {
     "cell_type": "markdown",
     "checksum": "e7f0c1b0b716deef45721f0820ad3c17",
     "grade": false,
     "grade_id": "cell-9b35fd3e9b2eb745",
     "locked": true,
     "schema_version": 3,
     "solution": false,
     "task": false
    }
   },
   "source": [
    "# Homework 5: Data Structures & Algorithms\n",
    "\n",
    "Total questions: 3<br/>\n",
    "Total points: 10\n",
    "\n",
    "There are many details in each of the questions' prompts – be sure to read closely. Run the tests below your solutions to ensure you've implemented them correctly."
   ]
  },
  {
   "cell_type": "markdown",
   "id": "cd81a0b5",
   "metadata": {
    "deletable": false,
    "editable": false,
    "nbgrader": {
     "cell_type": "markdown",
     "checksum": "b64e4463b8a38099d05a1e31ed04fb81",
     "grade": false,
     "grade_id": "cell-0e4e09984c3f856e",
     "locked": true,
     "schema_version": 3,
     "solution": false,
     "task": false
    }
   },
   "source": [
    "## Question 1\n",
    "\n",
    "Linked lists are a collection of nodes connect by a pointer. Each node holds a value and a pointer to the next node or to some unique value like `None` which indidcates the end of the list.\n",
    "\n",
    "Create a class `Node` that is instantiated with a value and a reference to the next node in the linked list. The value of the node should be accessible via an attribute named `value` on the node. A reference to the next node in the list should be accessible via an attribute named `next` on the node. If the node is the last node in a linked list, the node's `next` value should be `None`. Implement a `__repr__` method that returns a human-readable string representing the node in the format of `<Node(X)>` where `X` is the value of the node instance.\n",
    "\n",
    "Create a function `insert` that takes a reference to the first node in a linked list, a new `value`, and a position and inserts the a new node with the given value at the given position in the list. The first node of the updated list should be returned. If the position is farther than the length of the list, an `IndexError` should be raised.\n",
    "\n",
    "Create a function `pop` that takes a reference to the first node in a linked list and a position and removes the node at that position in the linked list. This function should return two items: the popped node and the head of the linked list in a tuple. If there are no more nodes to pop, raise an `IndexError`.\n",
    "\n",
    "Create a function `stringify_linked_list` that takes a reference to the first node of a linked list and returns a printable string of all nodes in the linked list. See the test cases below for how to format the expected string output.\n",
    "\n",
    "[6 points]"
   ]
  },
  {
   "cell_type": "code",
   "execution_count": 1,
   "id": "e1ad1fb8",
   "metadata": {
    "deletable": false,
    "nbgrader": {
     "cell_type": "code",
     "checksum": "7077de2caf7aff5cfccec7454c965312",
     "grade": false,
     "grade_id": "cell-297c228f59d53764",
     "locked": false,
     "schema_version": 3,
     "solution": true,
     "task": false
    }
   },
   "outputs": [],
   "source": [
    "class Node:\n",
    "    # YOUR CODE HERE\n",
    "    #raise NotImplementedError()\n",
    "    def __init__(self, value, reference=None):\n",
    "        self.value=value\n",
    "        self.next=reference\n",
    "    \n",
    "    @property\n",
    "    def value(self):\n",
    "        return self.__value\n",
    "    \n",
    "    @property\n",
    "    def next(self):\n",
    "        return self.__next\n",
    "    \n",
    "    @value.setter\n",
    "    def value(self, value):\n",
    "        self.__value=value\n",
    "        \n",
    "    @next.setter\n",
    "    def next(self, reference):\n",
    "        self.__next=reference\n",
    "        \n",
    "    \n",
    "    \n",
    "    def __repr__(self):\n",
    "        return f\"<Node ({self.value})>\"\n",
    "    \n",
    "def insert(head, value, position):\n",
    "    # YOUR CODE HERE\n",
    "   # raise NotImplementedError()\n",
    "    node=head\n",
    "    if position==0:\n",
    "        new=Node(value, node)\n",
    "        return new\n",
    "        \n",
    "    i=0\n",
    "    while i<position:\n",
    "        if i==position-1:\n",
    "            new=Node(value, node.next)\n",
    "            node.next=new\n",
    "            return head\n",
    "        \n",
    "        node=node.next\n",
    "        i=i+1\n",
    "        if node==None:\n",
    "            raise IndexError\n",
    "        \n",
    "\n",
    "\n",
    "def pop(head, position):\n",
    "    # YOUR CODE HERE\n",
    "    #raise NotImplementedError()\n",
    "    i=0\n",
    "    node=head\n",
    "    \n",
    "    \n",
    "    \n",
    "    if position==0:\n",
    "        new_head=head.next\n",
    "        head.next=None\n",
    "        return (head, new_head)\n",
    "    \n",
    "    \n",
    "    while i<position:\n",
    "        if i==position-1:\n",
    "            removed=node.next\n",
    "            if removed==None:\n",
    "                raise IndexError\n",
    "            new_next=removed.next\n",
    "            removed.next=None\n",
    "            node.next=new_next\n",
    "            return (removed, head)\n",
    "         \n",
    "        i=i+1\n",
    "        node=node.next\n",
    "        \n",
    "    \n",
    "\n",
    "def stringify_linked_list(head):\n",
    "    result=\"\"\n",
    "    node=head\n",
    "    while True:\n",
    "        result=f\"{result}{repr(node)} -> \"\n",
    "        \n",
    "        node=node.next\n",
    "        if node==None:\n",
    "            result=f\"{result}None\"\n",
    "            return result\n",
    "        \n",
    "        \n",
    "        \n",
    "    # YOUR CODE HERE\n",
    "   # raise NotImplementedError()\n",
    "\n"
   ]
  },
  {
   "cell_type": "code",
   "execution_count": 2,
   "id": "284e7493",
   "metadata": {
    "deletable": false,
    "editable": false,
    "nbgrader": {
     "cell_type": "code",
     "checksum": "11b02ecf4c0a9a44be4d8b91a7915992",
     "grade": true,
     "grade_id": "cell-0500bff60c227ce2",
     "locked": true,
     "points": 0.5,
     "schema_version": 3,
     "solution": false,
     "task": false
    }
   },
   "outputs": [],
   "source": [
    "### BEGIN TESTS\n",
    "assert repr(Node(-1, None)) == '<Node (-1)>'\n",
    "### END TESTS"
   ]
  },
  {
   "cell_type": "code",
   "execution_count": 3,
   "id": "5d9f48c9",
   "metadata": {
    "deletable": false,
    "editable": false,
    "nbgrader": {
     "cell_type": "code",
     "checksum": "400af3bce85f28f97a4be19dc369b25a",
     "grade": true,
     "grade_id": "cell-9ae9d5f6d9143039",
     "locked": true,
     "points": 0.5,
     "schema_version": 3,
     "solution": false,
     "task": false
    }
   },
   "outputs": [],
   "source": [
    "### BEGIN TESTS\n",
    "n1 = Node(4, None)\n",
    "assert n1.value == 4\n",
    "assert n1.next is None\n",
    "### END TESTS"
   ]
  },
  {
   "cell_type": "code",
   "execution_count": 4,
   "id": "65df1e89",
   "metadata": {
    "deletable": false,
    "editable": false,
    "nbgrader": {
     "cell_type": "code",
     "checksum": "41206361e8be12f584d5116712b76093",
     "grade": true,
     "grade_id": "cell-6351a00c8f778f7a",
     "locked": true,
     "points": 0.5,
     "schema_version": 3,
     "solution": false,
     "task": false
    }
   },
   "outputs": [],
   "source": [
    "### BEGIN TESTS\n",
    "n2 = Node(8, n1)\n",
    "assert n2.value == 8\n",
    "assert n2.next is n1\n",
    "### END TESTS"
   ]
  },
  {
   "cell_type": "code",
   "execution_count": 5,
   "id": "9b19176a",
   "metadata": {
    "deletable": false,
    "editable": false,
    "nbgrader": {
     "cell_type": "code",
     "checksum": "951e1e7e3f61be50104ce0d73f855dbd",
     "grade": true,
     "grade_id": "cell-ba6716422a08ea47",
     "locked": true,
     "points": 0.5,
     "schema_version": 3,
     "solution": false,
     "task": false
    }
   },
   "outputs": [],
   "source": [
    "### BEGIN TESTS\n",
    "head = None\n",
    "for i in range(3):\n",
    "    head = Node(i, head)\n",
    "\n",
    "assert stringify_linked_list(head) == '<Node (2)> -> <Node (1)> -> <Node (0)> -> None'\n",
    "### END TESTS"
   ]
  },
  {
   "cell_type": "code",
   "execution_count": 6,
   "id": "efe64d72",
   "metadata": {
    "deletable": false,
    "editable": false,
    "nbgrader": {
     "cell_type": "code",
     "checksum": "b4b65efde1c7d76e6af880a9accca353",
     "grade": true,
     "grade_id": "cell-2c90d3298772ac60",
     "locked": true,
     "points": 0.5,
     "schema_version": 3,
     "solution": false,
     "task": false
    }
   },
   "outputs": [],
   "source": [
    "### BEGIN TESTS\n",
    "head = None\n",
    "for i in range(3):\n",
    "    head = Node(i, head)\n",
    "head = insert(head, 0, 0)\n",
    "assert stringify_linked_list(head) == '<Node (0)> -> <Node (2)> -> <Node (1)> -> <Node (0)> -> None'\n",
    "### END TESTS"
   ]
  },
  {
   "cell_type": "code",
   "execution_count": 7,
   "id": "37e254c3",
   "metadata": {
    "deletable": false,
    "editable": false,
    "nbgrader": {
     "cell_type": "code",
     "checksum": "39215899b4dc6a9a11dbbdf36ce934cb",
     "grade": true,
     "grade_id": "cell-06af3d7c2fb34e01",
     "locked": true,
     "points": 0.5,
     "schema_version": 3,
     "solution": false,
     "task": false
    }
   },
   "outputs": [],
   "source": [
    "### BEGIN TESTS\n",
    "head = None\n",
    "for i in range(3):\n",
    "    head = Node(i, head)\n",
    "head = insert(head, 0, 1)\n",
    "assert stringify_linked_list(head) == '<Node (2)> -> <Node (0)> -> <Node (1)> -> <Node (0)> -> None'\n",
    "### END TESTS"
   ]
  },
  {
   "cell_type": "code",
   "execution_count": 8,
   "id": "70026995",
   "metadata": {
    "deletable": false,
    "editable": false,
    "nbgrader": {
     "cell_type": "code",
     "checksum": "fee5ec90e101c2e6c459a176b158d45f",
     "grade": true,
     "grade_id": "cell-398175917e71b524",
     "locked": true,
     "points": 0.5,
     "schema_version": 3,
     "solution": false,
     "task": false
    }
   },
   "outputs": [],
   "source": [
    "### BEGIN TESTS\n",
    "head = None\n",
    "for i in range(3):\n",
    "    head = Node(i, head)\n",
    "head = insert(head, -1, 3)\n",
    "assert stringify_linked_list(head) == '<Node (2)> -> <Node (1)> -> <Node (0)> -> <Node (-1)> -> None'\n",
    "### END TESTS"
   ]
  },
  {
   "cell_type": "code",
   "execution_count": 9,
   "id": "2eaad4ca",
   "metadata": {
    "deletable": false,
    "editable": false,
    "nbgrader": {
     "cell_type": "code",
     "checksum": "b8117c3ab1c22b61fa531539d4836858",
     "grade": true,
     "grade_id": "cell-02ea17cc3951797f",
     "locked": true,
     "points": 0.5,
     "schema_version": 3,
     "solution": false,
     "task": false
    }
   },
   "outputs": [],
   "source": [
    "### BEGIN TESTS\n",
    "head = None\n",
    "for i in range(3):\n",
    "    head = Node(i, head)\n",
    "\n",
    "try:\n",
    "    insert(head, 0, 4)\n",
    "    assert False, 'Should have failed with an IndexError'\n",
    "except IndexError:\n",
    "    pass\n",
    "### END TESTS"
   ]
  },
  {
   "cell_type": "code",
   "execution_count": 10,
   "id": "3d6dba3e",
   "metadata": {
    "deletable": false,
    "editable": false,
    "nbgrader": {
     "cell_type": "code",
     "checksum": "87d5b4f0289bb4862fd273175b62aab1",
     "grade": true,
     "grade_id": "cell-9678d46b04e5932a",
     "locked": true,
     "points": 0.5,
     "schema_version": 3,
     "solution": false,
     "task": false
    }
   },
   "outputs": [],
   "source": [
    "### BEGIN TESTS\n",
    "head = None\n",
    "for i in range(3):\n",
    "    head = Node(i, head)\n",
    "    \n",
    "popped_node, head = pop(head, 1)\n",
    "assert popped_node.value == 1, popped_node.value\n",
    "assert stringify_linked_list(head) == '<Node (2)> -> <Node (0)> -> None'\n",
    "### END TESTS"
   ]
  },
  {
   "cell_type": "code",
   "execution_count": 11,
   "id": "25d77d98",
   "metadata": {
    "deletable": false,
    "editable": false,
    "nbgrader": {
     "cell_type": "code",
     "checksum": "f4d38c6eae0a395f2149251eb4384d8d",
     "grade": true,
     "grade_id": "cell-dabf452ecdc4ed30",
     "locked": true,
     "points": 0.5,
     "schema_version": 3,
     "solution": false,
     "task": false
    }
   },
   "outputs": [],
   "source": [
    "### BEGIN TESTS\n",
    "head = None\n",
    "for i in range(3):\n",
    "    head = Node(i, head)\n",
    "    \n",
    "popped_node, head = pop(head, 0)\n",
    "assert popped_node.value == 2, popped_node.value\n",
    "assert stringify_linked_list(head) == '<Node (1)> -> <Node (0)> -> None'\n",
    "### END TESTS"
   ]
  },
  {
   "cell_type": "code",
   "execution_count": 12,
   "id": "ef8f98f3",
   "metadata": {
    "deletable": false,
    "editable": false,
    "nbgrader": {
     "cell_type": "code",
     "checksum": "1afaa38b9d784d9876d75c0aaa8eb3b3",
     "grade": true,
     "grade_id": "cell-4fe6d4c54645c3f1",
     "locked": true,
     "points": 0.5,
     "schema_version": 3,
     "solution": false,
     "task": false
    }
   },
   "outputs": [],
   "source": [
    "### BEGIN TESTS\n",
    "head = None\n",
    "for i in range(3):\n",
    "    head = Node(i, head)\n",
    "    \n",
    "popped_node, head = pop(head, 2)\n",
    "assert popped_node.value == 0\n",
    "assert stringify_linked_list(head) == '<Node (2)> -> <Node (1)> -> None'\n",
    "### END TESTS"
   ]
  },
  {
   "cell_type": "code",
   "execution_count": 13,
   "id": "a263a2ac",
   "metadata": {
    "deletable": false,
    "editable": false,
    "nbgrader": {
     "cell_type": "code",
     "checksum": "55362b6b5b3772c5fd9f4b392b8ebbec",
     "grade": true,
     "grade_id": "cell-06b279c562c99441",
     "locked": true,
     "points": 0.5,
     "schema_version": 3,
     "solution": false,
     "task": false
    }
   },
   "outputs": [],
   "source": [
    "### BEGIN TESTS\n",
    "head = None\n",
    "for i in range(3):\n",
    "    head = Node(i, head)\n",
    "\n",
    "try:\n",
    "    pop(head, 3)\n",
    "    assert False, 'Should have failed with an IndexError'\n",
    "except IndexError:\n",
    "    pass\n",
    "### END TESTS"
   ]
  },
  {
   "cell_type": "markdown",
   "id": "72dcfba4",
   "metadata": {
    "deletable": false,
    "editable": false,
    "nbgrader": {
     "cell_type": "markdown",
     "checksum": "9dfa2e14fe0046f6993a64bcaa518439",
     "grade": false,
     "grade_id": "cell-13b3c09ae2168661",
     "locked": true,
     "schema_version": 3,
     "solution": false,
     "task": false
    }
   },
   "source": [
    "## Question 2\n",
    "\n",
    "Complete the implementation of bubble sort.\n",
    "\n",
    "All sorting operations must be done on the list passed in. No new lists can be created. The function does not need to return the sorted list since the sorting will be done in-place (ie. using the same memory as the original list). You can not use the `.append` or `.extend` methods on a list. You must use the bubble sort algorithm. Assume that all members of `my_int_list` are integers.\n",
    "\n",
    "[2 points]"
   ]
  },
  {
   "cell_type": "code",
   "execution_count": 14,
   "id": "65fd19fd",
   "metadata": {
    "deletable": false,
    "nbgrader": {
     "cell_type": "code",
     "checksum": "609213a8a3adee18e0dbe5d496b94ab2",
     "grade": false,
     "grade_id": "cell-492aa1fcb5a95e1a",
     "locked": false,
     "schema_version": 3,
     "solution": true,
     "task": false
    }
   },
   "outputs": [],
   "source": [
    "def bubble_sort(my_int_list):\n",
    "    swap_occurred = True  # kick start the while loop\n",
    "    while swap_occurred:\n",
    "        swap_occurred = False\n",
    "        c=0\n",
    "        for i in range(len(my_int_list) - 1):\n",
    "            a=my_int_list[i]\n",
    "            b=my_int_list[i+1]\n",
    "            if a>b:\n",
    "                my_int_list[i]=b\n",
    "                my_int_list[i+1]=a\n",
    "            \n",
    "            if i>0 and c>my_int_list[i]:\n",
    "                swap_occured=False\n",
    "            \n",
    "            c=my_int_list[i]\n",
    "              \n",
    "            # YOUR CODE HERE\n",
    "            #raise NotImplementedError()"
   ]
  },
  {
   "cell_type": "code",
   "execution_count": 15,
   "id": "5ef499d4",
   "metadata": {
    "deletable": false,
    "editable": false,
    "nbgrader": {
     "cell_type": "code",
     "checksum": "1269c7f30a458f3763368773bbf78779",
     "grade": true,
     "grade_id": "cell-a5e25c1caa2cc61e",
     "locked": true,
     "points": 0.5,
     "schema_version": 3,
     "solution": false,
     "task": false
    }
   },
   "outputs": [],
   "source": [
    "### BEGIN TESTS\n",
    "a_list = [3, 1, 2]\n",
    "bubble_sort(a_list)\n",
    "assert a_list == [1, 2, 3]\n",
    "### END TESTS"
   ]
  },
  {
   "cell_type": "code",
   "execution_count": 16,
   "id": "e20ecd12",
   "metadata": {
    "deletable": false,
    "editable": false,
    "nbgrader": {
     "cell_type": "code",
     "checksum": "8e12a47b7e1995757204c532a37284aa",
     "grade": true,
     "grade_id": "cell-47bcc8c8dd347e6f",
     "locked": true,
     "points": 0.5,
     "schema_version": 3,
     "solution": false,
     "task": false
    }
   },
   "outputs": [],
   "source": [
    "### BEGIN TESTS\n",
    "a_list = [1, 2, 3]\n",
    "bubble_sort(a_list)\n",
    "assert a_list == [1, 2, 3]\n",
    "### END TESTS"
   ]
  },
  {
   "cell_type": "code",
   "execution_count": 17,
   "id": "fd544bfe",
   "metadata": {
    "deletable": false,
    "editable": false,
    "nbgrader": {
     "cell_type": "code",
     "checksum": "f2308508763d3c033e1afb9f3748cb30",
     "grade": true,
     "grade_id": "cell-c3a47f9fb66cfcbe",
     "locked": true,
     "points": 0.5,
     "schema_version": 3,
     "solution": false,
     "task": false
    }
   },
   "outputs": [],
   "source": [
    "### BEGIN TESTS\n",
    "a_list = []\n",
    "bubble_sort(a_list)\n",
    "assert a_list == []\n",
    "\n",
    "a_list = [1]\n",
    "bubble_sort(a_list)\n",
    "assert a_list == [1]\n",
    "### END TESTS"
   ]
  },
  {
   "cell_type": "code",
   "execution_count": 18,
   "id": "e20d972a",
   "metadata": {
    "deletable": false,
    "editable": false,
    "nbgrader": {
     "cell_type": "code",
     "checksum": "968885522d96ff88aef0010ac9c2fa7e",
     "grade": true,
     "grade_id": "cell-4b9eb986925e39c4",
     "locked": true,
     "points": 0.5,
     "schema_version": 3,
     "solution": false,
     "task": false
    }
   },
   "outputs": [],
   "source": [
    "# CELL INTENTIONALLY LEFT BLANK - DO NOT ALTER OR DELETE"
   ]
  },
  {
   "cell_type": "markdown",
   "id": "4a6a4a39",
   "metadata": {
    "deletable": false,
    "editable": false,
    "nbgrader": {
     "cell_type": "markdown",
     "checksum": "1472a90ea56834c45ce5ef6fa2362af3",
     "grade": false,
     "grade_id": "cell-2919354e1b74511c",
     "locked": true,
     "schema_version": 3,
     "solution": false,
     "task": false
    }
   },
   "source": [
    "## Question 3\n",
    "\n",
    "Complete the function `binary_search`.\n",
    "\n",
    "Return `True` if `item` is in `sorted_list` and `False` if not. Your function must implement the `binary_search` algorithm using recursion. Assume that all members of `sorted_int_list` are integers. If you use except clauses, they must not be bare (ie. the must catch one or more specific error types).\n",
    "\n",
    "[2 points]"
   ]
  },
  {
   "cell_type": "code",
   "execution_count": 19,
   "id": "3759ede8",
   "metadata": {
    "deletable": false,
    "nbgrader": {
     "cell_type": "code",
     "checksum": "1dd6a9e0ac7731b8253896ab56e4bfe0",
     "grade": false,
     "grade_id": "cell-45d486d546fb325f",
     "locked": false,
     "schema_version": 3,
     "solution": true,
     "task": false
    }
   },
   "outputs": [],
   "source": [
    "def binary_search(item, sorted_int_list):\n",
    "    # YOUR CODE HERE\n",
    "    #raise NotImplementedError()\n",
    "    if len(sorted_int_list)==0:\n",
    "        return False\n",
    "    \n",
    "    start = 0 \n",
    "    end = len(sorted_int_list)-1\n",
    "    mid = (start + end)//2\n",
    "\n",
    "  \n",
    "    if (item == sorted_int_list[mid]):\n",
    "        return True\n",
    "   \n",
    "    if (item > sorted_int_list[mid]):\n",
    "        return binary_search(item, sorted_int_list[mid+1:] ) \n",
    "   \n",
    "        return binary_search(item, sorted_int_list[:mid])\n",
    "    return False"
   ]
  },
  {
   "cell_type": "code",
   "execution_count": 20,
   "id": "fc6db3cb",
   "metadata": {
    "deletable": false,
    "editable": false,
    "nbgrader": {
     "cell_type": "code",
     "checksum": "2bdeb58f3510ef24fe9effc9256f7c5d",
     "grade": true,
     "grade_id": "cell-4b3f43f12a6039c4",
     "locked": true,
     "points": 0.5,
     "schema_version": 3,
     "solution": false,
     "task": false
    }
   },
   "outputs": [],
   "source": [
    "### BEGIN TESTS\n",
    "assert binary_search(4, [1, 2, 3, 4, 5])\n",
    "assert not binary_search(2.5, [1, 2, 3, 4, 5])\n",
    "assert not binary_search(5, [])\n",
    "assert binary_search(5, [5])\n",
    "### END TESTS"
   ]
  },
  {
   "cell_type": "code",
   "execution_count": 21,
   "id": "0e55f1fc",
   "metadata": {
    "deletable": false,
    "editable": false,
    "nbgrader": {
     "cell_type": "code",
     "checksum": "24cb6faa2c79ec202357a947e9c5182b",
     "grade": true,
     "grade_id": "cell-ebed9b4492e23bd9",
     "locked": true,
     "points": 0.5,
     "schema_version": 3,
     "solution": false,
     "task": false
    }
   },
   "outputs": [],
   "source": [
    "# CELL INTENTIONALLY LEFT BLANK - DO NOT ALTER OR DELETE"
   ]
  },
  {
   "cell_type": "code",
   "execution_count": 22,
   "id": "ead5d9f5",
   "metadata": {
    "deletable": false,
    "editable": false,
    "nbgrader": {
     "cell_type": "code",
     "checksum": "872f5a65f9f02e29d7473362b797714d",
     "grade": true,
     "grade_id": "cell-ed2833098327624d",
     "locked": true,
     "points": 1,
     "schema_version": 3,
     "solution": false,
     "task": false
    }
   },
   "outputs": [],
   "source": [
    "# CELL INTENTIONALLY LEFT BLANK - DO NOT ALTER OR DELETE"
   ]
  }
 ],
 "metadata": {
  "kernelspec": {
   "display_name": "Python 3 (ipykernel)",
   "language": "python",
   "name": "python3"
  },
  "language_info": {
   "codemirror_mode": {
    "name": "ipython",
    "version": 3
   },
   "file_extension": ".py",
   "mimetype": "text/x-python",
   "name": "python",
   "nbconvert_exporter": "python",
   "pygments_lexer": "ipython3",
   "version": "3.9.12"
  }
 },
 "nbformat": 4,
 "nbformat_minor": 5
}

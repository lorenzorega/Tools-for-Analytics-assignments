{
 "cells": [
  {
   "cell_type": "markdown",
   "id": "7adeb704",
   "metadata": {},
   "source": [
    "Please read the following instructions thoroughly. Neglecting to do so may result in missed points.\n",
    "\n",
    "### Preamble\n",
    "**Reminder**: Homeworks are due by 11:59PM ET on Sundays.\n",
    "\n",
    "Before you turn this problem set in, make sure everything runs as expected. First, **restart the kernel** (in the menubar, select Kernel$\\rightarrow$Restart) and then **run all cells** (in the menubar, select Cell$\\rightarrow$Run All).\n",
    "\n",
    "### Naming conventions\n",
    "Be sure the filename of your notebook is in the following form:\n",
    "\n",
    "    <uni>_<assignment>_<details [optional]>.<extension>\n",
    "    \n",
    "For example:\n",
    "\n",
    "    lr3086_hw01.ipynb\n",
    "    lr3086_hw01_complete.ipynb\n",
    "    LR3086_HW01.ipynb\n",
    "    \n",
    "To rename a notebook, in the menubar, select File$\\rightarrow$Rename. The extension for notebook files, `.ipynb`, will already be appended to the filename, but will be hidden from view within the notebook.\n",
    "    \n",
    "This naming format allows for autograding of all assignments. If your files are not named with this format, you should expect a grade of zero for the assignment.\n",
    "\n",
    "Courseworks may rename your file to something like `lr3086_hw0-1.ipynb` if you resubmit your assignment. This is perfectly fine.\n",
    "\n",
    "### What Format To Submit In\n",
    "\n",
    "Most homeworks are in Jupyter notebooks. Once you've finished your homework, unless specified otherwise, please download your work as an `.ipynb` file to your local machine, then upload it to Courseworks when complete (in the menubar, select File$\\rightarrow$Download as$\\rightarrow$Notebook).\n",
    "\n",
    "**Failure to submit a Jupyter notebook will result in a grade of zero for the assignment.**\n",
    "\n",
    "### Grading\n",
    "\n",
    "Possible points on late assignments are deducted by 50% for each day they are late. For example, if you get 80% of the total possible credits on a homework but hand in that homework a day late, you would get 40%. Assignments two days late get zero points.\n",
    "\n",
    "Once solutions are posted and graded assignments are handed back, students have 1 week to bring their grading discrepancies to a CA for consideration of possible grading errors.\n",
    "\n",
    "Because grading is automated, please delete (or comment out) the `raise NotImplmeneted` code before attempting a problem.\n",
    "\n",
    "Empty un-editable cells in an assignment are there for a reason. They will be filled with tests by the automatic grader. Please do not attempt to remove them.\n",
    "\n",
    "### Getting Help\n",
    "\n",
    "Asking for help is a great way to increase your chance of success. However there are some rules. When asking for help (especially from a fellow student), *you can show your helper your code but you can not view theirs*. You work needs to be your own. You can not post screenshots of your current work to Ed Discussions or other tools used for getting help.\n",
    "\n",
    "If you need to reach out to a CA for help, please do so via Ed Discussions and not via email. Answers given via Ed Discussions will help you as well as other students. Thus, emails will always have a lower priority for response than Ed Discussions questions. If you do email the CA, please make a note of what section you are in. This helps us identify you in Courseworks faster.\n",
    "\n",
    "Finally, if you do not get a repsonse from a CA within 48 hours, you may email the professor."
   ]
  },
  {
   "cell_type": "markdown",
   "id": "1fd7ac20",
   "metadata": {},
   "source": [
    "---"
   ]
  },
  {
   "cell_type": "markdown",
   "id": "aa758317",
   "metadata": {
    "deletable": false,
    "editable": false,
    "nbgrader": {
     "cell_type": "markdown",
     "checksum": "af1c366efcdf544bc5b25548e675547a",
     "grade": false,
     "grade_id": "cell-b732a9e4c094b2da",
     "locked": true,
     "schema_version": 3,
     "solution": false,
     "task": false
    }
   },
   "source": [
    "# Homework 1: Fundamentals\n",
    "\n",
    "Total questions: 10 <br/>\n",
    "Total points: 10\n",
    "\n",
    "For this homework, you **may not** import any modules or 3rd party libraries to implement the solutions this homework. However, you may import other modules or libraries if you wish to write any test code for your solutions."
   ]
  },
  {
   "cell_type": "markdown",
   "id": "a90a1dc0",
   "metadata": {
    "deletable": false,
    "editable": false,
    "nbgrader": {
     "cell_type": "markdown",
     "checksum": "1e7c385fd7af203cbb03b5be02433b48",
     "grade": false,
     "grade_id": "cell-3385b54cb3062c7e",
     "locked": true,
     "schema_version": 3,
     "solution": false,
     "task": false
    }
   },
   "source": [
    "### About These Homeworks\n",
    "\n",
    "All assignments will require you to write Python in a designated solution cell to answer each question. \n",
    "\n",
    "The questions will try to be as clear as possible as to what is expected of you to implement.\n",
    "\n",
    "The cells where you are to implement your solution will have the code `raise NotImplemented`. Delete this text and add your answer.\n",
    "\n",
    "There may be 1 or more \"testing\" cells following each solution. Sometimes, you may be able to see testing code that you can execute yourself to make sure your solution implementation is on the right track. Often, though, these test cells are hidden with the comment:\n",
    "\n",
    "```py\n",
    "# CELL INTENTIONALLY EMPTY FOR HIDDEN TESTS - DO NOT DELETE OR OVERWRITE\n",
    "```\n",
    "\n",
    "Both the hidden and not hidden \"testing\" cells are what is being used to grade your solutions."
   ]
  },
  {
   "cell_type": "markdown",
   "id": "807e416b",
   "metadata": {
    "deletable": false,
    "editable": false,
    "nbgrader": {
     "cell_type": "markdown",
     "checksum": "4f4e6d4af9595dbc83aba74f651f0c26",
     "grade": false,
     "grade_id": "cell-3cbd0735702c06af",
     "locked": true,
     "schema_version": 3,
     "solution": false,
     "task": false
    }
   },
   "source": [
    "### Example Question\n",
    "\n",
    "Implement a function called `mascot` that returns a `str` of the type of animal that is Columbia University's mascot. Your answer needs to be all lowercase.\n",
    "\n",
    "[0 points]"
   ]
  },
  {
   "cell_type": "code",
   "execution_count": 1,
   "id": "30ac4ea7",
   "metadata": {
    "deletable": false,
    "nbgrader": {
     "cell_type": "code",
     "checksum": "acb61494381437e717a95cdc0ad8a8d8",
     "grade": false,
     "grade_id": "cell-c28bc3acad8ef95e",
     "locked": false,
     "schema_version": 3,
     "solution": true,
     "task": false
    }
   },
   "outputs": [],
   "source": [
    "# Before implementing your solution\n",
    "def mascot():\n",
    "    # YOUR CODE HERE\n",
    "    return \"lion\"\n",
    "   # raise NotImplementedError()\n",
    "    \n",
    "\n",
    "# After implementing your solution\n",
    "def mascot():\n",
    "    return \"lion\""
   ]
  },
  {
   "cell_type": "code",
   "execution_count": 2,
   "id": "9a794f1e",
   "metadata": {
    "deletable": false,
    "editable": false,
    "nbgrader": {
     "cell_type": "code",
     "checksum": "fdba68cad6a854c24bbdf29349a7e628",
     "grade": true,
     "grade_id": "cell-3f3963169ef8542c",
     "locked": true,
     "points": 0,
     "schema_version": 3,
     "solution": false,
     "task": false
    }
   },
   "outputs": [],
   "source": [
    "# Example \"testing\" cell for grading\n",
    "\n",
    "### BEGIN TESTS\n",
    "# Ensure that the correct mascot is returned\n",
    "assert \"lion\" == mascot()\n",
    "### END TESTS"
   ]
  },
  {
   "cell_type": "markdown",
   "id": "18dae7c5",
   "metadata": {
    "deletable": false,
    "editable": false,
    "nbgrader": {
     "cell_type": "markdown",
     "checksum": "5d29953ebe31b4bcc5ba8fb7722879f4",
     "grade": false,
     "grade_id": "cell-0072e917b0c947c0",
     "locked": true,
     "schema_version": 3,
     "solution": false,
     "task": false
    }
   },
   "source": [
    "### Question 1\n",
    "The `any` and `all` functions in Python's built-in functions can be used to test the truthiness of a sequence of objects all at once. Read the docstrings of the two functions in the [official documentation](https://docs.python.org/3/library/functions.html#all). Then, implement the function `at_least_5_truthy_objects` that returns a `list` of at least 5 objects such that `all(the_list)` will return `True`.\n",
    "\n",
    "[1 point\\]"
   ]
  },
  {
   "cell_type": "code",
   "execution_count": 3,
   "id": "bf91c691",
   "metadata": {
    "deletable": false,
    "nbgrader": {
     "cell_type": "code",
     "checksum": "b6d98ff7a9040bafb1357b7bcdd56d09",
     "grade": false,
     "grade_id": "cell-bb328da8b7180354",
     "locked": false,
     "schema_version": 3,
     "solution": true,
     "task": false
    }
   },
   "outputs": [],
   "source": [
    "def at_least_5_truthy_objects():\n",
    "    # YOUR CODE HERE\n",
    "    l=list()\n",
    "    for i in range(1,6):\n",
    "        l.append(int(i))\n",
    "    return l\n",
    "  #  raise NotImplementedError()\n",
    "    \n"
   ]
  },
  {
   "cell_type": "code",
   "execution_count": 4,
   "id": "7ec6023a",
   "metadata": {
    "deletable": false,
    "editable": false,
    "nbgrader": {
     "cell_type": "code",
     "checksum": "2c2d89087e2a98ec13f1c56cfad468ca",
     "grade": true,
     "grade_id": "cell-021895ed173efccd",
     "locked": true,
     "points": 1,
     "schema_version": 3,
     "solution": false,
     "task": false
    }
   },
   "outputs": [],
   "source": [
    "### BEGIN TESTS\n",
    "result = at_least_5_truthy_objects()\n",
    "\n",
    "# Ensure the result returned is a list\n",
    "assert isinstance(result, list)\n",
    "\n",
    "# Ensure that at least 5 elements are in the list result\n",
    "assert len(result) >= 5\n",
    "\n",
    "# Ensure that all elements in the list evaluate to `True`\n",
    "assert all(result) is True\n",
    "### END TESTS"
   ]
  },
  {
   "cell_type": "markdown",
   "id": "6b9c8226",
   "metadata": {
    "deletable": false,
    "editable": false,
    "nbgrader": {
     "cell_type": "markdown",
     "checksum": "828dc730430bd13704585ee195213950",
     "grade": false,
     "grade_id": "cell-0f97ba9e187da864",
     "locked": true,
     "schema_version": 3,
     "solution": false,
     "task": false
    }
   },
   "source": [
    "### Question 2 \n",
    "Implement the function `escape_sequences` that returns a container with two strings: one string the escape sequence for tabs, and one string for the escape sequence for newlines.\n",
    "\n",
    "[1 point\\]"
   ]
  },
  {
   "cell_type": "code",
   "execution_count": 5,
   "id": "9640078e",
   "metadata": {
    "deletable": false,
    "nbgrader": {
     "cell_type": "code",
     "checksum": "0db8a73cac18bd2992b65da71a87b780",
     "grade": false,
     "grade_id": "cell-3bd62fd9c0f5eb7d",
     "locked": false,
     "schema_version": 3,
     "solution": true,
     "task": false
    }
   },
   "outputs": [],
   "source": [
    "def escape_sequences():\n",
    "    # YOUR CODE HERE\n",
    "    return [\"\\t\", \"\\n\"]\n",
    "\n",
    "\n",
    "#vettore=escape_sequences()\n",
    "#str1=\"ciao\"+vettore[0]+\"tutto ok\"\n",
    "#str2=\"ciao\"+vettore[1]+\"tutto ok\"\n",
    "\n",
    "#print(str1)\n",
    "#print(str2)\n",
    "   # raise NotImplementedError()"
   ]
  },
  {
   "cell_type": "code",
   "execution_count": 6,
   "id": "986deeb6",
   "metadata": {
    "deletable": false,
    "editable": false,
    "nbgrader": {
     "cell_type": "code",
     "checksum": "a3519739ac3a483e6ce4856480b2d99e",
     "grade": true,
     "grade_id": "cell-20c8bdd1f08ad2bc",
     "locked": true,
     "points": 1,
     "schema_version": 3,
     "solution": false,
     "task": false
    }
   },
   "outputs": [],
   "source": [
    "# CELL INTENTIONALLY EMPTY FOR HIDDEN TESTS - DO NOT DELETE OR OVERWRITE"
   ]
  },
  {
   "cell_type": "markdown",
   "id": "7b0028f4",
   "metadata": {
    "deletable": false,
    "editable": false,
    "nbgrader": {
     "cell_type": "markdown",
     "checksum": "fef30eb2414147d3492ef2c3d805fba7",
     "grade": false,
     "grade_id": "cell-a4a1aa8d355bf06e",
     "locked": true,
     "schema_version": 3,
     "solution": false,
     "task": false
    }
   },
   "source": [
    "### Question 3\n",
    "Imagine a function named `mod_2_of_first_11_numbers` which computes, for each number between 0 and 10 inclusive, a list of the numbers modulo 2. (Recall that here we mean the remainder of the number when divided by 2).\n",
    "\n",
    "The result of this first function should be the sequence: `[0, 1, 0, 1, 0, 1, 0, 1, 0, 1, 0]`.\n",
    "\n",
    "Generalize this by writing a function named `mod_n_of_first_11_numbers`, which takes as input a number `n` and returns a `list` containing `x mod n` for each `x` from 0 to 10 inclusive as above.\n",
    "\n",
    "For this question, it may be worthwhile to familiarize yourself with [list types](https://docs.python.org/3/library/stdtypes.html#typesseq-list) in Python, as well as the [operations](https://docs.python.org/3/library/stdtypes.html#mutable-sequence-types) you can do on `list`s.\n",
    "\n",
    "[1 point\\]"
   ]
  },
  {
   "cell_type": "code",
   "execution_count": 7,
   "id": "1976af40",
   "metadata": {
    "deletable": false,
    "nbgrader": {
     "cell_type": "code",
     "checksum": "435806ca8d235177de9f493da3010a3c",
     "grade": false,
     "grade_id": "cell-5f9b4478d1f52029",
     "locked": false,
     "schema_version": 3,
     "solution": true,
     "task": false
    }
   },
   "outputs": [],
   "source": [
    "def mod_n_of_first_11_numbers(n):\n",
    "    # YOUR CODE HERE\n",
    "    l=list()\n",
    "    for i in range(11):\n",
    "        l.append(i%n)\n",
    "\n",
    "    return l\n",
    "\n",
    "#ok=mod_n_of_first_11_numbers(5)\n",
    "#ok\n",
    "\n",
    "   # raise NotImplementedError()"
   ]
  },
  {
   "cell_type": "code",
   "execution_count": 8,
   "id": "2cc884d0",
   "metadata": {
    "deletable": false,
    "editable": false,
    "nbgrader": {
     "cell_type": "code",
     "checksum": "3fbb133b754ea4b97a5c438cff9cbfcc",
     "grade": true,
     "grade_id": "cell-79faddd0988bef88",
     "locked": true,
     "points": 0.25,
     "schema_version": 3,
     "solution": false,
     "task": false
    }
   },
   "outputs": [],
   "source": [
    "### BEGIN TESTS\n",
    "# Ensure the function returns the expected result as detailed in the prompt.\n",
    "assert mod_n_of_first_11_numbers(2) == [0, 1, 0, 1, 0, 1, 0, 1, 0, 1, 0]\n",
    "### END TESTS"
   ]
  },
  {
   "cell_type": "code",
   "execution_count": 9,
   "id": "8eb83ae3",
   "metadata": {
    "deletable": false,
    "editable": false,
    "nbgrader": {
     "cell_type": "code",
     "checksum": "172761c7ee308b757d008e14272cacdd",
     "grade": true,
     "grade_id": "cell-597510d1ea8b0523",
     "locked": true,
     "points": 0.75,
     "schema_version": 3,
     "solution": false,
     "task": false
    }
   },
   "outputs": [],
   "source": [
    "# CELL INTENTIONALLY EMPTY FOR HIDDEN TESTS - DO NOT DELETE OR OVERWRITE"
   ]
  },
  {
   "cell_type": "markdown",
   "id": "2bd3e3db",
   "metadata": {
    "deletable": false,
    "editable": false,
    "nbgrader": {
     "cell_type": "markdown",
     "checksum": "847dfbc6fce66e45bcf17b77abc1188d",
     "grade": false,
     "grade_id": "cell-9f06c144775b2ba5",
     "locked": true,
     "schema_version": 3,
     "solution": false,
     "task": false
    }
   },
   "source": [
    "### Question 4\n",
    "Being able to read and understand error messages is an incredibly important skill.\n",
    "\n",
    "Get Python to emit at least 2 distinct error messages. For each, share the code which generates the error message, and explain (in a short comment alongside it) how you interpret the error message -- what is it trying to explain about the broken code?\n",
    "\n",
    "You may write a single line, or a function, or anything you can think of – so long as each solution produces a different error message. \n",
    "\n",
    "An example:\n",
    "\n",
    "```py\n",
    "# raises a SyntaxError because Python doesn't recognize all caps for the `def` keyword:\n",
    "DEF foo():\n",
    "    print('bar')\n",
    "```\n",
    "\n",
    "_Note: `SyntaxError` may be 1 of the 2 distinct error messages raised in your solutions._\n",
    "\n",
    "[1 point\\]"
   ]
  },
  {
   "cell_type": "code",
   "execution_count": 10,
   "id": "6153fd05",
   "metadata": {
    "deletable": false,
    "nbgrader": {
     "cell_type": "code",
     "checksum": "a8eecee08f9f272a6c18ab4512093ee3",
     "grade": true,
     "grade_id": "cell-67412940a2bd4b3a",
     "locked": false,
     "points": 0.5,
     "schema_version": 3,
     "solution": true,
     "task": false
    }
   },
   "outputs": [
    {
     "ename": "IndentationError",
     "evalue": "expected an indented block (3780871025.py, line 10)",
     "output_type": "error",
     "traceback": [
      "\u001b[1;36m  Input \u001b[1;32mIn [10]\u001b[1;36m\u001b[0m\n\u001b[1;33m    l.append(i)\u001b[0m\n\u001b[1;37m    ^\u001b[0m\n\u001b[1;31mIndentationError\u001b[0m\u001b[1;31m:\u001b[0m expected an indented block\n"
     ]
    }
   ],
   "source": [
    "# First code producing an error:\n",
    "\n",
    "\n",
    "# YOUR CODE HERE\n",
    "\n",
    "\n",
    "i=0\n",
    "l=list()\n",
    "while(i<5):\n",
    "l.append(i)\n",
    "\n",
    "#raises an IndentationError because what is in the while needs to be indented to make Python understand that line of code\n",
    "#refers to the while loop\n",
    "\n",
    "#raise NotImplementedError()"
   ]
  },
  {
   "cell_type": "code",
   "execution_count": 11,
   "id": "589b2fb5",
   "metadata": {
    "deletable": false,
    "nbgrader": {
     "cell_type": "code",
     "checksum": "7bbb53e79b44573f20a8a50168d5708c",
     "grade": true,
     "grade_id": "cell-e60676a4337d241c",
     "locked": false,
     "points": 0.5,
     "schema_version": 3,
     "solution": true,
     "task": false
    }
   },
   "outputs": [
    {
     "ename": "IndexError",
     "evalue": "list index out of range",
     "output_type": "error",
     "traceback": [
      "\u001b[1;31m---------------------------------------------------------------------------\u001b[0m",
      "\u001b[1;31mIndexError\u001b[0m                                Traceback (most recent call last)",
      "Input \u001b[1;32mIn [11]\u001b[0m, in \u001b[0;36m<cell line: 6>\u001b[1;34m()\u001b[0m\n\u001b[0;32m      1\u001b[0m \u001b[38;5;66;03m# Second code producing an error:\u001b[39;00m\n\u001b[0;32m      2\u001b[0m \n\u001b[0;32m      3\u001b[0m \u001b[38;5;66;03m# YOUR CODE HERE\u001b[39;00m\n\u001b[0;32m      5\u001b[0m v\u001b[38;5;241m=\u001b[39m[\u001b[38;5;241m1\u001b[39m,\u001b[38;5;241m2\u001b[39m,\u001b[38;5;241m3\u001b[39m]\n\u001b[1;32m----> 6\u001b[0m \u001b[43mv\u001b[49m\u001b[43m[\u001b[49m\u001b[38;5;241;43m3\u001b[39;49m\u001b[43m]\u001b[49m\n",
      "\u001b[1;31mIndexError\u001b[0m: list index out of range"
     ]
    }
   ],
   "source": [
    "# Second code producing an error:\n",
    "\n",
    "# YOUR CODE HERE\n",
    "\n",
    "v=[1,2,3]\n",
    "v[3]\n",
    "\n",
    "#raises an IndexError saying list index out of range. The maximum index for this list is 2. Trying to access index 4,\n",
    "#Python doesn't find anything. We are out of range. \n",
    "\n",
    "#raise NotImplementedError()"
   ]
  },
  {
   "cell_type": "markdown",
   "id": "1a8f8a13",
   "metadata": {
    "deletable": false,
    "editable": false,
    "nbgrader": {
     "cell_type": "markdown",
     "checksum": "cdd0023e98dc72e47feeab20737eda9c",
     "grade": false,
     "grade_id": "cell-948f0462fbb233d0",
     "locked": true,
     "schema_version": 3,
     "solution": false,
     "task": false
    }
   },
   "source": [
    "### Question 5\n",
    "\n",
    "Read \"PEP 8\" and \"PEP 257\" (you may need to do some Googling to find these).\n",
    "\n",
    "Write a function named `recommendations` that returns a `tuple` object containing two integers. The first integer in the `tuple` should be the recommended indentation level (when using spaces) within Python. The second integer should be the recommended number of quotes to use when creating a docstring (not the total quotes, only the quotes needed to start a docstring).\n",
    "\n",
    "[1 point\\]"
   ]
  },
  {
   "cell_type": "code",
   "execution_count": null,
   "id": "fe6f6362",
   "metadata": {
    "deletable": false,
    "nbgrader": {
     "cell_type": "code",
     "checksum": "084dd108005034e5afd6c778b958920f",
     "grade": false,
     "grade_id": "cell-7502dcbe139d231d",
     "locked": false,
     "schema_version": 3,
     "solution": true,
     "task": false
    }
   },
   "outputs": [],
   "source": [
    "def recommendations():\n",
    "    # YOUR CODE HERE\n",
    "    return (4, 3)\n",
    "   # raise NotImplementedError()"
   ]
  },
  {
   "cell_type": "code",
   "execution_count": null,
   "id": "e9c089f8",
   "metadata": {
    "deletable": false,
    "editable": false,
    "nbgrader": {
     "cell_type": "code",
     "checksum": "9dcd7501cc07443b9d03d8c9b9df04c0",
     "grade": true,
     "grade_id": "cell-836bd3411cac1f32",
     "locked": true,
     "points": 0,
     "schema_version": 3,
     "solution": false,
     "task": false
    }
   },
   "outputs": [],
   "source": [
    "### BEGIN TESTS\n",
    "result = recommendations()\n",
    "\n",
    "# Ensure that a tuple is returned\n",
    "assert isinstance(result, tuple)\n",
    "\n",
    "# Ensure that two elements are returned\n",
    "assert len(result) == 2\n",
    "### END TESTS"
   ]
  },
  {
   "cell_type": "code",
   "execution_count": null,
   "id": "b22075de",
   "metadata": {
    "deletable": false,
    "editable": false,
    "nbgrader": {
     "cell_type": "code",
     "checksum": "02c9094a00e7734f2602a70186a60de6",
     "grade": true,
     "grade_id": "cell-b5ec83468b26bb91",
     "locked": true,
     "points": 1,
     "schema_version": 3,
     "solution": false,
     "task": false
    }
   },
   "outputs": [],
   "source": [
    "# CELL INTENTIONALLY EMPTY FOR HIDDEN TESTS - DO NOT DELETE OR OVERWRITE"
   ]
  },
  {
   "cell_type": "markdown",
   "id": "26dede45",
   "metadata": {
    "deletable": false,
    "editable": false,
    "nbgrader": {
     "cell_type": "markdown",
     "checksum": "cf52b647152f792967ded06cc55eb3c2",
     "grade": false,
     "grade_id": "cell-c0f5ccff7aafff5e",
     "locked": true,
     "schema_version": 3,
     "solution": false,
     "task": false
    }
   },
   "source": [
    "### Question 6\n",
    "\n",
    "Implement a function `print_me` that prints your favorite word to the screen 10,000 times. I suggest you don't actually _execute_ this function yourself - otherwise you'll see a lot of your favorite word.\n",
    "\n",
    "The function can use one built-in function, one string, one integer, and one binary operation. The function does not need to return anything.\n",
    "\n",
    "[1 point\\]"
   ]
  },
  {
   "cell_type": "code",
   "execution_count": null,
   "id": "01b9b5f7",
   "metadata": {
    "deletable": false,
    "nbgrader": {
     "cell_type": "code",
     "checksum": "aad0ba316273d7b2a5e7a404de64a8be",
     "grade": false,
     "grade_id": "cell-c002c69524586b06",
     "locked": false,
     "schema_version": 3,
     "solution": true,
     "task": false
    }
   },
   "outputs": [],
   "source": [
    "def print_me():\n",
    "    # YOUR CODE HERE\n",
    "    \n",
    "    i=0\n",
    "    while i<10000:\n",
    "    \n",
    "        print(\"pizza\")\n",
    "        i+=1\n",
    "   # raise NotImplementedError()\n",
    "\n",
    "#print_me()"
   ]
  },
  {
   "cell_type": "code",
   "execution_count": null,
   "id": "fa3e6b7a",
   "metadata": {
    "deletable": false,
    "editable": false,
    "nbgrader": {
     "cell_type": "code",
     "checksum": "00f68b2fc69c8d146013eee70f8699c1",
     "grade": true,
     "grade_id": "cell-3218c0618af85f7a",
     "locked": true,
     "points": 1,
     "schema_version": 3,
     "solution": false,
     "task": false
    }
   },
   "outputs": [],
   "source": [
    "# CELL INTENTIONALLY EMPTY FOR HIDDEN TESTS - DO NOT DELETE OR OVERWRITE"
   ]
  },
  {
   "cell_type": "markdown",
   "id": "6f921748",
   "metadata": {
    "deletable": false,
    "editable": false,
    "nbgrader": {
     "cell_type": "markdown",
     "checksum": "600dadee23b9f17518fb10ae2159da63",
     "grade": false,
     "grade_id": "cell-497a1decac3c8f4e",
     "locked": true,
     "schema_version": 3,
     "solution": false,
     "task": false
    }
   },
   "source": [
    "### Question 7\n",
    "\n",
    "Implement the function called `flip_it` that takes in two arguments, `a` and `b`. In the function, swap the values for `a` and `b`. Then have the function return `tuple(a, b)`.\n",
    "\n",
    "You may _not_ do the following:\n",
    "\n",
    "```py\n",
    "def flip_it(a, b):\n",
    "    return b, a\n",
    "```\n",
    "\n",
    "You must figure out how to swap values by assignment.\n",
    "\n",
    "[1 point]"
   ]
  },
  {
   "cell_type": "code",
   "execution_count": null,
   "id": "f3fb49d9",
   "metadata": {
    "deletable": false,
    "nbgrader": {
     "cell_type": "code",
     "checksum": "a956d805bda29f92f7e5895de91e5734",
     "grade": false,
     "grade_id": "cell-5ed06f5022e9e40f",
     "locked": false,
     "schema_version": 3,
     "solution": true,
     "task": false
    }
   },
   "outputs": [],
   "source": [
    "def flip_it(a, b):\n",
    "    # YOUR CODE HERE\n",
    "    temp=a\n",
    "    a=b\n",
    "    b=temp\n",
    "    \n",
    "    return tuple([a,b])\n",
    "    #raise NotImplementedError()\n",
    "    \n",
    "  \n",
    " #flip_it(3,4)  "
   ]
  },
  {
   "cell_type": "code",
   "execution_count": null,
   "id": "371e1adb",
   "metadata": {
    "deletable": false,
    "editable": false,
    "nbgrader": {
     "cell_type": "code",
     "checksum": "de2af939b3ee957e88713e73fbb20ef6",
     "grade": true,
     "grade_id": "cell-737e4ad80303b5bb",
     "locked": true,
     "points": 1,
     "schema_version": 3,
     "solution": false,
     "task": false
    }
   },
   "outputs": [],
   "source": [
    "# CELL INTENTIONALLY EMPTY FOR HIDDEN TESTS - DO NOT DELETE OR OVERWRITE"
   ]
  },
  {
   "cell_type": "markdown",
   "id": "f7e87382",
   "metadata": {
    "deletable": false,
    "editable": false,
    "nbgrader": {
     "cell_type": "markdown",
     "checksum": "a354742a393f80cb45e37fa1cc9c1e56",
     "grade": false,
     "grade_id": "cell-c2a844d2f715cc4d",
     "locked": true,
     "schema_version": 3,
     "solution": false,
     "task": false
    }
   },
   "source": [
    "### Question 8\n",
    "\n",
    "Implement the function `convert` that takes a bytestring (like the one given, prefaced by the `b`) and decodes it into a regular Python string. Convert this bytesting via the UTF-8 encoding.\n",
    "\n",
    "    b'\\xf0\\x9f\\x8d\\xa9 + \\xf0\\x9f\\x8d\\xb5'\n",
    "\n",
    "[1 point]"
   ]
  },
  {
   "cell_type": "code",
   "execution_count": null,
   "id": "1bb0a52a",
   "metadata": {
    "deletable": false,
    "nbgrader": {
     "cell_type": "code",
     "checksum": "b5f9ab7487e0c14414fb227a9d5ba93b",
     "grade": false,
     "grade_id": "cell-3131b5f768009266",
     "locked": false,
     "schema_version": 3,
     "solution": true,
     "task": false
    }
   },
   "outputs": [],
   "source": [
    "def convert(bytestring):\n",
    "    # YOUR CODE HERE\n",
    "    converted=bytestring.decode(encoding='UTF-8', errors='strict')\n",
    "    return converted\n",
    "   # raise NotImplementedError()\n",
    "    \n",
    "    "
   ]
  },
  {
   "cell_type": "code",
   "execution_count": null,
   "id": "b7b3ec64",
   "metadata": {
    "deletable": false,
    "editable": false,
    "nbgrader": {
     "cell_type": "code",
     "checksum": "cf0c4f9b0cfd8d31819ec0bf78815eae",
     "grade": true,
     "grade_id": "cell-836530e3ed5e4eb4",
     "locked": true,
     "points": 0.5,
     "schema_version": 3,
     "solution": false,
     "task": false
    }
   },
   "outputs": [],
   "source": [
    "### BEGIN TESTS\n",
    "\n",
    "input_bytestring = b'\\xf0\\x9f\\x8d\\xa9 + \\xf0\\x9f\\x8d\\xb5'\n",
    "\n",
    "# Ensure bytestring returns a string of a donut and coffee emoji\n",
    "assert convert(input_bytestring) == '🍩 + 🍵'\n",
    "\n",
    "### END TESTS"
   ]
  },
  {
   "cell_type": "code",
   "execution_count": null,
   "id": "e2c84dcc",
   "metadata": {
    "deletable": false,
    "editable": false,
    "nbgrader": {
     "cell_type": "code",
     "checksum": "e7faa0e28e67e3c4fc6df536afcce141",
     "grade": true,
     "grade_id": "cell-8e4d3c97401e1352",
     "locked": true,
     "points": 0.5,
     "schema_version": 3,
     "solution": false,
     "task": false
    }
   },
   "outputs": [],
   "source": [
    "# CELL INTENTIONALLY EMPTY FOR HIDDEN TESTS - DO NOT DELETE OR OVERWRITE"
   ]
  },
  {
   "cell_type": "markdown",
   "id": "11cd3b10",
   "metadata": {
    "deletable": false,
    "editable": false,
    "nbgrader": {
     "cell_type": "markdown",
     "checksum": "9dc04a0989a00538e3175245e494b785",
     "grade": false,
     "grade_id": "cell-20c2be185089c65f",
     "locked": true,
     "schema_version": 3,
     "solution": false,
     "task": false
    }
   },
   "source": [
    "### Question 9\n",
    "\n",
    "**Multiple choice**\n",
    "\n",
    "What is `pip`? You may need to do some Googling to figure this out.\n",
    "\n",
    "* `1`: `pip` is used to install and manage software packages for Python.\n",
    "* `2`: `pip` is the compiler that Python uses.\n",
    "* `3`: `pip` is where Python packages are downloaded from.\n",
    "\n",
    "Write a function `what_is_pip` that returns your answer as an integer of either `1`, `2`, or `3`.\n",
    "\n",
    "[1 point\\]"
   ]
  },
  {
   "cell_type": "code",
   "execution_count": null,
   "id": "12297d65",
   "metadata": {
    "deletable": false,
    "nbgrader": {
     "cell_type": "code",
     "checksum": "89b9571613ef09b837669d646e53a660",
     "grade": false,
     "grade_id": "cell-d5f53415908f5309",
     "locked": false,
     "schema_version": 3,
     "solution": true,
     "task": false
    }
   },
   "outputs": [],
   "source": [
    "def what_is_pip():\n",
    "    # YOUR CODE HERE\n",
    "    return 1;\n",
    "   # raise NotImplementedError()"
   ]
  },
  {
   "cell_type": "code",
   "execution_count": null,
   "id": "fdea0f58",
   "metadata": {
    "deletable": false,
    "editable": false,
    "nbgrader": {
     "cell_type": "code",
     "checksum": "9a21347196f005a409fd2c4737d6dc85",
     "grade": true,
     "grade_id": "cell-b03e76212db6ab20",
     "locked": true,
     "points": 0,
     "schema_version": 3,
     "solution": false,
     "task": false
    }
   },
   "outputs": [],
   "source": [
    "### BEGIN TESTS\n",
    "\n",
    "answer = what_is_pip()\n",
    "# Ensure the answer is one of the possible solutions.\n",
    "assert answer in (1, 2, 3)\n",
    "\n",
    "### END TESTS"
   ]
  },
  {
   "cell_type": "code",
   "execution_count": null,
   "id": "182daf55",
   "metadata": {
    "deletable": false,
    "editable": false,
    "nbgrader": {
     "cell_type": "code",
     "checksum": "02c15c0030521226dd076cb152f2623a",
     "grade": true,
     "grade_id": "cell-6c93da5e468274a5",
     "locked": true,
     "points": 1,
     "schema_version": 3,
     "solution": false,
     "task": false
    }
   },
   "outputs": [],
   "source": [
    "# CELL INTENTIONALLY EMPTY FOR HIDDEN TESTS - DO NOT DELETE OR OVERWRITE"
   ]
  },
  {
   "cell_type": "markdown",
   "id": "ee1f5564",
   "metadata": {
    "deletable": false,
    "editable": false,
    "nbgrader": {
     "cell_type": "markdown",
     "checksum": "8fb00e5b80584ed99764fd8deda3380d",
     "grade": false,
     "grade_id": "cell-619dd8ab605a0f25",
     "locked": true,
     "schema_version": 3,
     "solution": false,
     "task": false
    }
   },
   "source": [
    "### Question 10\n",
    "\n",
    "Another important skill is being able to read the provided documentation of a language. \n",
    "\n",
    "Recall that Python has many [built-in functions](https://docs.python.org/3/library/functions.html). \n",
    "\n",
    "Correctly call 4 different built-in Python functions. For each, in a short comment alongside it, briefly describe what the built-in function does in your own words. Do _not_ copy the description in the Python documentation.\n",
    "\n",
    "An example of an expected answer:\n",
    "\n",
    "```py\n",
    "abs(-5) # calculates the absolute value of a given number\n",
    "```\n",
    "\n",
    "You may **not** choose `print`, `input`, `type`, `help`, `any`, `all`, or `abs`.\n",
    "\n",
    "[1 point\\]"
   ]
  },
  {
   "cell_type": "code",
   "execution_count": null,
   "id": "527dbe46",
   "metadata": {
    "deletable": false,
    "nbgrader": {
     "cell_type": "code",
     "checksum": "ef5b4ab227193d491a7ffd2914b234d7",
     "grade": true,
     "grade_id": "cell-6f630e47a4c62338",
     "locked": false,
     "points": 0.25,
     "schema_version": 3,
     "solution": true,
     "task": false
    }
   },
   "outputs": [],
   "source": [
    "# First code calling a built-in function:\n",
    "\n",
    "# YOUR CODE HERE\n",
    "\n",
    "bool(4<5) #returnes True whether the given object is true, or False if the given object is false\n",
    "#we can put any object into this function\n",
    "\n",
    "#raise NotImplementedError()"
   ]
  },
  {
   "cell_type": "code",
   "execution_count": null,
   "id": "c0b3b7bc",
   "metadata": {
    "deletable": false,
    "nbgrader": {
     "cell_type": "code",
     "checksum": "1b5405a4f8d773520f705349f419d986",
     "grade": true,
     "grade_id": "cell-6004aabb2b191ff1",
     "locked": false,
     "points": 0.25,
     "schema_version": 3,
     "solution": true,
     "task": false
    }
   },
   "outputs": [],
   "source": [
    "# Second code calling a built-in function:\n",
    "\n",
    "# YOUR CODE HERE\n",
    "chr(80) #gets a unicode and gives back the corresponding character to that unicode\n",
    "\n",
    "#raise NotImplementedError()"
   ]
  },
  {
   "cell_type": "code",
   "execution_count": null,
   "id": "c0431e5e",
   "metadata": {
    "deletable": false,
    "nbgrader": {
     "cell_type": "code",
     "checksum": "4b380a748254644e1475ff45e74fe5c5",
     "grade": true,
     "grade_id": "cell-610da78d376625b6",
     "locked": false,
     "points": 0.25,
     "schema_version": 3,
     "solution": true,
     "task": false
    }
   },
   "outputs": [],
   "source": [
    "# Third code calling a built-in function:\n",
    "\n",
    "# YOUR CODE HERE\n",
    "\n",
    "round(28.67,1) #rounds a number to the number of decimals given. Default value is zero decimal, so the number will be rounded\n",
    "#to the nearest integer\n",
    "#raise NotImplementedError()"
   ]
  },
  {
   "cell_type": "code",
   "execution_count": null,
   "id": "32a67ade",
   "metadata": {
    "deletable": false,
    "nbgrader": {
     "cell_type": "code",
     "checksum": "48e30d150bbf9e854d2245798db8c6c1",
     "grade": true,
     "grade_id": "cell-258be40bb3e61fa8",
     "locked": false,
     "points": 0.25,
     "schema_version": 3,
     "solution": true,
     "task": false
    }
   },
   "outputs": [],
   "source": [
    "# Forth code calling a built-in function:\n",
    "\n",
    "# YOUR CODE HERE\n",
    "sum([1,2,3]) #sums the sequence that receives\n",
    "#raise NotImplementedError()"
   ]
  },
  {
   "cell_type": "code",
   "execution_count": null,
   "id": "620f92d8",
   "metadata": {},
   "outputs": [],
   "source": []
  },
  {
   "cell_type": "code",
   "execution_count": null,
   "id": "290a7374",
   "metadata": {},
   "outputs": [],
   "source": []
  }
 ],
 "metadata": {
  "kernelspec": {
   "display_name": "Python 3 (ipykernel)",
   "language": "python",
   "name": "python3"
  },
  "language_info": {
   "codemirror_mode": {
    "name": "ipython",
    "version": 3
   },
   "file_extension": ".py",
   "mimetype": "text/x-python",
   "name": "python",
   "nbconvert_exporter": "python",
   "pygments_lexer": "ipython3",
   "version": "3.9.12"
  }
 },
 "nbformat": 4,
 "nbformat_minor": 5
}
